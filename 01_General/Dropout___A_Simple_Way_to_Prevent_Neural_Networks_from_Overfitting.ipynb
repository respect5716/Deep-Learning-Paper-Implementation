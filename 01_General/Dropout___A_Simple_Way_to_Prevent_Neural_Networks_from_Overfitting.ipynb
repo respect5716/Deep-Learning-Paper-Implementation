{
  "nbformat": 4,
  "nbformat_minor": 0,
  "metadata": {
    "colab": {
      "name": "Dropout _ A Simple Way to Prevent Neural Networks from Overfitting",
      "provenance": [],
      "collapsed_sections": [],
      "toc_visible": true
    },
    "kernelspec": {
      "name": "python3",
      "display_name": "Python 3"
    },
    "accelerator": "GPU"
  },
  "cells": [
    {
      "cell_type": "markdown",
      "metadata": {
        "id": "wzh7yGxNDluC",
        "colab_type": "text"
      },
      "source": [
        "# Dropout _ A Simple Way to Prevent Neural Networks from Overfitting"
      ]
    },
    {
      "cell_type": "markdown",
      "metadata": {
        "id": "Iki6sM3EDsjS",
        "colab_type": "text"
      },
      "source": [
        "## 0. Paper"
      ]
    },
    {
      "cell_type": "markdown",
      "metadata": {
        "id": "subFe3E5DttM",
        "colab_type": "text"
      },
      "source": [
        "### Info\n",
        "* TItle : Dropout _ A Simple Way to Prevent Neural Networks from Overfitting\n",
        "* Author : Nitish Srivastava et al.\n",
        "* Link : https://jmlr.org/papers/volume15/srivastava14a.old/srivastava14a.pdf"
      ]
    },
    {
      "cell_type": "markdown",
      "metadata": {
        "id": "PvL7j-dcEHBW",
        "colab_type": "text"
      },
      "source": [
        "### Summary\n",
        "* 학습 과정에서 일정 확률로 파라미터를 drop 시킴\n",
        "* ensemble 기능을 함으로써 overfitting 방지"
      ]
    },
    {
      "cell_type": "markdown",
      "metadata": {
        "id": "vTR7QXvpDz_j",
        "colab_type": "text"
      },
      "source": [
        "### Differences\n",
        "* ##"
      ]
    },
    {
      "cell_type": "markdown",
      "metadata": {
        "id": "JuaQpOWMD9tz",
        "colab_type": "text"
      },
      "source": [
        "## 1. Setting"
      ]
    },
    {
      "cell_type": "code",
      "metadata": {
        "id": "ZizQk84lEC3L",
        "colab_type": "code",
        "colab": {}
      },
      "source": [
        "# Libraries\n",
        "import os\n",
        "import numpy as np\n",
        "import pandas as pd\n",
        "import seaborn as sns\n",
        "import matplotlib.pyplot as plt\n",
        "\n",
        "import tensorflow as tf\n",
        "import tensorflow_addons as tfa"
      ],
      "execution_count": null,
      "outputs": []
    },
    {
      "cell_type": "code",
      "metadata": {
        "id": "Wsk7XAE2Lz_g",
        "colab_type": "code",
        "colab": {}
      },
      "source": [
        "# Hyperparameters\n",
        "CONFIG = {\n",
        "    'base_dir' : '/content/drive/Shared drives/Yoon/Project/Doing/Deep Learning Paper Implementation',\n",
        "    'batch_size' : 128,\n",
        "    'epoch_size' : 50\n",
        "}"
      ],
      "execution_count": null,
      "outputs": []
    },
    {
      "cell_type": "markdown",
      "metadata": {
        "id": "Qd9D_aouEVMB",
        "colab_type": "text"
      },
      "source": [
        "## 2. Data"
      ]
    },
    {
      "cell_type": "code",
      "metadata": {
        "id": "hzYjD0NkEzIs",
        "colab_type": "code",
        "colab": {}
      },
      "source": [
        "(x_train, y_train), (x_test, y_test) = tf.keras.datasets.cifar10.load_data()"
      ],
      "execution_count": null,
      "outputs": []
    },
    {
      "cell_type": "code",
      "metadata": {
        "id": "gCdnQjRJFn-M",
        "colab_type": "code",
        "colab": {}
      },
      "source": [
        "x_train = x_train.astype(np.float32) / 255\n",
        "x_test = x_test.astype(np.float32) / 255"
      ],
      "execution_count": null,
      "outputs": []
    },
    {
      "cell_type": "markdown",
      "metadata": {
        "id": "bLljDsOoFoLN",
        "colab_type": "text"
      },
      "source": [
        "## 3. Model"
      ]
    },
    {
      "cell_type": "code",
      "metadata": {
        "id": "2NbRhIkmFo47",
        "colab_type": "code",
        "colab": {}
      },
      "source": [
        "class DropoutLayer(tf.keras.layers.Layer):\n",
        "    def __init__(self, drop_rate):\n",
        "        super(DropoutLayer, self).__init__()\n",
        "        self.drop_rate = drop_rate\n",
        "\n",
        "    def call(self, x, training=False):\n",
        "        if training:\n",
        "            mask_shape = x.shape\n",
        "            if not mask_shape[0]:\n",
        "                mask_shape = [1] + list(mask_shape[1:])\n",
        "            drop_mask = tf.keras.backend.random_bernoulli(mask_shape, p=1-self.drop_rate, dtype=tf.float32)\n",
        "            x *= drop_mask\n",
        "        else:\n",
        "            x *= 1 - self.drop_rate\n",
        "        return x"
      ],
      "execution_count": null,
      "outputs": []
    },
    {
      "cell_type": "code",
      "metadata": {
        "id": "TpggCs692aDB",
        "colab_type": "code",
        "colab": {}
      },
      "source": [
        "class ModelDropout(tf.keras.Model):\n",
        "    def __init__(self):\n",
        "        super(ModelDropout, self).__init__()\n",
        "\n",
        "        self.dropout1 = DropoutLayer(0.1)\n",
        "        self.conv1 = tf.keras.layers.Conv2D(96, 5, padding='same', activation='relu')\n",
        "        self.pool1 = tf.keras.layers.MaxPool2D(3, 2)\n",
        "        self.dropout2 = DropoutLayer(0.25)\n",
        "        self.conv2 = tf.keras.layers.Conv2D(128, 5, padding='same', activation='relu')\n",
        "        self.pool2 = tf.keras.layers.MaxPool2D(3, 2)\n",
        "        self.dropout3 = DropoutLayer(0.25)\n",
        "        self.conv3 = tf.keras.layers.Conv2D(256, 5, padding='same', activation='relu')\n",
        "        self.pool3 = tf.keras.layers.MaxPool2D(3, 2)\n",
        "        self.dropout4 = DropoutLayer(0.5)\n",
        "\n",
        "        self.flatten = tf.keras.layers.Flatten()\n",
        "        self.fc1 = tf.keras.layers.Dense(2048, activation='relu')\n",
        "        self.dropout5 = DropoutLayer(0.5)\n",
        "        self.fc2 = tf.keras.layers.Dense(2048, activation='relu')\n",
        "        self.dropout6 = DropoutLayer(0.5)\n",
        "        self.fc3 = tf.keras.layers.Dense(10, activation='softmax')\n",
        "    \n",
        "    def call(self, x ,training):\n",
        "        x = self.dropout1(x, training=training)\n",
        "        x = self.pool1(self.conv1(x))\n",
        "        x = self.dropout2(x, training=training)\n",
        "        x = self.pool2(self.conv2(x))\n",
        "        x = self.dropout3(x, training=training)\n",
        "        x = self.pool3(self.conv3(x))\n",
        "        x = self.dropout4(x, training=training)\n",
        "\n",
        "        x = self.flatten(x)\n",
        "        x = self.fc1(x)\n",
        "        x = self.dropout5(x, training=training)\n",
        "        x = self.fc2(x)\n",
        "        x = self.dropout6(x, training=training)\n",
        "        x = self.fc3(x)\n",
        "        return x\n",
        "\n",
        "class ModelNODropout(tf.keras.Model):\n",
        "    def __init__(self):\n",
        "        super(ModelNODropout, self).__init__()\n",
        "\n",
        "        self.conv1 = tf.keras.layers.Conv2D(96, 5, padding='same', activation='relu')\n",
        "        self.pool1 = tf.keras.layers.MaxPool2D(3, 2)\n",
        "        self.conv2 = tf.keras.layers.Conv2D(128, 5, padding='same', activation='relu')\n",
        "        self.pool2 = tf.keras.layers.MaxPool2D(3, 2)\n",
        "        self.conv3 = tf.keras.layers.Conv2D(256, 5, padding='same', activation='relu')\n",
        "        self.pool3 = tf.keras.layers.MaxPool2D(3, 2)\n",
        "\n",
        "        self.flatten = tf.keras.layers.Flatten()\n",
        "        self.fc1 = tf.keras.layers.Dense(2048, activation='relu')\n",
        "        self.fc2 = tf.keras.layers.Dense(2048, activation='relu')\n",
        "        self.fc3 = tf.keras.layers.Dense(10, activation='softmax')\n",
        "    \n",
        "    def call(self, x ,training):\n",
        "        x = self.pool1(self.conv1(x))\n",
        "        x = self.pool2(self.conv2(x))\n",
        "        x = self.pool3(self.conv3(x))\n",
        "\n",
        "        x = self.flatten(x)\n",
        "        x = self.fc1(x)\n",
        "        x = self.fc2(x)\n",
        "        x = self.fc3(x)\n",
        "        return x"
      ],
      "execution_count": null,
      "outputs": []
    },
    {
      "cell_type": "markdown",
      "metadata": {
        "id": "AILnMW_tFpOG",
        "colab_type": "text"
      },
      "source": [
        "## 4. Train"
      ]
    },
    {
      "cell_type": "code",
      "metadata": {
        "id": "0ImKqa-a5n5N",
        "colab_type": "code",
        "colab": {}
      },
      "source": [
        "model_no_dropout = ModelNODropout()\n",
        "model_no_dropout.compile(\n",
        "    loss = 'sparse_categorical_crossentropy',\n",
        "    optimizer = 'adam',\n",
        "    metrics = ['acc']\n",
        ")"
      ],
      "execution_count": null,
      "outputs": []
    },
    {
      "cell_type": "code",
      "metadata": {
        "id": "gJ8rxIr26CQr",
        "colab_type": "code",
        "colab": {}
      },
      "source": [
        "hist_no_dropout = model_no_dropout.fit(\n",
        "    x_train, y_train,\n",
        "    batch_size = CONFIG['batch_size'],\n",
        "    epochs = CONFIG['epoch_size']\n",
        ")"
      ],
      "execution_count": null,
      "outputs": []
    },
    {
      "cell_type": "code",
      "metadata": {
        "id": "tTWnp6a5542x",
        "colab_type": "code",
        "colab": {}
      },
      "source": [
        "model_dropout = ModelDropout()\n",
        "model_dropout.compile(\n",
        "    loss = 'sparse_categorical_crossentropy',\n",
        "    optimizer = 'adam',\n",
        "    metrics = ['acc']\n",
        ")"
      ],
      "execution_count": null,
      "outputs": []
    },
    {
      "cell_type": "code",
      "metadata": {
        "id": "bhyQw7zyFq8B",
        "colab_type": "code",
        "colab": {}
      },
      "source": [
        "hist_dropout = model_dropout.fit(\n",
        "    x_train, y_train,\n",
        "    batch_size = CONFIG['batch_size'],\n",
        "    epochs = CONFIG['epoch_size']\n",
        ")"
      ],
      "execution_count": null,
      "outputs": []
    },
    {
      "cell_type": "markdown",
      "metadata": {
        "id": "owJetCrTFr_S",
        "colab_type": "text"
      },
      "source": [
        "## 5. Test"
      ]
    },
    {
      "cell_type": "code",
      "metadata": {
        "id": "R3HN95nRFs-U",
        "colab_type": "code",
        "colab": {}
      },
      "source": [
        "loss_no_dropout, acc_no_dropout = model_no_dropout.evaluate(x_test, y_test, batch_size=CONFIG['batch_size'])\n",
        "loss_dropout, acc_dropout = model_dropout.evaluate(x_test, y_test, batch_size=CONFIG['batch_size'])"
      ],
      "execution_count": null,
      "outputs": []
    },
    {
      "cell_type": "code",
      "metadata": {
        "id": "g9CWqhaEFtNA",
        "colab_type": "code",
        "colab": {
          "base_uri": "https://localhost:8080/",
          "height": 281
        },
        "outputId": "f0dd5ad0-c65f-4dd2-fb10-5d4084ff8a2a"
      },
      "source": [
        "fig, ax = plt.subplots(ncols=2, figsize=(8, 4))\n",
        "\n",
        "ax[0].bar(x=['w/ Dropout', 'w/o Dropout'], height=[loss_dropout, loss_no_dropout])\n",
        "ax[0].set_title('Loss')\n",
        "\n",
        "ax[1].bar(x=['w/ Dropout', 'w/o Dropout'], height=[acc_dropout, acc_no_dropout])\n",
        "ax[1].set_title('Accuracy')\n",
        "\n",
        "plt.show()"
      ],
      "execution_count": null,
      "outputs": [
        {
          "output_type": "display_data",
          "data": {
            "image/png": "[encoded data removed]",
            "text/plain": [
              "<Figure size 576x288 with 2 Axes>"
            ]
          },
          "metadata": {
            "tags": [],
            "needs_background": "light"
          }
        }
      ]
    }
  ]
}