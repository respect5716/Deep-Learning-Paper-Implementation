{
  "nbformat": 4,
  "nbformat_minor": 0,
  "metadata": {
    "colab": {
      "name": "Lookahead Optimizer _ k steps forward _ 1 step backward",
      "provenance": [],
      "collapsed_sections": [],
      "toc_visible": true
    },
    "kernelspec": {
      "name": "python3",
      "display_name": "Python 3"
    },
    "accelerator": "GPU"
  },
  "cells": [
    {
      "cell_type": "markdown",
      "metadata": {
        "id": "wzh7yGxNDluC",
        "colab_type": "text"
      },
      "source": [
        "# Lookahead Optimizer _ k steps forward _ 1 step backward"
      ]
    },
    {
      "cell_type": "markdown",
      "metadata": {
        "id": "Iki6sM3EDsjS",
        "colab_type": "text"
      },
      "source": [
        "## 0. Paper"
      ]
    },
    {
      "cell_type": "markdown",
      "metadata": {
        "id": "subFe3E5DttM",
        "colab_type": "text"
      },
      "source": [
        "### Info\n",
        "* TItle : Lookahead Optimizer _ k steps forward _ 1 step backward\n",
        "* Author : Michael R Zhang et al.\n",
        "* Link : https://arxiv.org/pdf/1907.08610.pdf"
      ]
    },
    {
      "cell_type": "markdown",
      "metadata": {
        "id": "PvL7j-dcEHBW",
        "colab_type": "text"
      },
      "source": [
        "### Summary\n",
        "* k step의 fast weight를 활용하여 slow weight 업데이트\n",
        "* 하이퍼파라미터에 안정적인 최적화 가능"
      ]
    },
    {
      "cell_type": "markdown",
      "metadata": {
        "id": "vTR7QXvpDz_j",
        "colab_type": "text"
      },
      "source": [
        "### Differences\n",
        "* Model : ResNet -> CNN"
      ]
    },
    {
      "cell_type": "markdown",
      "metadata": {
        "id": "JuaQpOWMD9tz",
        "colab_type": "text"
      },
      "source": [
        "## 1. Setting"
      ]
    },
    {
      "cell_type": "code",
      "metadata": {
        "id": "ZizQk84lEC3L",
        "colab_type": "code",
        "colab": {}
      },
      "source": [
        "# Libraries\n",
        "import os\n",
        "import numpy as np\n",
        "import pandas as pd\n",
        "import seaborn as sns\n",
        "import matplotlib.pyplot as plt\n",
        "\n",
        "import tensorflow as tf\n",
        "import tensorflow_addons as tfa"
      ],
      "execution_count": null,
      "outputs": []
    },
    {
      "cell_type": "code",
      "metadata": {
        "id": "Wsk7XAE2Lz_g",
        "colab_type": "code",
        "colab": {}
      },
      "source": [
        "# Hyperparameters\n",
        "CONFIG = {\n",
        "    'base_dir' : '/content/drive/Shared drives/Yoon/Project/Doing/Deep Learning Paper Implementation',\n",
        "    'batch_size' : 128,\n",
        "    'epoch_size' : 30\n",
        "}"
      ],
      "execution_count": 2,
      "outputs": []
    },
    {
      "cell_type": "markdown",
      "metadata": {
        "id": "Qd9D_aouEVMB",
        "colab_type": "text"
      },
      "source": [
        "## 2. Data"
      ]
    },
    {
      "cell_type": "code",
      "metadata": {
        "id": "hzYjD0NkEzIs",
        "colab_type": "code",
        "colab": {}
      },
      "source": [
        "(x_train, y_train), (x_test, y_test) = tf.keras.datasets.cifar10.load_data()"
      ],
      "execution_count": null,
      "outputs": []
    },
    {
      "cell_type": "code",
      "metadata": {
        "id": "gCdnQjRJFn-M",
        "colab_type": "code",
        "colab": {}
      },
      "source": [
        "x_train = x_train.astype(np.float32) / 255\n",
        "x_test = x_test.astype(np.float32) / 255"
      ],
      "execution_count": 4,
      "outputs": []
    },
    {
      "cell_type": "markdown",
      "metadata": {
        "id": "bLljDsOoFoLN",
        "colab_type": "text"
      },
      "source": [
        "## 3. Model"
      ]
    },
    {
      "cell_type": "code",
      "metadata": {
        "id": "kjsCoD--5lea",
        "colab_type": "code",
        "colab": {}
      },
      "source": [
        "class LookaheadOptimizer(tf.keras.optimizers.Optimizer):\n",
        "    def __init__(self, alpha=0.5, k=5, name='LookaheadOptimizer', **kwargs):\n",
        "        super().__init__(name, **kwargs)\n",
        "        self.alpha = alpha # outer learning rate\n",
        "        self.k = k # inner step size\n",
        "        self.inner_optimizer = tf.keras.optimizers.Adam(1e-3)\n",
        "\n",
        "    def _create_slots(self, var_list):\n",
        "        self.inner_optimizer._create_slots(var_list)\n",
        "        for var in var_list:\n",
        "            self.add_slot(var, 'slow weight')\n",
        "\n",
        "    @tf.function\n",
        "    def _resource_apply_dense(self, grad, var):\n",
        "        var_dtype = var.dtype.base_dtype\n",
        "        local_step = tf.cast(self.iterations + 1, var_dtype)\n",
        "        self.inner_optimizer.iterations.assign(self.iterations)\n",
        "\n",
        "        slow_weight = self.get_slot(var, 'slow weight')\n",
        "        if local_step == 1:\n",
        "            slow_weight.assign(var)\n",
        "\n",
        "        self.inner_optimizer._resource_apply_dense(grad, var)\n",
        "        if local_step % self.k == 0:\n",
        "            new_slow_weight = slow_weight + self.alpha * (var - slow_weight)\n",
        "            var.assign(new_slow_weight)\n",
        "            slow_weight.assign(new_slow_weight)\n",
        "    \n",
        "    @tf.function\n",
        "    def _resource_apply_sparse(self, grad, var):\n",
        "        raise NotImplementedError\n",
        "\n",
        "    def get_config(self):\n",
        "        config = super().get_config()\n",
        "        config.update({\n",
        "            'alpha' : self.alpha,\n",
        "            'k' : self.k\n",
        "        })\n",
        "        return config"
      ],
      "execution_count": 199,
      "outputs": []
    },
    {
      "cell_type": "code",
      "metadata": {
        "id": "2NbRhIkmFo47",
        "colab_type": "code",
        "colab": {}
      },
      "source": [
        "class Model(tf.keras.Model):\n",
        "    def __init__(self):\n",
        "        super(Model, self).__init__()\n",
        "        self.conv1 = tf.keras.layers.Conv2D(64, 5, activation='relu')\n",
        "        self.conv2 = tf.keras.layers.Conv2D(64, 5, activation='relu')\n",
        "        self.conv3 = tf.keras.layers.Conv2D(128, 5, activation='relu')\n",
        "        self.pool = tf.keras.layers.MaxPool2D(3, strides=2)\n",
        "        self.flatten = tf.keras.layers.Flatten()\n",
        "        self.fc1 = tf.keras.layers.Dense(1000, activation='relu')\n",
        "        self.fc2 = tf.keras.layers.Dense(10, activation='softmax')\n",
        "    \n",
        "    def call(self, x):\n",
        "        x = self.conv1(x)\n",
        "        x = self.conv2(x)\n",
        "        x = self.conv3(x)\n",
        "        x = self.pool(x)\n",
        "        x = self.flatten(x)\n",
        "        x = self.fc1(x)\n",
        "        x = self.fc2(x)\n",
        "        return x"
      ],
      "execution_count": 191,
      "outputs": []
    },
    {
      "cell_type": "markdown",
      "metadata": {
        "id": "AILnMW_tFpOG",
        "colab_type": "text"
      },
      "source": [
        "## 4. Train"
      ]
    },
    {
      "cell_type": "code",
      "metadata": {
        "id": "bhyQw7zyFq8B",
        "colab_type": "code",
        "colab": {}
      },
      "source": [
        "lookahead = LookaheadOptimizer()\n",
        "lookahead_model = Model()\n",
        "lookahead_model.compile(\n",
        "    loss = 'sparse_categorical_crossentropy',\n",
        "    metrics = ['acc'],\n",
        "    optimizer = lookahead\n",
        ")"
      ],
      "execution_count": 206,
      "outputs": []
    },
    {
      "cell_type": "code",
      "metadata": {
        "id": "WCpTqodKFrwR",
        "colab_type": "code",
        "colab": {}
      },
      "source": [
        "lookahead_hist = lookahead_model.fit(x_train, y_train, batch_size=CONFIG['batch_size'], epochs=10)"
      ],
      "execution_count": null,
      "outputs": []
    },
    {
      "cell_type": "code",
      "metadata": {
        "id": "9MlEOAP_-VvG",
        "colab_type": "code",
        "colab": {}
      },
      "source": [
        "adam_model = Model()\n",
        "adam_model.compile(\n",
        "    loss = 'sparse_categorical_crossentropy',\n",
        "    metrics = ['acc'],\n",
        "    optimizer = 'adam'\n",
        ")"
      ],
      "execution_count": 208,
      "outputs": []
    },
    {
      "cell_type": "code",
      "metadata": {
        "id": "YQH-71ni-a2x",
        "colab_type": "code",
        "colab": {}
      },
      "source": [
        "adam_hist = adam_model.fit(x_train, y_train, batch_size=CONFIG['batch_size'], epochs=10)"
      ],
      "execution_count": null,
      "outputs": []
    },
    {
      "cell_type": "code",
      "metadata": {
        "id": "R3HN95nRFs-U",
        "colab_type": "code",
        "colab": {
          "base_uri": "https://localhost:8080/",
          "height": 281
        },
        "outputId": "88c7fe4b-1f2e-4faf-f7cf-a830ac0f62ea"
      },
      "source": [
        "fig, ax = plt.subplots(ncols=2, figsize=(8, 4))\n",
        "\n",
        "ax[0].plot(lookahead_hist.history['loss'])\n",
        "ax[0].plot(adam_hist.history['loss'])\n",
        "ax[0].set_title('Loss')\n",
        "\n",
        "ax[1].plot(lookahead_hist.history['acc'])\n",
        "ax[1].plot(adam_hist.history['acc'])\n",
        "ax[1].set_title('Accuracy')\n",
        "\n",
        "fig.legend(['Lookahead', 'Adam'], loc='right')\n",
        "plt.show()"
      ],
      "execution_count": 210,
      "outputs": [
        {
          "output_type": "display_data",
          "data": {
            "image/png": "[encoded data removed]",
            "text/plain": [
              "<Figure size 576x288 with 2 Axes>"
            ]
          },
          "metadata": {
            "tags": [],
            "needs_background": "light"
          }
        }
      ]
    }
  ]
}