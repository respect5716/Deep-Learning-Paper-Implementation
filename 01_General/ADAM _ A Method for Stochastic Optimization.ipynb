{
  "nbformat": 4,
  "nbformat_minor": 0,
  "metadata": {
    "colab": {
      "name": "ADAM _ A Method for Stochastic Optimization",
      "provenance": [],
      "collapsed_sections": [],
      "toc_visible": true
    },
    "kernelspec": {
      "name": "python3",
      "display_name": "Python 3"
    },
    "accelerator": "GPU"
  },
  "cells": [
    {
      "cell_type": "markdown",
      "metadata": {
        "id": "wzh7yGxNDluC",
        "colab_type": "text"
      },
      "source": [
        "# ADAM _ A Method for Stochastic Optimization"
      ]
    },
    {
      "cell_type": "markdown",
      "metadata": {
        "id": "Iki6sM3EDsjS",
        "colab_type": "text"
      },
      "source": [
        "## 0. Paper"
      ]
    },
    {
      "cell_type": "markdown",
      "metadata": {
        "id": "subFe3E5DttM",
        "colab_type": "text"
      },
      "source": [
        "### Info\n",
        "* TItle : ADAM _ A Method for Stochastic Optimization\n",
        "* Author : Diederik P. Kingma, Jimmy Lei Ba\n",
        "* Link : https://arxiv.org/pdf/1412.6980.pdf"
      ]
    },
    {
      "cell_type": "markdown",
      "metadata": {
        "id": "PvL7j-dcEHBW",
        "colab_type": "text"
      },
      "source": [
        "### Summary\n",
        "* first, second moment를 사용해 parameter별 adaptive learning rate 적용\n",
        "* AdaGrad와 RMSProp의 장점을 조합함"
      ]
    },
    {
      "cell_type": "markdown",
      "metadata": {
        "id": "vTR7QXvpDz_j",
        "colab_type": "text"
      },
      "source": [
        "### Differences\n",
        "* ##"
      ]
    },
    {
      "cell_type": "markdown",
      "metadata": {
        "id": "JuaQpOWMD9tz",
        "colab_type": "text"
      },
      "source": [
        "## 1. Setting"
      ]
    },
    {
      "cell_type": "code",
      "metadata": {
        "id": "ZizQk84lEC3L",
        "colab_type": "code",
        "colab": {}
      },
      "source": [
        "# Libraries\n",
        "import os\n",
        "import numpy as np\n",
        "import pandas as pd\n",
        "import seaborn as sns\n",
        "import matplotlib.pyplot as plt\n",
        "\n",
        "import tensorflow as tf\n",
        "import tensorflow_addons as tfa\n",
        "import tensorflow.keras.backend as K"
      ],
      "execution_count": null,
      "outputs": []
    },
    {
      "cell_type": "code",
      "metadata": {
        "id": "Wsk7XAE2Lz_g",
        "colab_type": "code",
        "colab": {}
      },
      "source": [
        "# Hyperparameters\n",
        "CONFIG = {\n",
        "    'base_dir' : '/content/drive/Shared drives/Yoon/Project/Doing/Deep Learning Paper Implementation',\n",
        "    'batch_size' : 128,\n",
        "    'epoch_size' : 30\n",
        "}"
      ],
      "execution_count": null,
      "outputs": []
    },
    {
      "cell_type": "markdown",
      "metadata": {
        "id": "Qd9D_aouEVMB",
        "colab_type": "text"
      },
      "source": [
        "## 2. Data"
      ]
    },
    {
      "cell_type": "code",
      "metadata": {
        "id": "hzYjD0NkEzIs",
        "colab_type": "code",
        "colab": {}
      },
      "source": [
        "(x_train, y_train), (x_test, y_test) = tf.keras.datasets.cifar10.load_data()"
      ],
      "execution_count": null,
      "outputs": []
    },
    {
      "cell_type": "code",
      "metadata": {
        "id": "gCdnQjRJFn-M",
        "colab_type": "code",
        "colab": {}
      },
      "source": [
        "x_train = x_train.astype(np.float32) / 255\n",
        "x_test = x_test.astype(np.float32) / 255"
      ],
      "execution_count": null,
      "outputs": []
    },
    {
      "cell_type": "markdown",
      "metadata": {
        "id": "bLljDsOoFoLN",
        "colab_type": "text"
      },
      "source": [
        "## 3. Model"
      ]
    },
    {
      "cell_type": "code",
      "metadata": {
        "id": "2NbRhIkmFo47",
        "colab_type": "code",
        "colab": {}
      },
      "source": [
        "class AdamOptimizer(tf.keras.optimizers.Optimizer):\n",
        "    def __init__(self, learning_rate=1e-3, beta1=0.9, beta2=0.999, name='AdamOptimizer', **kwargs):\n",
        "        super(AdamOptimizer, self).__init__(name, **kwargs)\n",
        "        self.learning_rate = learning_rate\n",
        "        self.beta1 = beta1\n",
        "        self.beta2 = beta2\n",
        "        self.epsilon = 1e-7\n",
        "    \n",
        "    def _create_slots(self, var_list):\n",
        "        for var in var_list:\n",
        "            self.add_slot(var, 'm')\n",
        "        for var in var_list:\n",
        "            self.add_slot(var, 'v')\n",
        "\n",
        "    @tf.function\n",
        "    def _resource_apply_dense(self, grad, var):\n",
        "        var_dtype = var.dtype.base_dtype\n",
        "        local_step = tf.cast(self.iterations + 1, var_dtype)\n",
        "\n",
        "        m = self.get_slot(var, 'm')\n",
        "        v = self.get_slot(var, 'v')\n",
        "        \n",
        "        new_m = self.beta1 * m + (1-self.beta1) * grad\n",
        "        new_v = self.beta2 * v + (1-self.beta2) * grad * grad        \n",
        "        new_m_hat = new_m / (1 - tf.math.pow(self.beta1, local_step))\n",
        "        new_v_hat = new_v / (1 - tf.math.pow(self.beta2, local_step))\n",
        "        \n",
        "        new_var = var - self.learning_rate * new_m_hat / (tf.math.sqrt(new_v_hat) + self.epsilon)\n",
        "        var.assign(new_var)\n",
        "        m.assign(new_m)\n",
        "        v.assign(new_v)\n",
        "    \n",
        "    @tf.function\n",
        "    def _resource_apply_sparse(self, grad, var):\n",
        "        raise NotImplementedError\n",
        "\n",
        "    def get_config(self):\n",
        "        config = super().get_config()\n",
        "        config.update({\n",
        "            'learning_rate' : self.learning_rate,\n",
        "            'beta1' : self.beta1,\n",
        "            'beta2' : self.beta2\n",
        "        })\n",
        "\n",
        "        return config"
      ],
      "execution_count": null,
      "outputs": []
    },
    {
      "cell_type": "code",
      "metadata": {
        "id": "eabWSRCmn2gW",
        "colab_type": "code",
        "colab": {}
      },
      "source": [
        "class Model(tf.keras.Model):\n",
        "    def __init__(self):\n",
        "        super(Model, self).__init__()\n",
        "        self.conv1 = tf.keras.layers.Conv2D(64, 5, activation='relu')\n",
        "        self.conv2 = tf.keras.layers.Conv2D(64, 5, activation='relu')\n",
        "        self.conv3 = tf.keras.layers.Conv2D(128, 5, activation='relu')\n",
        "        self.pool = tf.keras.layers.MaxPool2D(3, strides=2)\n",
        "        self.flatten = tf.keras.layers.Flatten()\n",
        "        self.fc1 = tf.keras.layers.Dense(1000, activation='relu')\n",
        "        self.fc2 = tf.keras.layers.Dense(10, activation='softmax')\n",
        "    \n",
        "    def call(self, x):\n",
        "        x = self.conv1(x)\n",
        "        x = self.conv2(x)\n",
        "        x = self.conv3(x)\n",
        "        x = self.pool(x)\n",
        "        x = self.flatten(x)\n",
        "        x = self.fc1(x)\n",
        "        x = self.fc2(x)\n",
        "        return x"
      ],
      "execution_count": null,
      "outputs": []
    },
    {
      "cell_type": "markdown",
      "metadata": {
        "id": "AILnMW_tFpOG",
        "colab_type": "text"
      },
      "source": [
        "## 4. Train"
      ]
    },
    {
      "cell_type": "code",
      "metadata": {
        "id": "qS8txNwgUmtW",
        "colab_type": "code",
        "colab": {}
      },
      "source": [
        "sgd = tf.keras.optimizers.SGD()\n",
        "sgd_model = Model()\n",
        "sgd_model.compile(\n",
        "    loss = 'sparse_categorical_crossentropy',\n",
        "    metrics = ['acc'],\n",
        "    optimizer = 'sgd'\n",
        ")"
      ],
      "execution_count": null,
      "outputs": []
    },
    {
      "cell_type": "code",
      "metadata": {
        "id": "4igz4LyNUscg",
        "colab_type": "code",
        "colab": {}
      },
      "source": [
        "sgd_history = sgd_model.fit(x_train, y_train, batch_size=CONFIG['batch_size'], epochs=CONFIG['epoch_size'])"
      ],
      "execution_count": null,
      "outputs": []
    },
    {
      "cell_type": "code",
      "metadata": {
        "id": "uOuE9_rkTShT",
        "colab_type": "code",
        "colab": {}
      },
      "source": [
        "default_adam = tf.keras.optimizers.Adam()\n",
        "default_model = Model()\n",
        "default_model.compile(\n",
        "    loss = 'sparse_categorical_crossentropy',\n",
        "    metrics = ['acc'],\n",
        "    optimizer = default_adam\n",
        ")"
      ],
      "execution_count": null,
      "outputs": []
    },
    {
      "cell_type": "code",
      "metadata": {
        "id": "ZqZr7IafTfiY",
        "colab_type": "code",
        "colab": {}
      },
      "source": [
        "default_history = default_model.fit(x_train, y_train, batch_size=CONFIG['batch_size'], epochs=CONFIG['epoch_size'])"
      ],
      "execution_count": null,
      "outputs": []
    },
    {
      "cell_type": "code",
      "metadata": {
        "id": "bhyQw7zyFq8B",
        "colab_type": "code",
        "colab": {}
      },
      "source": [
        "custom_adam = AdamOptimizer()\n",
        "custom_model = Model()\n",
        "custom_model.compile(\n",
        "    loss = 'sparse_categorical_crossentropy',\n",
        "    metrics = ['acc'],\n",
        "    optimizer = custom_adam\n",
        ")"
      ],
      "execution_count": null,
      "outputs": []
    },
    {
      "cell_type": "code",
      "metadata": {
        "id": "WCpTqodKFrwR",
        "colab_type": "code",
        "colab": {}
      },
      "source": [
        "custom_history = custom_model.fit(x_train, y_train, batch_size=CONFIG['batch_size'], epochs=CONFIG['epoch_size'])"
      ],
      "execution_count": null,
      "outputs": []
    },
    {
      "cell_type": "code",
      "metadata": {
        "id": "1krM0xIuUOn3",
        "colab_type": "code",
        "colab": {
          "base_uri": "https://localhost:8080/",
          "height": 281
        },
        "outputId": "2cda445b-8fc0-46aa-ee55-c0152f89d36f"
      },
      "source": [
        "fig, ax = plt.subplots(ncols=2, figsize=(8, 4))\n",
        "\n",
        "ax[0].plot(sgd_history.history['loss'])\n",
        "ax[0].plot(default_history.history['loss'])\n",
        "ax[0].plot(custom_history.history['loss'])\n",
        "ax[0].set_title('Loss')\n",
        "\n",
        "ax[1].plot(sgd_history.history['acc'])\n",
        "ax[1].plot(default_history.history['acc'])\n",
        "ax[1].plot(custom_history.history['acc'])\n",
        "ax[1].set_title('Accuracy')\n",
        "\n",
        "fig.legend(['SGD', 'Defualt Adam', 'Custom Adam'], loc='right')\n",
        "plt.show()"
      ],
      "execution_count": null,
      "outputs": [
        {
          "output_type": "display_data",
          "data": {
            "image/png": "[encoded data removed]",
            "text/plain": [
              "<Figure size 576x288 with 2 Axes>"
            ]
          },
          "metadata": {
            "tags": [],
            "needs_background": "light"
          }
        }
      ]
    }
  ]
}