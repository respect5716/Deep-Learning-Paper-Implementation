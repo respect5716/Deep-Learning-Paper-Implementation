{
  "nbformat": 4,
  "nbformat_minor": 0,
  "metadata": {
    "colab": {
      "name": "Batch Normalization _ Accelerating Deep Network Training by Reducing Internal Covariate Shift",
      "provenance": [],
      "collapsed_sections": []
    },
    "kernelspec": {
      "name": "python3",
      "display_name": "Python 3"
    },
    "accelerator": "GPU"
  },
  "cells": [
    {
      "cell_type": "markdown",
      "metadata": {
        "id": "wzh7yGxNDluC",
        "colab_type": "text"
      },
      "source": [
        "# Batch Normalization _ Accelerating Deep Network Training by Reducing Internal Covariate Shift"
      ]
    },
    {
      "cell_type": "markdown",
      "metadata": {
        "id": "Iki6sM3EDsjS",
        "colab_type": "text"
      },
      "source": [
        "## 0. Paper"
      ]
    },
    {
      "cell_type": "markdown",
      "metadata": {
        "id": "subFe3E5DttM",
        "colab_type": "text"
      },
      "source": [
        "### Info\n",
        "* TItle : Batch Normalization _ Accelerating Deep Network Training by Reducing Internal Covariate Shift\n",
        "* Author : Sergey Ioffe, Christian Szegedy\n",
        "* Link : https://arxiv.org/pdf/1502.03167.pdf"
      ]
    },
    {
      "cell_type": "markdown",
      "metadata": {
        "id": "PvL7j-dcEHBW",
        "colab_type": "text"
      },
      "source": [
        "### Summary\n",
        "* 레이어의 mini-batch 입력을 normalize 함으로써 internal covariate shift 해결\n",
        "* learning rate, initialization 등 hyper-parameter에 대한 민감성 해소"
      ]
    },
    {
      "cell_type": "markdown",
      "metadata": {
        "id": "vTR7QXvpDz_j",
        "colab_type": "text"
      },
      "source": [
        "### Differences\n",
        "* Batch statistics : Moving average -> Exponential moving average\n",
        "* Dataset : Imagenet -> Cifar10"
      ]
    },
    {
      "cell_type": "markdown",
      "metadata": {
        "id": "JuaQpOWMD9tz",
        "colab_type": "text"
      },
      "source": [
        "## 1. Setting"
      ]
    },
    {
      "cell_type": "code",
      "metadata": {
        "id": "ZizQk84lEC3L",
        "colab_type": "code",
        "colab": {}
      },
      "source": [
        "# Libraries\n",
        "import os\n",
        "import numpy as np\n",
        "import pandas as pd\n",
        "import seaborn as sns\n",
        "import matplotlib.pyplot as plt\n",
        "\n",
        "import tensorflow as tf\n",
        "import tensorflow_addons as tfa"
      ],
      "execution_count": null,
      "outputs": []
    },
    {
      "cell_type": "code",
      "metadata": {
        "id": "Wsk7XAE2Lz_g",
        "colab_type": "code",
        "colab": {}
      },
      "source": [
        "# Hyperparameters\n",
        "CONFIG = {\n",
        "    'base_dir' : '/content/drive/Shared drives/Yoon/Project/Doing/Deep Learning Paper Implementation',\n",
        "    'batch_size' : 128,\n",
        "    'epoch_size' : 10\n",
        "}"
      ],
      "execution_count": null,
      "outputs": []
    },
    {
      "cell_type": "markdown",
      "metadata": {
        "id": "Qd9D_aouEVMB",
        "colab_type": "text"
      },
      "source": [
        "## 2. Data"
      ]
    },
    {
      "cell_type": "code",
      "metadata": {
        "id": "hzYjD0NkEzIs",
        "colab_type": "code",
        "colab": {}
      },
      "source": [
        "(x_train, y_train), (x_test, y_test) = tf.keras.datasets.cifar10.load_data()"
      ],
      "execution_count": null,
      "outputs": []
    },
    {
      "cell_type": "code",
      "metadata": {
        "id": "rc-yyWI1VHVe",
        "colab_type": "code",
        "colab": {}
      },
      "source": [
        "x_train = x_train.astype(np.float32) / 255\n",
        "x_test = x_test.astype(np.float32) / 255"
      ],
      "execution_count": null,
      "outputs": []
    },
    {
      "cell_type": "markdown",
      "metadata": {
        "id": "bLljDsOoFoLN",
        "colab_type": "text"
      },
      "source": [
        "## 3. Model"
      ]
    },
    {
      "cell_type": "code",
      "metadata": {
        "id": "2NbRhIkmFo47",
        "colab_type": "code",
        "colab": {}
      },
      "source": [
        "class BatchNormLayer(tf.keras.layers.Layer):\n",
        "    def __init__(self, momentum=0.9):\n",
        "        super(BatchNormLayer, self).__init__()\n",
        "        self.momentum = momentum\n",
        "\n",
        "    def build(self, input_shape):\n",
        "        self.gamma = self.add_weight(shape=input_shape[1:], initializer=tf.constant_initializer(1.), name='gamma')\n",
        "        self.beta = self.add_weight(shape=input_shape[1:], initializer=tf.constant_initializer(0.), name='beta')\n",
        "        self.moving_mu = self.add_weight(shape=input_shape[1:], initializer=tf.constant_initializer(0.), trainable=False, name='moving_mu')\n",
        "        self.moving_std = self.add_weight(shape=input_shape[1:], initializer=tf.constant_initializer(1.), trainable=False, name='moving_std')\n",
        "    \n",
        "    def call(self, x, training=False):\n",
        "        if training:\n",
        "            m = x.shape[0]\n",
        "            m = m if m else 2\n",
        "            mu = tf.math.reduce_mean(x, axis=0)\n",
        "            std = m / (m-1) * tf.math.reduce_std(x, axis=0)\n",
        "            self.moving_mu.assign(self.momentum*self.moving_mu + (1-self.momentum)*mu)\n",
        "            self.moving_std.assign(self.momentum*self.moving_std + (1-self.momentum)*std) \n",
        "        \n",
        "        else:\n",
        "            mu = self.moving_mu\n",
        "            std = self.moving_std\n",
        "        \n",
        "        x = (x - mu) / tf.math.sqrt(tf.math.square(std) + 1e-10)\n",
        "        x = self.gamma * x + self.beta\n",
        "        return x"
      ],
      "execution_count": null,
      "outputs": []
    },
    {
      "cell_type": "code",
      "metadata": {
        "id": "sKY9kkokSEe2",
        "colab_type": "code",
        "colab": {}
      },
      "source": [
        "class CNNBlock(tf.keras.layers.Layer):\n",
        "    def __init__(self, filters, with_bn):\n",
        "        super(CNNBlock, self).__init__()\n",
        "        self.with_bn = with_bn\n",
        "        self.conv1 = tf.keras.layers.Conv2D(filters, 3, padding='same')\n",
        "        self.conv2 = tf.keras.layers.Conv2D(filters, 3, padding='same')\n",
        "        self.pool = tf.keras.layers.MaxPool2D()\n",
        "\n",
        "        if self.with_bn:\n",
        "            self.bn1 = BatchNormLayer()\n",
        "            self.bn2 = BatchNormLayer()\n",
        "            # self.bn1 = tf.keras.layers.BatchNormalization()\n",
        "            # self.bn2 = tf.keras.layers.BatchNormalization()\n",
        "\n",
        "    def call(self, x, training):\n",
        "        x = self.conv1(x)\n",
        "        if self.with_bn:\n",
        "            x = self.bn1(x, training=training)\n",
        "        x = tf.nn.relu(x)\n",
        "        x = self.conv2(x)\n",
        "        if self.with_bn:\n",
        "            x = self.bn2(x, training=training)\n",
        "        x = tf.nn.relu(x)\n",
        "        x = self.pool(x)\n",
        "        return x\n",
        "\n",
        "class Model(tf.keras.Model):\n",
        "    def __init__(self, with_bn, filters=[32, 64]):\n",
        "        super(Model, self).__init__()\n",
        "        self.block = [CNNBlock(f, with_bn) for f in filters]\n",
        "        self.flatten = tf.keras.layers.GlobalAveragePooling2D()\n",
        "        self.dense1 = tf.keras.layers.Dense(64, activation='relu')\n",
        "        self.dense2 = tf.keras.layers.Dense(10, activation='softmax')\n",
        "        \n",
        "    def call(self, x, training):\n",
        "        for b in self.block:\n",
        "            x = b(x, training=training)\n",
        "        x = self.flatten(x)\n",
        "        x = self.dense1(x)\n",
        "        x = self.dense2(x)\n",
        "        return x"
      ],
      "execution_count": null,
      "outputs": []
    },
    {
      "cell_type": "markdown",
      "metadata": {
        "id": "AILnMW_tFpOG",
        "colab_type": "text"
      },
      "source": [
        "## 4. Train"
      ]
    },
    {
      "cell_type": "code",
      "metadata": {
        "id": "IBbhj506UyWy",
        "colab_type": "code",
        "colab": {}
      },
      "source": [
        "model_without_bn = Model(with_bn=False)\n",
        "model_without_bn.compile(\n",
        "    loss = 'sparse_categorical_crossentropy',\n",
        "    optimizer = 'adam',\n",
        "    metrics = ['acc']\n",
        ")"
      ],
      "execution_count": null,
      "outputs": []
    },
    {
      "cell_type": "code",
      "metadata": {
        "id": "nSlimw0YU5fQ",
        "colab_type": "code",
        "colab": {}
      },
      "source": [
        "hist_without_bn = model_without_bn.fit(\n",
        "    x_train, y_train,\n",
        "    batch_size = CONFIG['batch_size'],\n",
        "    epochs=CONFIG['epoch_size'])"
      ],
      "execution_count": null,
      "outputs": []
    },
    {
      "cell_type": "code",
      "metadata": {
        "id": "bhyQw7zyFq8B",
        "colab_type": "code",
        "colab": {}
      },
      "source": [
        "model_with_bn = Model(with_bn=True)\n",
        "model_with_bn.compile(\n",
        "    loss = 'sparse_categorical_crossentropy',\n",
        "    optimizer = 'adam',\n",
        "    metrics = ['acc']\n",
        ")"
      ],
      "execution_count": null,
      "outputs": []
    },
    {
      "cell_type": "code",
      "metadata": {
        "id": "WCpTqodKFrwR",
        "colab_type": "code",
        "colab": {}
      },
      "source": [
        "hist_with_bn = model_with_bn.fit(\n",
        "    x_train, y_train,\n",
        "    batch_size = CONFIG['batch_size'],\n",
        "    epochs=CONFIG['epoch_size'])"
      ],
      "execution_count": null,
      "outputs": []
    },
    {
      "cell_type": "code",
      "metadata": {
        "id": "xhHdSUXLYmEM",
        "colab_type": "code",
        "colab": {
          "base_uri": "https://localhost:8080/",
          "height": 281
        },
        "outputId": "dd210eb9-001a-4f41-e6c3-6e8b9216af68"
      },
      "source": [
        "fig, ax = plt.subplots(ncols=2, figsize=(8, 4))\n",
        "\n",
        "ax[0].plot(hist_with_bn.history['loss'])\n",
        "ax[0].plot(hist_without_bn.history['loss'])\n",
        "ax[0].set_title('Loss')\n",
        "\n",
        "ax[1].plot(hist_with_bn.history['acc'])\n",
        "ax[1].plot(hist_without_bn.history['acc'])\n",
        "ax[1].set_title('Accuracy')\n",
        "\n",
        "fig.legend(['w/ BatchNorm', 'w/o BatchNorm'], loc='right')\n",
        "plt.show()"
      ],
      "execution_count": null,
      "outputs": [
        {
          "output_type": "display_data",
          "data": {
            "image/png": "[encoded data removed]",
            "text/plain": [
              "<Figure size 576x288 with 2 Axes>"
            ]
          },
          "metadata": {
            "tags": [],
            "needs_background": "light"
          }
        }
      ]
    },
    {
      "cell_type": "markdown",
      "metadata": {
        "id": "owJetCrTFr_S",
        "colab_type": "text"
      },
      "source": [
        "## 5. Test"
      ]
    },
    {
      "cell_type": "code",
      "metadata": {
        "id": "R3HN95nRFs-U",
        "colab_type": "code",
        "colab": {}
      },
      "source": [
        "loss_with_bn, acc_with_bn = model_with_bn.evaluate(x_test, y_test, batch_size=CONFIG['batch_size'])\n",
        "loss_without_bn, acc_without_bn = model_without_bn.evaluate(x_test, y_test, batch_size=CONFIG['batch_size'])"
      ],
      "execution_count": null,
      "outputs": []
    },
    {
      "cell_type": "code",
      "metadata": {
        "id": "5NXV4EjVbTLJ",
        "colab_type": "code",
        "colab": {
          "base_uri": "https://localhost:8080/",
          "height": 281
        },
        "outputId": "180f70e1-73d1-4246-ddf5-559daa78a828"
      },
      "source": [
        "fig, ax = plt.subplots(ncols=2, figsize=(8, 4))\n",
        "\n",
        "ax[0].bar(x=['w/ BatchNorm', 'w/o BatchNorm'], height=[loss_with_bn, loss_without_bn])\n",
        "ax[0].set_title('Loss')\n",
        "\n",
        "ax[1].bar(x=['w/ BatchNorm', 'w/o BatchNorm'], height=[acc_with_bn, acc_without_bn])\n",
        "ax[1].set_title('Accuracy')\n",
        "\n",
        "plt.show()"
      ],
      "execution_count": null,
      "outputs": [
        {
          "output_type": "display_data",
          "data": {
            "image/png": "[encoded data removed]",
            "text/plain": [
              "<Figure size 576x288 with 2 Axes>"
            ]
          },
          "metadata": {
            "tags": [],
            "needs_background": "light"
          }
        }
      ]
    }
  ]
}