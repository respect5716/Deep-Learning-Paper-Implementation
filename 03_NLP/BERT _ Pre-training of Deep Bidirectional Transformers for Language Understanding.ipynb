{
  "nbformat": 4,
  "nbformat_minor": 0,
  "metadata": {
    "colab": {
      "name": "BERT:Pre-training of Deep Bidirectional Transformers for Language Understanding",
      "provenance": [],
      "collapsed_sections": [],
      "toc_visible": true,
      "authorship_tag": "ABX9TyNAT2x89dZyC174HLdSq0E9",
      "include_colab_link": true
    },
    "kernelspec": {
      "name": "python3",
      "display_name": "Python 3"
    },
    "accelerator": "GPU"
  },
  "cells": [
    {
      "cell_type": "markdown",
      "metadata": {
        "id": "view-in-github",
        "colab_type": "text"
      },
      "source": [
        "<a href=\"https://colab.research.google.com/github/respect5716/Deep-Learning-Paper-Implementation/blob/master/03_NLP/BERT%20_%20Pre-training%20of%20Deep%20Bidirectional%20Transformers%20for%20Language%20Understanding.ipynb\" target=\"_parent\"><img src=\"https://colab.research.google.com/assets/colab-badge.svg\" alt=\"Open In Colab\"/></a>"
      ]
    },
    {
      "cell_type": "markdown",
      "metadata": {
        "id": "wzh7yGxNDluC",
        "colab_type": "text"
      },
      "source": [
        "# BERT _ Pre-training of Deep Bidirectional Transformers for Language Understanding"
      ]
    },
    {
      "cell_type": "markdown",
      "metadata": {
        "id": "Iki6sM3EDsjS",
        "colab_type": "text"
      },
      "source": [
        "## 0. Paper"
      ]
    },
    {
      "cell_type": "markdown",
      "metadata": {
        "id": "subFe3E5DttM",
        "colab_type": "text"
      },
      "source": [
        "### Info\n",
        "* TItle : BERT:Pre-training of Deep Bidirectional Transformers for Language Understanding\n",
        "* Author : Jacob Devlin et al.\n",
        "* Publication : NAACL 2019, [link](https://arxiv.org/abs/1810.04805)"
      ]
    },
    {
      "cell_type": "markdown",
      "metadata": {
        "id": "PvL7j-dcEHBW",
        "colab_type": "text"
      },
      "source": [
        "### Summary\n",
        "* Transformer encoder layer를 통해 bidirectional representation을 학습 시킴\n",
        "* Masked language model 방법을 통해 Large corpus로 Pre-train 진행\n",
        "* Pre-trained model을 이용하여 큰 변화없이 fine-tuning에서 좋은 성능 보임"
      ]
    },
    {
      "cell_type": "markdown",
      "metadata": {
        "id": "vTR7QXvpDz_j",
        "colab_type": "text"
      },
      "source": [
        "### Differences\n",
        "* dataset : GLUE -> Naver sentiment movie corpus, [link](https://github.com/e9t/nsmc/)\n",
        "* pre-train : True -> False\n",
        "* positional embedding : sinusoid -> embedding layer\n",
        "* embedding : Wordpiece -> Morpheme\n",
        "* max_len : 512 -> 64\n",
        "* num_layer : 12 -> 4\n",
        "* model_dim/dff : 768 -> 128\n",
        "* num_head : 12 -> 4"
      ]
    },
    {
      "cell_type": "markdown",
      "metadata": {
        "id": "JuaQpOWMD9tz",
        "colab_type": "text"
      },
      "source": [
        "## 1. Env"
      ]
    },
    {
      "cell_type": "code",
      "metadata": {
        "id": "McnWOy5NVMxB",
        "colab_type": "code",
        "colab": {}
      },
      "source": [
        "!pip install -q konlpy"
      ],
      "execution_count": 0,
      "outputs": []
    },
    {
      "cell_type": "code",
      "metadata": {
        "id": "3HVy-eYPLlUU",
        "colab_type": "code",
        "colab": {}
      },
      "source": [
        "# Google Drive\n",
        "from google.colab import drive\n",
        "drive.mount('/content/drive')"
      ],
      "execution_count": 0,
      "outputs": []
    },
    {
      "cell_type": "code",
      "metadata": {
        "id": "ZizQk84lEC3L",
        "colab_type": "code",
        "colab": {}
      },
      "source": [
        "# Libraries\n",
        "import os\n",
        "import itertools\n",
        "import numpy as np\n",
        "import pandas as pd\n",
        "import matplotlib.pyplot as plt\n",
        "\n",
        "from konlpy.tag import Komoran\n",
        "\n",
        "import tensorflow as tf"
      ],
      "execution_count": 0,
      "outputs": []
    },
    {
      "cell_type": "code",
      "metadata": {
        "id": "Dw-eONQNEZIl",
        "colab_type": "code",
        "outputId": "69cd2828-aa20-4dc7-875c-b134ff1f2471",
        "colab": {
          "base_uri": "https://localhost:8080/",
          "height": 359
        }
      },
      "source": [
        "# GPU Setting\n",
        "!nvidia-smi\n",
        "\n",
        "print(f'tensorflow version : {tf.__version__}')\n",
        "print(f'available GPU list : {tf.config.list_physical_devices(\"GPU\")}')"
      ],
      "execution_count": 0,
      "outputs": [
        {
          "output_type": "stream",
          "text": [
            "Wed May 27 13:23:36 2020       \n",
            "+-----------------------------------------------------------------------------+\n",
            "| NVIDIA-SMI 440.82       Driver Version: 418.67       CUDA Version: 10.1     |\n",
            "|-------------------------------+----------------------+----------------------+\n",
            "| GPU  Name        Persistence-M| Bus-Id        Disp.A | Volatile Uncorr. ECC |\n",
            "| Fan  Temp  Perf  Pwr:Usage/Cap|         Memory-Usage | GPU-Util  Compute M. |\n",
            "|===============================+======================+======================|\n",
            "|   0  Tesla P100-PCIE...  Off  | 00000000:00:04.0 Off |                    0 |\n",
            "| N/A   35C    P0    25W / 250W |      0MiB / 16280MiB |      0%      Default |\n",
            "+-------------------------------+----------------------+----------------------+\n",
            "                                                                               \n",
            "+-----------------------------------------------------------------------------+\n",
            "| Processes:                                                       GPU Memory |\n",
            "|  GPU       PID   Type   Process name                             Usage      |\n",
            "|=============================================================================|\n",
            "|  No running processes found                                                 |\n",
            "+-----------------------------------------------------------------------------+\n",
            "tensorflow version : 2.2.0\n",
            "available GPU list : [PhysicalDevice(name='/physical_device:GPU:0', device_type='GPU')]\n"
          ],
          "name": "stdout"
        }
      ]
    },
    {
      "cell_type": "code",
      "metadata": {
        "id": "Wsk7XAE2Lz_g",
        "colab_type": "code",
        "colab": {}
      },
      "source": [
        "# Hyperparameters\n",
        "config = {\n",
        "    'base_dir' : '/content/drive/Shared drives/Yoon/Project/Doing/Deep Learning Paper Implementation',\n",
        "    'max_len' : 64,\n",
        "    'num_layer' : 4,\n",
        "    'model_dim' : 128,\n",
        "    'dff' : 128,\n",
        "    'num_head' : 4,\n",
        "    'drop_rate' : 0.2,\n",
        "    'batch_size' : 256,\n",
        "    'epoch_size' : 3,\n",
        "\n",
        "}"
      ],
      "execution_count": 0,
      "outputs": []
    },
    {
      "cell_type": "markdown",
      "metadata": {
        "id": "Qd9D_aouEVMB",
        "colab_type": "text"
      },
      "source": [
        "## 2. Data"
      ]
    },
    {
      "cell_type": "code",
      "metadata": {
        "id": "SM0DiPGIVo8A",
        "colab_type": "code",
        "colab": {}
      },
      "source": [
        "def tokenize(string, tokenizer):\n",
        "    tokens = tokenizer.pos(string)\n",
        "    tokens = ['_'.join(i) for i in tokens]\n",
        "    return tokens\n",
        "\n",
        "class TextDataset(tf.keras.utils.Sequence):\n",
        "    def __init__(self, data, vocab, shuffle, config):\n",
        "        self.data = data\n",
        "        self.vocab = vocab\n",
        "        self.token2id = {j:i for i,j in enumerate(vocab)}\n",
        "        self.data_len = len(data)\n",
        "        self.shuffle = shuffle\n",
        "        self.config = config\n",
        "        self.idx = 0\n",
        "        self.on_epoch_end()\n",
        "    \n",
        "    def __len__(self):\n",
        "        return np.ceil(len(self.data) / self.config['batch_size']).astype(np.int)\n",
        "    \n",
        "    def on_epoch_end(self):\n",
        "        if self.shuffle:\n",
        "            self.indices = np.random.permutation(self.data_len)\n",
        "        else:\n",
        "            self.indices = np.arange(self.data_len)\n",
        "\n",
        "\n",
        "    def __getitem__(self, idx):\n",
        "        batch_idx = self.indices[self.config['batch_size']*idx : self.config['batch_size']*(idx+1)]\n",
        "        x = self.data.iloc[batch_idx]['tokens']\n",
        "        x = [['[CLS]'] + i for i in x]\n",
        "        x = [i[:MAX_LENGTH] for i in x]\n",
        "        x = [[self.token2id[j] if j in self.vocab else self.token2id['[UNK]'] for j in i] for i in x]\n",
        "        x = [np.pad(i, (0, self.config['max_len']-len(i)), 'constant') for i in x]\n",
        "        x = np.array(x).astype(np.int)\n",
        "        y = self.data.iloc[batch_idx]['label']\n",
        "        y = np.array(y).astype(np.int)\n",
        "        return x, y\n",
        "\n",
        "    def next(self):\n",
        "        if self.idx == self.__len__():\n",
        "            self.on_epoch_end()\n",
        "            self.idx = 0\n",
        "        x, y = self.__getitem__(self.idx)\n",
        "        self.idx += 1\n",
        "        return x, y"
      ],
      "execution_count": 0,
      "outputs": []
    },
    {
      "cell_type": "code",
      "metadata": {
        "id": "hzYjD0NkEzIs",
        "colab_type": "code",
        "colab": {}
      },
      "source": [
        "data_path = os.path.join(BASE_DIR, 'data/naver_sentiment_movie_corpus.zip')"
      ],
      "execution_count": 0,
      "outputs": []
    },
    {
      "cell_type": "code",
      "metadata": {
        "id": "gCdnQjRJFn-M",
        "colab_type": "code",
        "colab": {}
      },
      "source": [
        "!unzip $\"{data_path}\" -d \"/content/data\""
      ],
      "execution_count": 0,
      "outputs": []
    },
    {
      "cell_type": "code",
      "metadata": {
        "id": "OJgxVcTRUyS3",
        "colab_type": "code",
        "colab": {}
      },
      "source": [
        "train_data = pd.read_table('/content/data/ratings_train.txt')\n",
        "test_data = pd.read_table('/content/data/ratings_test.txt')"
      ],
      "execution_count": 0,
      "outputs": []
    },
    {
      "cell_type": "code",
      "metadata": {
        "id": "CGGVUdmSUyKT",
        "colab_type": "code",
        "outputId": "dc7e97a5-9227-42c9-fa94-1a1f153f1f00",
        "colab": {
          "base_uri": "https://localhost:8080/",
          "height": 204
        }
      },
      "source": [
        "train_data.head()"
      ],
      "execution_count": 0,
      "outputs": [
        {
          "output_type": "execute_result",
          "data": {
            "text/html": [
              "<div>\n",
              "<style scoped>\n",
              "    .dataframe tbody tr th:only-of-type {\n",
              "        vertical-align: middle;\n",
              "    }\n",
              "\n",
              "    .dataframe tbody tr th {\n",
              "        vertical-align: top;\n",
              "    }\n",
              "\n",
              "    .dataframe thead th {\n",
              "        text-align: right;\n",
              "    }\n",
              "</style>\n",
              "<table border=\"1\" class=\"dataframe\">\n",
              "  <thead>\n",
              "    <tr style=\"text-align: right;\">\n",
              "      <th></th>\n",
              "      <th>id</th>\n",
              "      <th>document</th>\n",
              "      <th>label</th>\n",
              "    </tr>\n",
              "  </thead>\n",
              "  <tbody>\n",
              "    <tr>\n",
              "      <th>0</th>\n",
              "      <td>9976970</td>\n",
              "      <td>아 더빙.. 진짜 짜증나네요 목소리</td>\n",
              "      <td>0</td>\n",
              "    </tr>\n",
              "    <tr>\n",
              "      <th>1</th>\n",
              "      <td>3819312</td>\n",
              "      <td>흠...포스터보고 초딩영화줄....오버연기조차 가볍지 않구나</td>\n",
              "      <td>1</td>\n",
              "    </tr>\n",
              "    <tr>\n",
              "      <th>2</th>\n",
              "      <td>10265843</td>\n",
              "      <td>너무재밓었다그래서보는것을추천한다</td>\n",
              "      <td>0</td>\n",
              "    </tr>\n",
              "    <tr>\n",
              "      <th>3</th>\n",
              "      <td>9045019</td>\n",
              "      <td>교도소 이야기구먼 ..솔직히 재미는 없다..평점 조정</td>\n",
              "      <td>0</td>\n",
              "    </tr>\n",
              "    <tr>\n",
              "      <th>4</th>\n",
              "      <td>6483659</td>\n",
              "      <td>사이몬페그의 익살스런 연기가 돋보였던 영화!스파이더맨에서 늙어보이기만 했던 커스틴 ...</td>\n",
              "      <td>1</td>\n",
              "    </tr>\n",
              "  </tbody>\n",
              "</table>\n",
              "</div>"
            ],
            "text/plain": [
              "         id                                           document  label\n",
              "0   9976970                                아 더빙.. 진짜 짜증나네요 목소리      0\n",
              "1   3819312                  흠...포스터보고 초딩영화줄....오버연기조차 가볍지 않구나      1\n",
              "2  10265843                                  너무재밓었다그래서보는것을추천한다      0\n",
              "3   9045019                      교도소 이야기구먼 ..솔직히 재미는 없다..평점 조정      0\n",
              "4   6483659  사이몬페그의 익살스런 연기가 돋보였던 영화!스파이더맨에서 늙어보이기만 했던 커스틴 ...      1"
            ]
          },
          "metadata": {
            "tags": []
          },
          "execution_count": 10
        }
      ]
    },
    {
      "cell_type": "code",
      "metadata": {
        "id": "dDuqrLa1WUmO",
        "colab_type": "code",
        "outputId": "8b110107-9052-44da-801b-d282c2edf926",
        "colab": {
          "base_uri": "https://localhost:8080/",
          "height": 89
        }
      },
      "source": [
        "train_data.isnull().sum()"
      ],
      "execution_count": 0,
      "outputs": [
        {
          "output_type": "execute_result",
          "data": {
            "text/plain": [
              "id          0\n",
              "document    5\n",
              "label       0\n",
              "dtype: int64"
            ]
          },
          "metadata": {
            "tags": []
          },
          "execution_count": 30
        }
      ]
    },
    {
      "cell_type": "code",
      "metadata": {
        "id": "GRZfzct0WVjL",
        "colab_type": "code",
        "colab": {}
      },
      "source": [
        "train_data = train_data.dropna()\n",
        "test_data = test_data.dropna()"
      ],
      "execution_count": 0,
      "outputs": []
    },
    {
      "cell_type": "code",
      "metadata": {
        "id": "QKWH1aDPVLfc",
        "colab_type": "code",
        "colab": {}
      },
      "source": [
        "tokenizer = Komoran()"
      ],
      "execution_count": 0,
      "outputs": []
    },
    {
      "cell_type": "code",
      "metadata": {
        "id": "Wroa-m6YVZYw",
        "colab_type": "code",
        "colab": {}
      },
      "source": [
        "train_data['tokens'] = train_data['document'].apply(lambda x : tokenize(x, tokenizer))\n",
        "test_data['tokens'] = test_data['document'].apply(lambda x : tokenize(x, tokenizer))"
      ],
      "execution_count": 0,
      "outputs": []
    },
    {
      "cell_type": "code",
      "metadata": {
        "id": "b2RfctcBY4Zs",
        "colab_type": "code",
        "colab": {}
      },
      "source": [
        "vocab = list(itertools.chain(*train_data['tokens']))\n",
        "vocab = list(set(vocab))\n",
        "vocab = ['[PAD]', '[CLS]', '[MASK]', '[UNK]'] + vocab"
      ],
      "execution_count": 0,
      "outputs": []
    },
    {
      "cell_type": "code",
      "metadata": {
        "id": "imz-jd3KVGcV",
        "colab_type": "code",
        "outputId": "8a0a017a-b558-4bac-83ea-d8b0c209c9ba",
        "colab": {
          "base_uri": "https://localhost:8080/",
          "height": 35
        }
      },
      "source": [
        "print(len(vocab))"
      ],
      "execution_count": 0,
      "outputs": [
        {
          "output_type": "stream",
          "text": [
            "64916\n"
          ],
          "name": "stdout"
        }
      ]
    },
    {
      "cell_type": "code",
      "metadata": {
        "id": "Mv1QP_v5ZzUb",
        "colab_type": "code",
        "colab": {}
      },
      "source": [
        "train_dataset = TextDataset(train_data, vocab, True, config)\n",
        "test_dataset = TextDataset(test_data, vocab, False, config)"
      ],
      "execution_count": 0,
      "outputs": []
    },
    {
      "cell_type": "code",
      "metadata": {
        "id": "RO9GqO_yZ4J0",
        "colab_type": "code",
        "colab": {}
      },
      "source": [
        "x, y = train_dataset.next()"
      ],
      "execution_count": 0,
      "outputs": []
    },
    {
      "cell_type": "code",
      "metadata": {
        "id": "FpLF2RRNZ6GE",
        "colab_type": "code",
        "outputId": "8b418714-da69-441a-91e0-1b09477ae562",
        "colab": {
          "base_uri": "https://localhost:8080/",
          "height": 35
        }
      },
      "source": [
        "x.shape, y.shape"
      ],
      "execution_count": 0,
      "outputs": [
        {
          "output_type": "execute_result",
          "data": {
            "text/plain": [
              "((256, 64), (256,))"
            ]
          },
          "metadata": {
            "tags": []
          },
          "execution_count": 125
        }
      ]
    },
    {
      "cell_type": "markdown",
      "metadata": {
        "id": "bLljDsOoFoLN",
        "colab_type": "text"
      },
      "source": [
        "## 3. Model"
      ]
    },
    {
      "cell_type": "code",
      "metadata": {
        "id": "2NbRhIkmFo47",
        "colab_type": "code",
        "colab": {}
      },
      "source": [
        "def create_padding_mask(seq):\n",
        "    seq = tf.cast(tf.math.equal(seq, 0), tf.float32)\n",
        "    return seq[:, tf.newaxis, tf.newaxis, :]  # (batch_size, 1, 1, seq_len)\n",
        "\n",
        "def gelu(x):\n",
        "    cdf = 0.5 * (1.0 + tf.math.erf(x / tf.sqrt(2.0)))\n",
        "    return x * cdf\n",
        "\n",
        "def scaled_dot_product_attention(q, k, v, mask):\n",
        "    matmul_qk = tf.matmul(q, k, transpose_b=True) \n",
        "    dk = tf.cast(tf.shape(k)[-1], tf.float32)\n",
        "    scaled_attention_logits = matmul_qk / tf.math.sqrt(dk)\n",
        "\n",
        "    if mask is not None:\n",
        "        scaled_attention_logits += (mask * -1e9)  \n",
        "\n",
        "    attention_weights = tf.nn.softmax(scaled_attention_logits, axis=-1) \n",
        "    output = tf.matmul(attention_weights, v)  \n",
        "    return output, attention_weights\n",
        "\n",
        "\n",
        "class Embedding(tf.keras.layers.Layer):\n",
        "    def __init__(self, num_token, model_dim, max_len, drop_rate):\n",
        "        super(Embedding, self).__init__()\n",
        "        self.token_embedding = tf.keras.layers.Embedding(num_token, model_dim, mask_zero=False, input_length=max_len)\n",
        "        self.pos_embedding = tf.keras.layers.Embedding(max_len, model_dim, mask_zero=False, input_length=max_len)\n",
        "        self.layernorm = tf.keras.layers.LayerNormalization(epsilon=1e-6)\n",
        "        self.dropout = tf.keras.layers.Dropout(drop_rate)\n",
        "        self.pos = tf.range(0, max_len)\n",
        "    \n",
        "    def call(self, x, training):\n",
        "        token_embedded = self.token_embedding(x)\n",
        "        pos_embedded = self.pos_embedding(self.pos)\n",
        "        pos_embedded = pos_embedded[None,:,:]\n",
        "        embedded = pos_embedded + token_embedded\n",
        "        embedded = self.layernorm(embedded)\n",
        "        embedded = self.dropout(embedded, training=training)\n",
        "        return embedded\n",
        "\n",
        "\n",
        "class MultiHeadAttention(tf.keras.layers.Layer):\n",
        "    def __init__(self, model_dim, num_head):\n",
        "        super(MultiHeadAttention, self).__init__()\n",
        "        self.num_head = num_head\n",
        "        self.model_dim = model_dim\n",
        "        self.depth = model_dim // num_head\n",
        "        assert model_dim % num_head == 0\n",
        "\n",
        "        self.wq = tf.keras.layers.Dense(model_dim)\n",
        "        self.wk = tf.keras.layers.Dense(model_dim)\n",
        "        self.wv = tf.keras.layers.Dense(model_dim)\n",
        "        self.dense = tf.keras.layers.Dense(model_dim)\n",
        "        \n",
        "    def split_heads(self, x, batch_size):\n",
        "        x = tf.reshape(x, (batch_size, -1, self.num_head, self.depth))\n",
        "        return tf.transpose(x, perm=[0, 2, 1, 3])\n",
        "    \n",
        "    def call(self, q, k, v, mask):\n",
        "        batch_size = tf.shape(q)[0]\n",
        "        \n",
        "        q = self.wq(q)  # (batch_size, seq_len, d_model)\n",
        "        k = self.wk(k)  # (batch_size, seq_len, d_model)\n",
        "        v = self.wv(v)  # (batch_size, seq_len, d_model)\n",
        "        \n",
        "        q = self.split_heads(q, batch_size)  # (batch_size, num_heads, seq_len_q, depth)\n",
        "        k = self.split_heads(k, batch_size)  # (batch_size, num_heads, seq_len_k, depth)\n",
        "        v = self.split_heads(v, batch_size)  # (batch_size, num_heads, seq_len_v, depth)\n",
        "        \n",
        "        # scaled_attention.shape == (batch_size, num_heads, seq_len_q, depth)\n",
        "        # attention_weights.shape == (batch_size, num_heads, seq_len_q, seq_len_k)\n",
        "        scaled_attention, attention_weights = scaled_dot_product_attention(q, k, v, mask)\n",
        "        scaled_attention = tf.transpose(scaled_attention, perm=[0, 2, 1, 3])  # (batch_size, seq_len_q, num_heads, depth)\n",
        "        concat_attention = tf.reshape(scaled_attention, (batch_size, -1, self.model_dim))  # (batch_size, seq_len_q, d_model)\n",
        "\n",
        "        output = self.dense(concat_attention)  # (batch_size, seq_len_q, d_model)            \n",
        "        return output, attention_weights\n",
        "\n",
        "\n",
        "class PointWiseFeedForward(tf.keras.layers.Layer):\n",
        "    def __init__(self, model_dim, dff):\n",
        "        super(PointWiseFeedForward, self).__init__()\n",
        "        self.dense1 = tf.keras.layers.Dense(dff)\n",
        "        self.dense2 = tf.keras.layers.Dense(model_dim)\n",
        "    \n",
        "    def call(self, x):\n",
        "        x = self.dense1(x)\n",
        "        x = gelu(x)\n",
        "        x = self.dense2(x)\n",
        "        return x\n",
        "\n",
        "\n",
        "class EncoderLayer(tf.keras.layers.Layer):\n",
        "    def __init__(self, model_dim, num_head, dff, drop_rate):\n",
        "        super(EncoderLayer, self).__init__()\n",
        "\n",
        "        self.mha = MultiHeadAttention(model_dim, num_head)\n",
        "        self.pwff = PointWiseFeedForward(model_dim, dff)\n",
        "        self.layernorm1 = tf.keras.layers.LayerNormalization(epsilon=1e-6)\n",
        "        self.layernorm2 = tf.keras.layers.LayerNormalization(epsilon=1e-6)\n",
        "        self.dropout1 = tf.keras.layers.Dropout(drop_rate)\n",
        "        self.dropout2 = tf.keras.layers.Dropout(drop_rate)\n",
        "        \n",
        "    def call(self, x, mask, training):\n",
        "        attn_output, _ = self.mha(x, x, x, mask)  # (batch_size, input_seq_len, d_model)\n",
        "        attn_output = self.dropout1(attn_output, training=training)\n",
        "        out1 = self.layernorm1(x + attn_output)  # (batch_size, input_seq_len, d_model)\n",
        "        \n",
        "        pwff_output = self.pwff(out1)  # (batch_size, input_seq_len, d_model)\n",
        "        pwff_output = self.dropout2(pwff_output, training=training)\n",
        "        out2 = self.layernorm2(out1 + pwff_output)  # (batch_size, input_seq_len, d_model)\n",
        "        return out2\n",
        "\n",
        "class OutputLayer(tf.keras.layers.Layer):\n",
        "    def __init__(self, model_dim, drop_rate):\n",
        "        super(OutputLayer, self).__init__()\n",
        "        self.dense1 = tf.keras.layers.Dense(model_dim / 2, activation='relu')\n",
        "        self.dense2 = tf.keras.layers.Dense(1, activation='sigmoid')\n",
        "        self.dropout = tf.keras.layers.Dropout(drop_rate)\n",
        "    \n",
        "    def call(self, x, training):\n",
        "        x = x[:, 0]\n",
        "        x = self.dense1(x)\n",
        "        x = self.dropout(x, training)\n",
        "        x = self.dense2(x)\n",
        "        return x\n",
        "\n",
        "class Network(tf.keras.Model):\n",
        "    def __init__(self, num_token, config):\n",
        "        super(Network, self).__init__()\n",
        "        self.config = config\n",
        "        self.embedding = Embedding(num_token, config['model_dim'], config['max_len'], config['drop_rate'])\n",
        "        self.encoder_layers = [EncoderLayer(config['model_dim'], config['num_head'], config['dff'], config['drop_rate']) for _ in range(config['num_layer'])]\n",
        "        self.output_layer = OutputLayer(config['model_dim'], config['drop_rate'])\n",
        "    \n",
        "    def call(self, x, training):\n",
        "        mask = create_padding_mask(x)\n",
        "        x = self.embedding(x)\n",
        "        for i in range(self.config['num_layer']):\n",
        "            x = self.encoder_layers[i](x, mask, training)\n",
        "        x = self.output_layer(x)\n",
        "        return x"
      ],
      "execution_count": 0,
      "outputs": []
    },
    {
      "cell_type": "code",
      "metadata": {
        "id": "J_7_PUNrFpCS",
        "colab_type": "code",
        "outputId": "b17dde75-14f1-454a-ac6e-57f2c48e0813",
        "colab": {
          "base_uri": "https://localhost:8080/",
          "height": 395
        }
      },
      "source": [
        "network = Network(len(vocab), config)\n",
        "network.compile(\n",
        "    loss = 'binary_crossentropy',\n",
        "    optimizer = 'adam',\n",
        "    metrics = ['acc']\n",
        ")\n",
        "\n",
        "_ = network(x, training=False)\n",
        "print(network.summary())"
      ],
      "execution_count": 0,
      "outputs": [
        {
          "output_type": "stream",
          "text": [
            "Model: \"network_14\"\n",
            "_________________________________________________________________\n",
            "Layer (type)                 Output Shape              Param #   \n",
            "=================================================================\n",
            "embedding_42 (Embedding)     multiple                  8317696   \n",
            "_________________________________________________________________\n",
            "encoder_layer_66 (EncoderLay multiple                  99584     \n",
            "_________________________________________________________________\n",
            "encoder_layer_67 (EncoderLay multiple                  99584     \n",
            "_________________________________________________________________\n",
            "encoder_layer_68 (EncoderLay multiple                  99584     \n",
            "_________________________________________________________________\n",
            "encoder_layer_69 (EncoderLay multiple                  99584     \n",
            "_________________________________________________________________\n",
            "output_layer_12 (OutputLayer multiple                  8321      \n",
            "=================================================================\n",
            "Total params: 8,724,353\n",
            "Trainable params: 8,724,353\n",
            "Non-trainable params: 0\n",
            "_________________________________________________________________\n",
            "None\n"
          ],
          "name": "stdout"
        }
      ]
    },
    {
      "cell_type": "markdown",
      "metadata": {
        "id": "AILnMW_tFpOG",
        "colab_type": "text"
      },
      "source": [
        "## 4. Train"
      ]
    },
    {
      "cell_type": "code",
      "metadata": {
        "id": "bhyQw7zyFq8B",
        "colab_type": "code",
        "outputId": "ae26e25a-55db-452f-efd9-556ac8725d20",
        "colab": {
          "base_uri": "https://localhost:8080/",
          "height": 125
        }
      },
      "source": [
        "hist = network.fit(\n",
        "    train_dataset,\n",
        "    epochs = config['epoch_size']\n",
        ")"
      ],
      "execution_count": 0,
      "outputs": [
        {
          "output_type": "stream",
          "text": [
            "Epoch 1/3\n",
            "586/586 [==============================] - 2581s 4s/step - loss: 0.4087 - acc: 0.8101\n",
            "Epoch 2/3\n",
            "586/586 [==============================] - 2469s 4s/step - loss: 0.2833 - acc: 0.8842\n",
            "Epoch 3/3\n",
            "586/586 [==============================] - 2442s 4s/step - loss: 0.2120 - acc: 0.9162\n"
          ],
          "name": "stdout"
        }
      ]
    },
    {
      "cell_type": "markdown",
      "metadata": {
        "id": "owJetCrTFr_S",
        "colab_type": "text"
      },
      "source": [
        "## 5. Test"
      ]
    },
    {
      "cell_type": "code",
      "metadata": {
        "id": "R3HN95nRFs-U",
        "colab_type": "code",
        "outputId": "df83ee60-350d-4fe9-9bf8-c60c98706f5c",
        "colab": {
          "base_uri": "https://localhost:8080/",
          "height": 35
        }
      },
      "source": [
        "loss, acc = network.evaluate(test_dataset)"
      ],
      "execution_count": 0,
      "outputs": [
        {
          "output_type": "stream",
          "text": [
            "196/196 [==============================] - 797s 4s/step - loss: 0.4245 - acc: 0.8413\n"
          ],
          "name": "stdout"
        }
      ]
    },
    {
      "cell_type": "code",
      "metadata": {
        "id": "g9CWqhaEFtNA",
        "colab_type": "code",
        "colab": {}
      },
      "source": [
        ""
      ],
      "execution_count": 0,
      "outputs": []
    }
  ]
}