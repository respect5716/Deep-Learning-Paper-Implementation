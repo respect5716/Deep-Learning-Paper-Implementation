{
  "nbformat": 4,
  "nbformat_minor": 0,
  "metadata": {
    "colab": {
      "name": "Playing Atari with Deep Reinforcement Learning",
      "provenance": [],
      "collapsed_sections": [],
      "authorship_tag": "ABX9TyOQMWdnLFX0MDZUBazkmyjx",
      "include_colab_link": true
    },
    "kernelspec": {
      "name": "python3",
      "display_name": "Python 3"
    },
    "accelerator": "GPU"
  },
  "cells": [
    {
      "cell_type": "markdown",
      "metadata": {
        "id": "view-in-github",
        "colab_type": "text"
      },
      "source": [
        "<a href=\"https://colab.research.google.com/github/respect5716/Deep-Learning-Paper-Implementation/blob/master/04_RL/Playing%20Atari%20with%20Deep%20Reinforcement%20Learning%20(DQN).ipynb\" target=\"_parent\"><img src=\"https://colab.research.google.com/assets/colab-badge.svg\" alt=\"Open In Colab\"/></a>"
      ]
    },
    {
      "cell_type": "markdown",
      "metadata": {
        "id": "wzh7yGxNDluC",
        "colab_type": "text"
      },
      "source": [
        "# Playing Atari with Deep Reinforcement Learning"
      ]
    },
    {
      "cell_type": "markdown",
      "metadata": {
        "id": "Iki6sM3EDsjS",
        "colab_type": "text"
      },
      "source": [
        "## 0. Paper"
      ]
    },
    {
      "cell_type": "markdown",
      "metadata": {
        "id": "subFe3E5DttM",
        "colab_type": "text"
      },
      "source": [
        "### Info\n",
        "* TItle : Playing Atari with Deep Reinforcement Learning\n",
        "* Author : Volodymyr Mnih et al.\n",
        "* Publication : NIPS 2013 [link](https://www.cs.toronto.edu/~vmnih/docs/dqn.pdf)"
      ]
    },
    {
      "cell_type": "markdown",
      "metadata": {
        "id": "PvL7j-dcEHBW",
        "colab_type": "text"
      },
      "source": [
        "### Summary\n",
        "* high dimensional input에 대해 end-to-end로 policy를 학습함\n",
        "* experience replay를 사용하여 batch data간의 correlation을 줄임"
      ]
    },
    {
      "cell_type": "markdown",
      "metadata": {
        "id": "vTR7QXvpDz_j",
        "colab_type": "text"
      },
      "source": [
        "### Differences\n",
        "* Environment : Atari -> Cartpole"
      ]
    },
    {
      "cell_type": "markdown",
      "metadata": {
        "id": "JuaQpOWMD9tz",
        "colab_type": "text"
      },
      "source": [
        "## 1. Settings"
      ]
    },
    {
      "cell_type": "code",
      "metadata": {
        "id": "3HVy-eYPLlUU",
        "colab_type": "code",
        "colab": {}
      },
      "source": [
        "# Google Drive\n",
        "from google.colab import drive\n",
        "drive.mount('/content/drive')"
      ],
      "execution_count": 0,
      "outputs": []
    },
    {
      "cell_type": "code",
      "metadata": {
        "id": "ZizQk84lEC3L",
        "colab_type": "code",
        "colab": {}
      },
      "source": [
        "# Libraries\n",
        "import os\n",
        "import time\n",
        "import random\n",
        "import numpy as np\n",
        "import pandas as pd\n",
        "import matplotlib.pyplot as plt\n",
        "\n",
        "import cv2\n",
        "import gym\n",
        "from collections import deque\n",
        "\n",
        "import tensorflow as tf"
      ],
      "execution_count": 0,
      "outputs": []
    },
    {
      "cell_type": "code",
      "metadata": {
        "id": "Dw-eONQNEZIl",
        "colab_type": "code",
        "outputId": "4d196395-e11c-49c3-9698-80fd59c683ef",
        "colab": {
          "base_uri": "https://localhost:8080/",
          "height": 359
        }
      },
      "source": [
        "# GPU Setting\n",
        "!nvidia-smi\n",
        "\n",
        "print(f'tensorflow version : {tf.__version__}')\n",
        "print(f'available GPU list : {tf.config.list_physical_devices(\"GPU\")}')"
      ],
      "execution_count": 3,
      "outputs": [
        {
          "output_type": "stream",
          "text": [
            "Thu May 28 10:05:39 2020       \n",
            "+-----------------------------------------------------------------------------+\n",
            "| NVIDIA-SMI 440.82       Driver Version: 418.67       CUDA Version: 10.1     |\n",
            "|-------------------------------+----------------------+----------------------+\n",
            "| GPU  Name        Persistence-M| Bus-Id        Disp.A | Volatile Uncorr. ECC |\n",
            "| Fan  Temp  Perf  Pwr:Usage/Cap|         Memory-Usage | GPU-Util  Compute M. |\n",
            "|===============================+======================+======================|\n",
            "|   0  Tesla P100-PCIE...  Off  | 00000000:00:04.0 Off |                    0 |\n",
            "| N/A   44C    P0    26W / 250W |      0MiB / 16280MiB |      0%      Default |\n",
            "+-------------------------------+----------------------+----------------------+\n",
            "                                                                               \n",
            "+-----------------------------------------------------------------------------+\n",
            "| Processes:                                                       GPU Memory |\n",
            "|  GPU       PID   Type   Process name                             Usage      |\n",
            "|=============================================================================|\n",
            "|  No running processes found                                                 |\n",
            "+-----------------------------------------------------------------------------+\n",
            "tensorflow version : 2.2.0\n",
            "available GPU list : [PhysicalDevice(name='/physical_device:GPU:0', device_type='GPU')]\n"
          ],
          "name": "stdout"
        }
      ]
    },
    {
      "cell_type": "code",
      "metadata": {
        "id": "Wsk7XAE2Lz_g",
        "colab_type": "code",
        "colab": {}
      },
      "source": [
        "# Hyperparameters\n",
        "CONFIG = {\n",
        "    'base_dir' : '/content/drive/Shared drives/Yoon/Project/Doing/Deep Learning Paper Implementation',\n",
        "    'learning_rate' : 0.001,\n",
        "    'gamma' : 0.95,\n",
        "    'epsilon_max' : 1.,\n",
        "    'epsilon_min' : 0.1,\n",
        "    'epsilon_decay' : 0.95,\n",
        "    'replay_len' : 1000,\n",
        "    'batch_size' : 32,\n",
        "    'episode_size' : 1000\n",
        "}"
      ],
      "execution_count": 0,
      "outputs": []
    },
    {
      "cell_type": "markdown",
      "metadata": {
        "id": "Qd9D_aouEVMB",
        "colab_type": "text"
      },
      "source": [
        "## 2. Environment"
      ]
    },
    {
      "cell_type": "code",
      "metadata": {
        "id": "hzYjD0NkEzIs",
        "colab_type": "code",
        "colab": {}
      },
      "source": [
        "env = gym.make('CartPole-v1')"
      ],
      "execution_count": 0,
      "outputs": []
    },
    {
      "cell_type": "code",
      "metadata": {
        "id": "gCdnQjRJFn-M",
        "colab_type": "code",
        "colab": {}
      },
      "source": [
        "state = env.reset()"
      ],
      "execution_count": 0,
      "outputs": []
    },
    {
      "cell_type": "code",
      "metadata": {
        "id": "n0jSs0pBvvRP",
        "colab_type": "code",
        "colab": {
          "base_uri": "https://localhost:8080/",
          "height": 35
        },
        "outputId": "3bad01ae-11e9-4c20-db48-6110ac01f38f"
      },
      "source": [
        "state.shape"
      ],
      "execution_count": 175,
      "outputs": [
        {
          "output_type": "execute_result",
          "data": {
            "text/plain": [
              "(4,)"
            ]
          },
          "metadata": {
            "tags": []
          },
          "execution_count": 175
        }
      ]
    },
    {
      "cell_type": "markdown",
      "metadata": {
        "id": "bLljDsOoFoLN",
        "colab_type": "text"
      },
      "source": [
        "## 3. Model"
      ]
    },
    {
      "cell_type": "code",
      "metadata": {
        "id": "TGr6WhJnKGgo",
        "colab_type": "code",
        "colab": {}
      },
      "source": [
        "class Agent(object):\n",
        "    def __init__(self, state_space, action_space):\n",
        "        self.state_space = state_space\n",
        "        self.action_space = action_space\n",
        "        self.network, self.optimizer = self.build_network()\n",
        "    \n",
        "    def build_network(self):\n",
        "        inputs = tf.keras.layers.Input(self.state_space)\n",
        "        x = tf.keras.layers.Dense(128, activation='relu')(inputs)\n",
        "        x = tf.keras.layers.Dense(64, activation='relu')(x)\n",
        "        outputs = tf.keras.layers.Dense(self.action_space, activation='linear')(x)\n",
        "\n",
        "        network = tf.keras.Model(inputs, outputs)\n",
        "        optimizer = tf.keras.optimizers.Adam(CONFIG['learning_rate'])\n",
        "        print(network.summary())\n",
        "        return network, optimizer\n",
        "    \n",
        "    def act_by_value(self, state):\n",
        "        outputs = self.network.predict(state[None,:])\n",
        "        action = np.argmax(outputs)\n",
        "        return action\n",
        "    \n",
        "    def act_by_random(self):\n",
        "        action = np.random.randint(self.action_space)\n",
        "        return action\n",
        "    \n",
        "    def train(self, batch):\n",
        "        state, action, reward, next_state, done = zip(*batch)\n",
        "        state = np.stack(state, axis=0)\n",
        "        next_state = np.stack(next_state, axis=0)\n",
        "        action = np.array(action)\n",
        "        reward = np.array(reward)\n",
        "        done = np.array(done)\n",
        "\n",
        "        with tf.GradientTape() as tape:\n",
        "            q_value = self.network(state)\n",
        "            next_q_value = self.network(next_state)\n",
        "            selected_q_value = tf.reduce_sum(q_value * tf.one_hot(action, self.action_space), axis=-1)\n",
        "            target_q_value = reward + (1 - done) * np.max(next_q_value, axis=-1)\n",
        "            loss = tf.reduce_mean(tf.square(target_q_value - selected_q_value))\n",
        "        \n",
        "        variables = self.network.trainable_variables\n",
        "        gradients = tape.gradient(loss, variables)\n",
        "        self.optimizer.apply_gradients(zip(gradients, variables))\n",
        "        return loss"
      ],
      "execution_count": 0,
      "outputs": []
    },
    {
      "cell_type": "markdown",
      "metadata": {
        "id": "AILnMW_tFpOG",
        "colab_type": "text"
      },
      "source": [
        "## 4. Train"
      ]
    },
    {
      "cell_type": "code",
      "metadata": {
        "id": "bhyQw7zyFq8B",
        "colab_type": "code",
        "colab": {
          "base_uri": "https://localhost:8080/",
          "height": 1000
        },
        "outputId": "bab23ccf-02ed-4dd8-8f5f-65c397739f10"
      },
      "source": [
        "agent = Agent(env.observation_space.shape, env.action_space.n)\n",
        "replay = deque(maxlen=CONFIG['replay_len'])\n",
        "\n",
        "epsilon = CONFIG['epsilon_max']\n",
        "score_hist = []\n",
        "start_time = time.time()\n",
        "\n",
        "for i in range(CONFIG['episode_size']):\n",
        "    score = 0\n",
        "    done = False\n",
        "    state = env.reset()\n",
        "\n",
        "    while not done:\n",
        "        if np.random.rand() < epsilon:\n",
        "            action = agent.act_by_random()\n",
        "        else:\n",
        "            action = agent.act_by_value(state)\n",
        "        epsilon = max(epsilon*CONFIG['epsilon_decay'], CONFIG['epsilon_min'])\n",
        "\n",
        "        next_state, reward, done, _ = env.step(action)\n",
        "        replay.append((state, action, reward, next_state, done))\n",
        "        state = next_state\n",
        "        score += reward\n",
        "\n",
        "        if len(replay) >= CONFIG['batch_size']:\n",
        "            batch = random.sample(replay, CONFIG['batch_size'])\n",
        "            loss = network = agent.train(batch)\n",
        "        else:\n",
        "            pass\n",
        "        \n",
        "\n",
        "    score_hist.append(score)\n",
        "    q_value_hist.append(max_q)\n",
        "\n",
        "    if i % 10 == 0:\n",
        "        now = time.time() - start_time\n",
        "        print(f'EP : {str(i).zfill(4)} | Score : {str(int(score)).zfill(4)} | Time : {int(now)}s')\n",
        "\n",
        "print(f'EP : {str(i+1).zfill(3)} | Score : {score} | Time : {now}s')"
      ],
      "execution_count": 179,
      "outputs": [
        {
          "output_type": "stream",
          "text": [
            "Model: \"model_34\"\n",
            "_________________________________________________________________\n",
            "Layer (type)                 Output Shape              Param #   \n",
            "=================================================================\n",
            "input_35 (InputLayer)        [(None, 4)]               0         \n",
            "_________________________________________________________________\n",
            "dense_99 (Dense)             (None, 128)               640       \n",
            "_________________________________________________________________\n",
            "dense_100 (Dense)            (None, 64)                8256      \n",
            "_________________________________________________________________\n",
            "dense_101 (Dense)            (None, 2)                 130       \n",
            "=================================================================\n",
            "Total params: 9,026\n",
            "Trainable params: 9,026\n",
            "Non-trainable params: 0\n",
            "_________________________________________________________________\n",
            "None\n",
            "EP : 0000 | Score : 0012 | Time : 0s\n",
            "EP : 0010 | Score : 0008 | Time : 4s\n",
            "EP : 0020 | Score : 0027 | Time : 8s\n",
            "EP : 0030 | Score : 0061 | Time : 16s\n",
            "EP : 0040 | Score : 0083 | Time : 33s\n",
            "EP : 0050 | Score : 0011 | Time : 49s\n",
            "EP : 0060 | Score : 0229 | Time : 77s\n",
            "EP : 0070 | Score : 0102 | Time : 139s\n",
            "EP : 0080 | Score : 0161 | Time : 203s\n",
            "EP : 0090 | Score : 0335 | Time : 250s\n",
            "EP : 0100 | Score : 0009 | Time : 269s\n",
            "EP : 0110 | Score : 0020 | Time : 274s\n",
            "EP : 0120 | Score : 0132 | Time : 318s\n",
            "EP : 0130 | Score : 0212 | Time : 378s\n",
            "EP : 0140 | Score : 0389 | Time : 490s\n",
            "EP : 0150 | Score : 0437 | Time : 559s\n",
            "EP : 0160 | Score : 0207 | Time : 652s\n",
            "EP : 0170 | Score : 0295 | Time : 735s\n",
            "EP : 0180 | Score : 0009 | Time : 826s\n",
            "EP : 0190 | Score : 0011 | Time : 829s\n",
            "EP : 0200 | Score : 0008 | Time : 832s\n",
            "EP : 0210 | Score : 0010 | Time : 839s\n",
            "EP : 0220 | Score : 0233 | Time : 887s\n",
            "EP : 0230 | Score : 0282 | Time : 990s\n",
            "EP : 0240 | Score : 0162 | Time : 1068s\n",
            "EP : 0250 | Score : 0216 | Time : 1132s\n",
            "EP : 0260 | Score : 0389 | Time : 1260s\n",
            "EP : 0270 | Score : 0009 | Time : 1265s\n",
            "EP : 0280 | Score : 0012 | Time : 1269s\n",
            "EP : 0290 | Score : 0012 | Time : 1314s\n",
            "EP : 0300 | Score : 0013 | Time : 1323s\n",
            "EP : 0310 | Score : 0010 | Time : 1328s\n",
            "EP : 0320 | Score : 0176 | Time : 1340s\n",
            "EP : 0330 | Score : 0069 | Time : 1403s\n",
            "EP : 0340 | Score : 0113 | Time : 1472s\n",
            "EP : 0350 | Score : 0500 | Time : 1558s\n",
            "EP : 0360 | Score : 0500 | Time : 1705s\n",
            "EP : 0370 | Score : 0169 | Time : 1810s\n",
            "EP : 0380 | Score : 0011 | Time : 1820s\n",
            "EP : 0390 | Score : 0446 | Time : 1898s\n",
            "EP : 0400 | Score : 0149 | Time : 1954s\n",
            "EP : 0410 | Score : 0110 | Time : 1994s\n",
            "EP : 0420 | Score : 0171 | Time : 2043s\n",
            "EP : 0430 | Score : 0500 | Time : 2198s\n",
            "EP : 0440 | Score : 0012 | Time : 2224s\n",
            "EP : 0450 | Score : 0010 | Time : 2232s\n",
            "EP : 0460 | Score : 0287 | Time : 2255s\n",
            "EP : 0470 | Score : 0110 | Time : 2304s\n",
            "EP : 0480 | Score : 0038 | Time : 2326s\n",
            "EP : 0490 | Score : 0036 | Time : 2340s\n",
            "EP : 0500 | Score : 0108 | Time : 2367s\n",
            "EP : 0510 | Score : 0103 | Time : 2401s\n",
            "EP : 0520 | Score : 0108 | Time : 2439s\n",
            "EP : 0530 | Score : 0112 | Time : 2478s\n",
            "EP : 0540 | Score : 0126 | Time : 2518s\n",
            "EP : 0550 | Score : 0128 | Time : 2564s\n",
            "EP : 0560 | Score : 0150 | Time : 2612s\n",
            "EP : 0570 | Score : 0166 | Time : 2667s\n",
            "EP : 0580 | Score : 0227 | Time : 2733s\n",
            "EP : 0590 | Score : 0500 | Time : 2867s\n",
            "EP : 0600 | Score : 0012 | Time : 2999s\n",
            "EP : 0610 | Score : 0011 | Time : 3007s\n",
            "EP : 0620 | Score : 0008 | Time : 3011s\n",
            "EP : 0630 | Score : 0500 | Time : 3068s\n",
            "EP : 0640 | Score : 0500 | Time : 3226s\n",
            "EP : 0650 | Score : 0027 | Time : 3332s\n",
            "EP : 0660 | Score : 0009 | Time : 3350s\n",
            "EP : 0670 | Score : 0009 | Time : 3354s\n",
            "EP : 0680 | Score : 0010 | Time : 3357s\n",
            "EP : 0690 | Score : 0162 | Time : 3367s\n",
            "EP : 0700 | Score : 0032 | Time : 3383s\n",
            "EP : 0710 | Score : 0149 | Time : 3408s\n",
            "EP : 0720 | Score : 0500 | Time : 3531s\n",
            "EP : 0730 | Score : 0268 | Time : 3685s\n",
            "EP : 0740 | Score : 0158 | Time : 3750s\n",
            "EP : 0750 | Score : 0118 | Time : 3797s\n",
            "EP : 0760 | Score : 0132 | Time : 3839s\n",
            "EP : 0770 | Score : 0186 | Time : 3900s\n",
            "EP : 0780 | Score : 0156 | Time : 3958s\n",
            "EP : 0790 | Score : 0159 | Time : 4009s\n",
            "EP : 0800 | Score : 0152 | Time : 4063s\n",
            "EP : 0810 | Score : 0131 | Time : 4116s\n",
            "EP : 0820 | Score : 0129 | Time : 4164s\n",
            "EP : 0830 | Score : 0145 | Time : 4212s\n",
            "EP : 0840 | Score : 0155 | Time : 4265s\n",
            "EP : 0850 | Score : 0151 | Time : 4319s\n",
            "EP : 0860 | Score : 0160 | Time : 4368s\n",
            "EP : 0870 | Score : 0011 | Time : 4422s\n",
            "EP : 0880 | Score : 0010 | Time : 4448s\n",
            "EP : 0890 | Score : 0036 | Time : 4456s\n",
            "EP : 0900 | Score : 0143 | Time : 4494s\n",
            "EP : 0910 | Score : 0500 | Time : 4616s\n",
            "EP : 0920 | Score : 0500 | Time : 4793s\n",
            "EP : 0930 | Score : 0500 | Time : 4968s\n",
            "EP : 0940 | Score : 0370 | Time : 5121s\n",
            "EP : 0950 | Score : 0215 | Time : 5200s\n",
            "EP : 0960 | Score : 0191 | Time : 5275s\n",
            "EP : 0970 | Score : 0010 | Time : 5296s\n",
            "EP : 0980 | Score : 0500 | Time : 5335s\n",
            "EP : 0990 | Score : 0134 | Time : 5402s\n",
            "EP : 1000 | Score : 500.0 | Time : 5402.896902561188s\n"
          ],
          "name": "stdout"
        }
      ]
    },
    {
      "cell_type": "code",
      "metadata": {
        "id": "UczkxWUuUHjB",
        "colab_type": "code",
        "colab": {
          "base_uri": "https://localhost:8080/",
          "height": 281
        },
        "outputId": "cc6bc7b0-31b4-4aa1-b098-c1801f2b4fb5"
      },
      "source": [
        "plt.title('Score History')\n",
        "plt.plot(score_hist)\n",
        "plt.show()"
      ],
      "execution_count": 184,
      "outputs": [
        {
          "output_type": "display_data",
          "data": {
            "image/png": "[encoded data removed]",
            "text/plain": [
              "<Figure size 432x288 with 1 Axes>"
            ]
          },
          "metadata": {
            "tags": [],
            "needs_background": "light"
          }
        }
      ]
    },
    {
      "cell_type": "markdown",
      "metadata": {
        "id": "owJetCrTFr_S",
        "colab_type": "text"
      },
      "source": [
        "## 5. Test"
      ]
    },
    {
      "cell_type": "code",
      "metadata": {
        "id": "uJuafHSMBpP5",
        "colab_type": "code",
        "colab": {
          "base_uri": "https://localhost:8080/",
          "height": 107
        },
        "outputId": "2c9a939d-bfae-4fc5-fd8f-809dec6e3d30"
      },
      "source": [
        "for i in range(5):\n",
        "    score = 0\n",
        "    done = False\n",
        "    state = env.reset()\n",
        "\n",
        "    while not done:\n",
        "        action = agent.act_by_value(state)\n",
        "        next_state, reward, done, _ = env.step(action)\n",
        "        state = next_state\n",
        "        score += reward\n",
        "\n",
        "    print(f'EP : {i+1} | Score : {score}')"
      ],
      "execution_count": 186,
      "outputs": [
        {
          "output_type": "stream",
          "text": [
            "EP : 1 | Score : 500.0\n",
            "EP : 2 | Score : 500.0\n",
            "EP : 3 | Score : 500.0\n",
            "EP : 4 | Score : 500.0\n",
            "EP : 5 | Score : 500.0\n"
          ],
          "name": "stdout"
        }
      ]
    },
    {
      "cell_type": "code",
      "metadata": {
        "id": "eW5dWEb30kyb",
        "colab_type": "code",
        "colab": {}
      },
      "source": [
        ""
      ],
      "execution_count": 0,
      "outputs": []
    }
  ]
}