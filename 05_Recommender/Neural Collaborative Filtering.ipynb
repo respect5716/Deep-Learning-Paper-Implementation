{
  "nbformat": 4,
  "nbformat_minor": 0,
  "metadata": {
    "colab": {
      "name": "Neural Collaborative Filtering.ipynb",
      "provenance": [],
      "collapsed_sections": [],
      "authorship_tag": "ABX9TyNHwCL/3K9ZcIFj78bHI1/6",
      "include_colab_link": true
    },
    "kernelspec": {
      "name": "python3",
      "display_name": "Python 3"
    },
    "accelerator": "GPU"
  },
  "cells": [
    {
      "cell_type": "markdown",
      "metadata": {
        "id": "view-in-github",
        "colab_type": "text"
      },
      "source": [
        "<a href=\"https://colab.research.google.com/github/respect5716/Deep-Learning-Paper-Implementation/blob/master/05_Recommender/Neural%20Collaborative%20Filtering.ipynb\" target=\"_parent\"><img src=\"https://colab.research.google.com/assets/colab-badge.svg\" alt=\"Open In Colab\"/></a>"
      ]
    },
    {
      "cell_type": "markdown",
      "metadata": {
        "id": "wzh7yGxNDluC",
        "colab_type": "text"
      },
      "source": [
        "# Neural Collaborative Filtering"
      ]
    },
    {
      "cell_type": "markdown",
      "metadata": {
        "id": "Iki6sM3EDsjS",
        "colab_type": "text"
      },
      "source": [
        "## 0. Paper"
      ]
    },
    {
      "cell_type": "markdown",
      "metadata": {
        "id": "subFe3E5DttM",
        "colab_type": "text"
      },
      "source": [
        "### Info\n",
        "* TItle : Neural Collaborative Filtering\n",
        "* Author : Xiangnan He et al.\n",
        "* Publication : IW3C2 2017, [link](https://dl.acm.org/doi/pdf/10.1145/3038912.3052569)"
      ]
    },
    {
      "cell_type": "markdown",
      "metadata": {
        "id": "PvL7j-dcEHBW",
        "colab_type": "text"
      },
      "source": [
        "### Summary\n",
        "* neural network를 활용한 genereral collaborative filtering framework를 제시\n",
        "* 내적을 neural network로 대체함을써 비선형적 representation을 학습할 수 있음"
      ]
    },
    {
      "cell_type": "markdown",
      "metadata": {
        "id": "vTR7QXvpDz_j",
        "colab_type": "text"
      },
      "source": [
        "### Differences\n",
        "* pre-train : True -> False"
      ]
    },
    {
      "cell_type": "markdown",
      "metadata": {
        "id": "JuaQpOWMD9tz",
        "colab_type": "text"
      },
      "source": [
        "## 1. Setting"
      ]
    },
    {
      "cell_type": "code",
      "metadata": {
        "id": "3HVy-eYPLlUU",
        "colab_type": "code",
        "colab": {}
      },
      "source": [
        "# Google Drive\n",
        "from google.colab import drive\n",
        "drive.mount('/content/drive')"
      ],
      "execution_count": 0,
      "outputs": []
    },
    {
      "cell_type": "code",
      "metadata": {
        "id": "ZizQk84lEC3L",
        "colab_type": "code",
        "colab": {}
      },
      "source": [
        "# Libraries\n",
        "import os\n",
        "import numpy as np\n",
        "import pandas as pd\n",
        "import matplotlib.pyplot as plt\n",
        "\n",
        "import tensorflow as tf"
      ],
      "execution_count": 0,
      "outputs": []
    },
    {
      "cell_type": "code",
      "metadata": {
        "id": "Dw-eONQNEZIl",
        "colab_type": "code",
        "outputId": "b6b287bf-cf9f-4727-b94f-2d5a380d0b76",
        "colab": {
          "base_uri": "https://localhost:8080/",
          "height": 359
        }
      },
      "source": [
        "# GPU Setting\n",
        "!nvidia-smi\n",
        "\n",
        "print(f'tensorflow version : {tf.__version__}')\n",
        "print(f'available GPU list : {tf.config.list_physical_devices(\"GPU\")}')"
      ],
      "execution_count": 0,
      "outputs": [
        {
          "output_type": "stream",
          "text": [
            "Sun May 31 07:56:29 2020       \n",
            "+-----------------------------------------------------------------------------+\n",
            "| NVIDIA-SMI 440.82       Driver Version: 418.67       CUDA Version: 10.1     |\n",
            "|-------------------------------+----------------------+----------------------+\n",
            "| GPU  Name        Persistence-M| Bus-Id        Disp.A | Volatile Uncorr. ECC |\n",
            "| Fan  Temp  Perf  Pwr:Usage/Cap|         Memory-Usage | GPU-Util  Compute M. |\n",
            "|===============================+======================+======================|\n",
            "|   0  Tesla P100-PCIE...  Off  | 00000000:00:04.0 Off |                    0 |\n",
            "| N/A   39C    P0    28W / 250W |      0MiB / 16280MiB |      0%      Default |\n",
            "+-------------------------------+----------------------+----------------------+\n",
            "                                                                               \n",
            "+-----------------------------------------------------------------------------+\n",
            "| Processes:                                                       GPU Memory |\n",
            "|  GPU       PID   Type   Process name                             Usage      |\n",
            "|=============================================================================|\n",
            "|  No running processes found                                                 |\n",
            "+-----------------------------------------------------------------------------+\n",
            "tensorflow version : 2.2.0\n",
            "available GPU list : [PhysicalDevice(name='/physical_device:GPU:0', device_type='GPU')]\n"
          ],
          "name": "stdout"
        }
      ]
    },
    {
      "cell_type": "code",
      "metadata": {
        "id": "Wsk7XAE2Lz_g",
        "colab_type": "code",
        "colab": {}
      },
      "source": [
        "# Hyperparameters\n",
        "CONFIG = {\n",
        "    'base_dir' : '/content/drive/Shared drives/Yoon/Project/Doing/Deep Learning Paper Implementation',\n",
        "    'num_neg' : 4,\n",
        "    'learning_rate' : 1e-3,\n",
        "    'batch_size' : 128,\n",
        "    'epoch_size' : 10\n",
        "}"
      ],
      "execution_count": 0,
      "outputs": []
    },
    {
      "cell_type": "markdown",
      "metadata": {
        "id": "Qd9D_aouEVMB",
        "colab_type": "text"
      },
      "source": [
        "## 2. Data"
      ]
    },
    {
      "cell_type": "code",
      "metadata": {
        "id": "HeyVzrMtvYv8",
        "colab_type": "code",
        "colab": {}
      },
      "source": [
        "def load_data():\n",
        "    rating = pd.read_table('data/ratings.dat', sep='::', engine='python', header=None)\n",
        "    rating.columns = ['userId', 'itemId', 'rating', 'timestamp']    \n",
        "    rating = rating.sort_values(['userId', 'timestamp'])\n",
        "    return rating\n",
        "\n",
        "def get_neg_sample(pos, num_item, num_neg=None):\n",
        "    pos = sorted(pos)\n",
        "    \n",
        "    sample = np.arange(0, num_item - len(pos))\n",
        "    pos_adj = pos - np.arange(len(pos))\n",
        "    search = np.searchsorted(pos_adj, sample, side='right')\n",
        "    neg = sample + search\n",
        "\n",
        "    if not num_neg:\n",
        "        num_neg = min(CONFIG['num_neg'] * len(pos), len(neg))\n",
        "    neg = np.random.choice(neg, num_neg)\n",
        "    return neg"
      ],
      "execution_count": 0,
      "outputs": []
    },
    {
      "cell_type": "code",
      "metadata": {
        "id": "hzYjD0NkEzIs",
        "colab_type": "code",
        "colab": {}
      },
      "source": [
        "data_path = os.path.join(CONFIG['base_dir'], 'data/movielens_1m.zip')"
      ],
      "execution_count": 0,
      "outputs": []
    },
    {
      "cell_type": "code",
      "metadata": {
        "id": "gCdnQjRJFn-M",
        "colab_type": "code",
        "outputId": "31781f30-7a4d-410b-9d0f-2a2dc6c3cb1b",
        "colab": {
          "base_uri": "https://localhost:8080/",
          "height": 107
        }
      },
      "source": [
        "!unzip $\"{data_path}\" -d '/content/data/'"
      ],
      "execution_count": 0,
      "outputs": [
        {
          "output_type": "stream",
          "text": [
            "Archive:  /content/drive/Shared drives/Yoon/Project/Doing/Deep Learning Paper Implementation/data/movielens_1m.zip\n",
            "  inflating: /content/data/movies.dat  \n",
            "  inflating: /content/data/ratings.dat  \n",
            "  inflating: /content/data/README    \n",
            "  inflating: /content/data/users.dat  \n"
          ],
          "name": "stdout"
        }
      ]
    },
    {
      "cell_type": "code",
      "metadata": {
        "id": "NTU1z6n2vAuO",
        "colab_type": "code",
        "colab": {}
      },
      "source": [
        "data = load_data()"
      ],
      "execution_count": 0,
      "outputs": []
    },
    {
      "cell_type": "code",
      "metadata": {
        "id": "TPJkoDAGvmlV",
        "colab_type": "code",
        "outputId": "08ade5d6-21d8-4dcc-d358-ce9b0acc56c7",
        "colab": {
          "base_uri": "https://localhost:8080/",
          "height": 204
        }
      },
      "source": [
        "data.head()"
      ],
      "execution_count": 0,
      "outputs": [
        {
          "output_type": "execute_result",
          "data": {
            "text/html": [
              "<div>\n",
              "<style scoped>\n",
              "    .dataframe tbody tr th:only-of-type {\n",
              "        vertical-align: middle;\n",
              "    }\n",
              "\n",
              "    .dataframe tbody tr th {\n",
              "        vertical-align: top;\n",
              "    }\n",
              "\n",
              "    .dataframe thead th {\n",
              "        text-align: right;\n",
              "    }\n",
              "</style>\n",
              "<table border=\"1\" class=\"dataframe\">\n",
              "  <thead>\n",
              "    <tr style=\"text-align: right;\">\n",
              "      <th></th>\n",
              "      <th>userId</th>\n",
              "      <th>itemId</th>\n",
              "      <th>rating</th>\n",
              "      <th>timestamp</th>\n",
              "    </tr>\n",
              "  </thead>\n",
              "  <tbody>\n",
              "    <tr>\n",
              "      <th>31</th>\n",
              "      <td>1</td>\n",
              "      <td>3186</td>\n",
              "      <td>4</td>\n",
              "      <td>978300019</td>\n",
              "    </tr>\n",
              "    <tr>\n",
              "      <th>22</th>\n",
              "      <td>1</td>\n",
              "      <td>1270</td>\n",
              "      <td>5</td>\n",
              "      <td>978300055</td>\n",
              "    </tr>\n",
              "    <tr>\n",
              "      <th>27</th>\n",
              "      <td>1</td>\n",
              "      <td>1721</td>\n",
              "      <td>4</td>\n",
              "      <td>978300055</td>\n",
              "    </tr>\n",
              "    <tr>\n",
              "      <th>37</th>\n",
              "      <td>1</td>\n",
              "      <td>1022</td>\n",
              "      <td>5</td>\n",
              "      <td>978300055</td>\n",
              "    </tr>\n",
              "    <tr>\n",
              "      <th>24</th>\n",
              "      <td>1</td>\n",
              "      <td>2340</td>\n",
              "      <td>3</td>\n",
              "      <td>978300103</td>\n",
              "    </tr>\n",
              "  </tbody>\n",
              "</table>\n",
              "</div>"
            ],
            "text/plain": [
              "    userId  itemId  rating  timestamp\n",
              "31       1    3186       4  978300019\n",
              "22       1    1270       5  978300055\n",
              "27       1    1721       4  978300055\n",
              "37       1    1022       5  978300055\n",
              "24       1    2340       3  978300103"
            ]
          },
          "metadata": {
            "tags": []
          },
          "execution_count": 110
        }
      ]
    },
    {
      "cell_type": "code",
      "metadata": {
        "id": "f6DdMbA242Pw",
        "colab_type": "code",
        "colab": {}
      },
      "source": [
        "user_dict = data['userId'].unique()\n",
        "user_dict = {i:idx for idx,i in enumerate(user_dict)}\n",
        "item_dict = data['itemId'].unique()\n",
        "item_dict = {i:idx for idx,i in enumerate(item_dict)}"
      ],
      "execution_count": 0,
      "outputs": []
    },
    {
      "cell_type": "code",
      "metadata": {
        "id": "35XaY7jH47W9",
        "colab_type": "code",
        "outputId": "a4039ce3-6b78-48ef-be52-c3c4ad2903dd",
        "colab": {
          "base_uri": "https://localhost:8080/",
          "height": 35
        }
      },
      "source": [
        "num_user = len(user_dict)\n",
        "num_item = len(item_dict)\n",
        "num_user, num_item"
      ],
      "execution_count": 0,
      "outputs": [
        {
          "output_type": "execute_result",
          "data": {
            "text/plain": [
              "(6040, 3706)"
            ]
          },
          "metadata": {
            "tags": []
          },
          "execution_count": 114
        }
      ]
    },
    {
      "cell_type": "code",
      "metadata": {
        "id": "EL98v74L0PW4",
        "colab_type": "code",
        "colab": {}
      },
      "source": [
        "data['userId'] = data['userId'].map(user_dict)\n",
        "data['itemId'] = data['itemId'].map(item_dict)\n",
        "data = data.groupby('userId')['itemId'].apply(list)\n",
        "data = data.loc[data.apply(len) >= 20]"
      ],
      "execution_count": 0,
      "outputs": []
    },
    {
      "cell_type": "code",
      "metadata": {
        "id": "qZGcEHPL5X_6",
        "colab_type": "code",
        "colab": {}
      },
      "source": [
        "train_data = data.apply(lambda x : x[:-1])\n",
        "test_data = data.apply(lambda x : x[-1])"
      ],
      "execution_count": 0,
      "outputs": []
    },
    {
      "cell_type": "code",
      "metadata": {
        "id": "4UcvYpRPvprh",
        "colab_type": "code",
        "colab": {}
      },
      "source": [
        "pos_list = train_data.apply(lambda x : list(set(x)))\n",
        "neg_list = pos_list.apply(lambda x : get_neg_sample(x, num_item))"
      ],
      "execution_count": 0,
      "outputs": []
    },
    {
      "cell_type": "code",
      "metadata": {
        "id": "_vl7K4-XxRAd",
        "colab_type": "code",
        "colab": {}
      },
      "source": [
        "pos_table = pos_list.explode().reset_index()\n",
        "pos_table['label'] = 1\n",
        "neg_table = neg_list.explode().reset_index()\n",
        "neg_table['label'] = 0"
      ],
      "execution_count": 0,
      "outputs": []
    },
    {
      "cell_type": "code",
      "metadata": {
        "id": "6e_Id0ya0r42",
        "colab_type": "code",
        "outputId": "89b6a57f-9abc-440d-cd01-766677fcbf9c",
        "colab": {
          "base_uri": "https://localhost:8080/",
          "height": 204
        }
      },
      "source": [
        "train_table = pd.concat([pos_table, neg_table])\n",
        "train_table.head()"
      ],
      "execution_count": 0,
      "outputs": [
        {
          "output_type": "execute_result",
          "data": {
            "text/html": [
              "<div>\n",
              "<style scoped>\n",
              "    .dataframe tbody tr th:only-of-type {\n",
              "        vertical-align: middle;\n",
              "    }\n",
              "\n",
              "    .dataframe tbody tr th {\n",
              "        vertical-align: top;\n",
              "    }\n",
              "\n",
              "    .dataframe thead th {\n",
              "        text-align: right;\n",
              "    }\n",
              "</style>\n",
              "<table border=\"1\" class=\"dataframe\">\n",
              "  <thead>\n",
              "    <tr style=\"text-align: right;\">\n",
              "      <th></th>\n",
              "      <th>userId</th>\n",
              "      <th>itemId</th>\n",
              "      <th>label</th>\n",
              "    </tr>\n",
              "  </thead>\n",
              "  <tbody>\n",
              "    <tr>\n",
              "      <th>0</th>\n",
              "      <td>0</td>\n",
              "      <td>0</td>\n",
              "      <td>1</td>\n",
              "    </tr>\n",
              "    <tr>\n",
              "      <th>1</th>\n",
              "      <td>0</td>\n",
              "      <td>1</td>\n",
              "      <td>1</td>\n",
              "    </tr>\n",
              "    <tr>\n",
              "      <th>2</th>\n",
              "      <td>0</td>\n",
              "      <td>2</td>\n",
              "      <td>1</td>\n",
              "    </tr>\n",
              "    <tr>\n",
              "      <th>3</th>\n",
              "      <td>0</td>\n",
              "      <td>3</td>\n",
              "      <td>1</td>\n",
              "    </tr>\n",
              "    <tr>\n",
              "      <th>4</th>\n",
              "      <td>0</td>\n",
              "      <td>4</td>\n",
              "      <td>1</td>\n",
              "    </tr>\n",
              "  </tbody>\n",
              "</table>\n",
              "</div>"
            ],
            "text/plain": [
              "   userId itemId  label\n",
              "0       0      0      1\n",
              "1       0      1      1\n",
              "2       0      2      1\n",
              "3       0      3      1\n",
              "4       0      4      1"
            ]
          },
          "metadata": {
            "tags": []
          },
          "execution_count": 129
        }
      ]
    },
    {
      "cell_type": "code",
      "metadata": {
        "id": "mPcgZba81VaR",
        "colab_type": "code",
        "colab": {}
      },
      "source": [
        "train_user = train_table['userId'].values[:,None].astype(np.int32)\n",
        "train_item = train_table['itemId'].values[:,None].astype(np.int32)\n",
        "train_y = train_table['label'].values.astype(np.int32)"
      ],
      "execution_count": 0,
      "outputs": []
    },
    {
      "cell_type": "markdown",
      "metadata": {
        "id": "bLljDsOoFoLN",
        "colab_type": "text"
      },
      "source": [
        "## 3. Model"
      ]
    },
    {
      "cell_type": "code",
      "metadata": {
        "id": "2NbRhIkmFo47",
        "colab_type": "code",
        "colab": {}
      },
      "source": [
        "def build_network(num_user, num_item):\n",
        "    user_inputs = tf.keras.layers.Input((1,), dtype=np.int32)\n",
        "    item_inputs = tf.keras.layers.Input((1,), dtype=np.int32)\n",
        "    user_embedding = tf.keras.layers.Embedding(num_user, 32)(user_inputs)\n",
        "    item_embedding = tf.keras.layers.Embedding(num_item, 32)(item_inputs)\n",
        "\n",
        "    x = tf.keras.layers.Concatenate()([user_embedding, item_embedding])\n",
        "    x = tf.keras.backend.squeeze(x, axis=1)\n",
        "    x = tf.keras.layers.Dense(32, activation='relu')(x)\n",
        "    x = tf.keras.layers.Dense(16, activation='relu')(x)\n",
        "    x = tf.keras.layers.Dense(8, activation='relu')(x)\n",
        "    outputs = tf.keras.layers.Dense(1, activation='sigmoid')(x)\n",
        "\n",
        "    network = tf.keras.Model([user_inputs, item_inputs], outputs)\n",
        "    network.compile(\n",
        "        loss = 'binary_crossentropy',\n",
        "        optimizer = tf.keras.optimizers.Adam(learning_rate = CONFIG['learning_rate'])\n",
        "    )\n",
        "    return network"
      ],
      "execution_count": 0,
      "outputs": []
    },
    {
      "cell_type": "code",
      "metadata": {
        "id": "J_7_PUNrFpCS",
        "colab_type": "code",
        "outputId": "09e99078-5cd2-43ba-9c21-ccadabde83e8",
        "colab": {
          "base_uri": "https://localhost:8080/",
          "height": 539
        }
      },
      "source": [
        "network = build_network(num_user, num_item)\n",
        "network.summary()"
      ],
      "execution_count": 0,
      "outputs": [
        {
          "output_type": "stream",
          "text": [
            "Model: \"model_6\"\n",
            "__________________________________________________________________________________________________\n",
            "Layer (type)                    Output Shape         Param #     Connected to                     \n",
            "==================================================================================================\n",
            "input_17 (InputLayer)           [(None, 1)]          0                                            \n",
            "__________________________________________________________________________________________________\n",
            "input_18 (InputLayer)           [(None, 1)]          0                                            \n",
            "__________________________________________________________________________________________________\n",
            "embedding_14 (Embedding)        (None, 1, 32)        193280      input_17[0][0]                   \n",
            "__________________________________________________________________________________________________\n",
            "embedding_15 (Embedding)        (None, 1, 32)        118592      input_18[0][0]                   \n",
            "__________________________________________________________________________________________________\n",
            "concatenate_7 (Concatenate)     (None, 1, 64)        0           embedding_14[0][0]               \n",
            "                                                                 embedding_15[0][0]               \n",
            "__________________________________________________________________________________________________\n",
            "tf_op_layer_Squeeze_5 (TensorFl [(None, 64)]         0           concatenate_7[0][0]              \n",
            "__________________________________________________________________________________________________\n",
            "dense_25 (Dense)                (None, 32)           2080        tf_op_layer_Squeeze_5[0][0]      \n",
            "__________________________________________________________________________________________________\n",
            "dense_26 (Dense)                (None, 16)           528         dense_25[0][0]                   \n",
            "__________________________________________________________________________________________________\n",
            "dense_27 (Dense)                (None, 8)            136         dense_26[0][0]                   \n",
            "__________________________________________________________________________________________________\n",
            "dense_28 (Dense)                (None, 1)            9           dense_27[0][0]                   \n",
            "==================================================================================================\n",
            "Total params: 314,625\n",
            "Trainable params: 314,625\n",
            "Non-trainable params: 0\n",
            "__________________________________________________________________________________________________\n"
          ],
          "name": "stdout"
        }
      ]
    },
    {
      "cell_type": "markdown",
      "metadata": {
        "id": "AILnMW_tFpOG",
        "colab_type": "text"
      },
      "source": [
        "## 4. Train"
      ]
    },
    {
      "cell_type": "code",
      "metadata": {
        "id": "bhyQw7zyFq8B",
        "colab_type": "code",
        "outputId": "ed0d3d64-505e-48cd-9281-c1bcf4f0c62a",
        "colab": {
          "base_uri": "https://localhost:8080/",
          "height": 395
        }
      },
      "source": [
        "network.fit(\n",
        "    [train_user, train_item], train_y,\n",
        "    batch_size = CONFIG['batch_size'],\n",
        "    epochs = CONFIG['epoch_size'],\n",
        ")"
      ],
      "execution_count": 0,
      "outputs": [
        {
          "output_type": "stream",
          "text": [
            "Epoch 1/10\n",
            "37622/37622 [==============================] - 182s 5ms/step - loss: 0.3445\n",
            "Epoch 2/10\n",
            "37622/37622 [==============================] - 175s 5ms/step - loss: 0.3014\n",
            "Epoch 3/10\n",
            "37622/37622 [==============================] - 171s 5ms/step - loss: 0.2840\n",
            "Epoch 4/10\n",
            "37622/37622 [==============================] - 166s 4ms/step - loss: 0.2738\n",
            "Epoch 5/10\n",
            "37622/37622 [==============================] - 168s 4ms/step - loss: 0.2667\n",
            "Epoch 6/10\n",
            "37622/37622 [==============================] - 166s 4ms/step - loss: 0.2615\n",
            "Epoch 7/10\n",
            "37622/37622 [==============================] - 169s 4ms/step - loss: 0.2574\n",
            "Epoch 8/10\n",
            "37622/37622 [==============================] - 171s 5ms/step - loss: 0.2541\n",
            "Epoch 9/10\n",
            "37622/37622 [==============================] - 167s 4ms/step - loss: 0.2513\n",
            "Epoch 10/10\n",
            "37622/37622 [==============================] - 167s 4ms/step - loss: 0.2490\n"
          ],
          "name": "stdout"
        },
        {
          "output_type": "execute_result",
          "data": {
            "text/plain": [
              "<tensorflow.python.keras.callbacks.History at 0x7fafc4994320>"
            ]
          },
          "metadata": {
            "tags": []
          },
          "execution_count": 133
        }
      ]
    },
    {
      "cell_type": "markdown",
      "metadata": {
        "id": "owJetCrTFr_S",
        "colab_type": "text"
      },
      "source": [
        "## 5. Test"
      ]
    },
    {
      "cell_type": "code",
      "metadata": {
        "id": "uQGonR5lAbYx",
        "colab_type": "code",
        "colab": {}
      },
      "source": [
        "rank_list = []\n",
        "for idx, i in enumerate(test_data):\n",
        "    neg_item = get_neg_sample(pos_list[i], num_item, 100)\n",
        "    item = [i] + list(neg_item)\n",
        "    item = np.array(item)[:,None]\n",
        "    user = [idx for _ in range(101)]\n",
        "    user = np.array(user)[:,None]\n",
        "\n",
        "    pred = network.predict((user, item))\n",
        "    pred = pred[:,0]\n",
        "    rank = np.argsort(np.argsort(-pred))[0]\n",
        "    rank_list.append(rank)"
      ],
      "execution_count": 0,
      "outputs": []
    },
    {
      "cell_type": "code",
      "metadata": {
        "id": "LiknCozQA-hd",
        "colab_type": "code",
        "outputId": "a8495abd-b613-481b-e470-b2096cb50894",
        "colab": {
          "base_uri": "https://localhost:8080/",
          "height": 35
        }
      },
      "source": [
        "hr1 = [i == 0 for i in rank_list]\n",
        "hr5 = [i < 5 for i in rank_list]\n",
        "hr10 = [i < 10 for i in rank_list]\n",
        "print(f'HR@1 : {np.mean(hr1):.2f} | HR@5 : {np.mean(hr5):.2f} | HR@10 : {np.mean(hr10):.2f}')"
      ],
      "execution_count": 0,
      "outputs": [
        {
          "output_type": "stream",
          "text": [
            "HR@1 : 0.12 | HR@5 : 0.40 | HR@10 : 0.59\n"
          ],
          "name": "stdout"
        }
      ]
    }
  ]
}