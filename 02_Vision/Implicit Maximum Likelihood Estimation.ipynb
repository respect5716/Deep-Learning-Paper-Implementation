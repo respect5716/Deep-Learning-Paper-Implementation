{
  "nbformat": 4,
  "nbformat_minor": 0,
  "metadata": {
    "colab": {
      "name": "Implicit Maximum Likelihood Estimation",
      "provenance": [],
      "collapsed_sections": [],
      "authorship_tag": "ABX9TyPoXjRoc2HhzIyteZCcuyj2",
      "include_colab_link": true
    },
    "kernelspec": {
      "name": "python3",
      "display_name": "Python 3"
    },
    "accelerator": "GPU"
  },
  "cells": [
    {
      "cell_type": "markdown",
      "metadata": {
        "id": "view-in-github",
        "colab_type": "text"
      },
      "source": [
        "<a href=\"https://colab.research.google.com/github/respect5716/Deep-Learning-Paper-Implementation/blob/master/02_Vision/Implicit%20Maximum%20Likelihood%20Estimation.ipynb\" target=\"_parent\"><img src=\"https://colab.research.google.com/assets/colab-badge.svg\" alt=\"Open In Colab\"/></a>"
      ]
    },
    {
      "cell_type": "markdown",
      "metadata": {
        "id": "wzh7yGxNDluC",
        "colab_type": "text"
      },
      "source": [
        "# Implicit Maximum Likelihood Estimation"
      ]
    },
    {
      "cell_type": "markdown",
      "metadata": {
        "id": "Iki6sM3EDsjS",
        "colab_type": "text"
      },
      "source": [
        "## 0. Paper"
      ]
    },
    {
      "cell_type": "markdown",
      "metadata": {
        "id": "subFe3E5DttM",
        "colab_type": "text"
      },
      "source": [
        "### Info\n",
        "* TItle : Implicit Maximum Likelihood Estimation\n",
        "* Author : Ke Li, Jitendra Malik\n",
        "* Publication : [link](https://arxiv.org/abs/1809.09087)"
      ]
    },
    {
      "cell_type": "markdown",
      "metadata": {
        "id": "PvL7j-dcEHBW",
        "colab_type": "text"
      },
      "source": [
        "### Summary\n",
        "* real sample과 가까운 generated sample을 찾은 후, real sample에 더 가까워지도록 학습\n",
        "* GAN보다 안정적이고 다양한 sample 생성 가능"
      ]
    },
    {
      "cell_type": "markdown",
      "metadata": {
        "id": "vTR7QXvpDz_j",
        "colab_type": "text"
      },
      "source": [
        "### Differences\n",
        "* filter number : 512 -> 256\n",
        "* knn algorithm : DCI -> Vanilla"
      ]
    },
    {
      "cell_type": "markdown",
      "metadata": {
        "id": "JuaQpOWMD9tz",
        "colab_type": "text"
      },
      "source": [
        "## 1. Setting"
      ]
    },
    {
      "cell_type": "code",
      "metadata": {
        "id": "3HVy-eYPLlUU",
        "colab_type": "code",
        "colab": {}
      },
      "source": [
        "# Google Drive\n",
        "from google.colab import drive\n",
        "drive.mount('/content/drive')"
      ],
      "execution_count": null,
      "outputs": []
    },
    {
      "cell_type": "code",
      "metadata": {
        "id": "ZizQk84lEC3L",
        "colab_type": "code",
        "colab": {
          "base_uri": "https://localhost:8080/",
          "height": 53
        },
        "outputId": "d0816c4a-1a80-40ca-e270-f273f5acd951"
      },
      "source": [
        "# Libraries\n",
        "import os\n",
        "import numpy as np\n",
        "import pandas as pd\n",
        "import seaborn as sns\n",
        "import matplotlib.pyplot as plt\n",
        "\n",
        "import tensorflow as tf"
      ],
      "execution_count": 2,
      "outputs": [
        {
          "output_type": "stream",
          "text": [
            "/usr/local/lib/python3.6/dist-packages/statsmodels/tools/_testing.py:19: FutureWarning: pandas.util.testing is deprecated. Use the functions in the public API at pandas.testing instead.\n",
            "  import pandas.util.testing as tm\n"
          ],
          "name": "stderr"
        }
      ]
    },
    {
      "cell_type": "code",
      "metadata": {
        "id": "Dw-eONQNEZIl",
        "colab_type": "code",
        "colab": {
          "base_uri": "https://localhost:8080/",
          "height": 413
        },
        "outputId": "594a9de7-19c2-4422-ec54-3df6f32a7bad"
      },
      "source": [
        "# GPU Setting\n",
        "!nvidia-smi\n",
        "\n",
        "print(f'tensorflow version : {tf.__version__}')\n",
        "print(f'available GPU list : {tf.config.list_physical_devices(\"GPU\")}')"
      ],
      "execution_count": 3,
      "outputs": [
        {
          "output_type": "stream",
          "text": [
            "Fri Jul  3 12:50:06 2020       \n",
            "+-----------------------------------------------------------------------------+\n",
            "| NVIDIA-SMI 450.36.06    Driver Version: 418.67       CUDA Version: 10.1     |\n",
            "|-------------------------------+----------------------+----------------------+\n",
            "| GPU  Name        Persistence-M| Bus-Id        Disp.A | Volatile Uncorr. ECC |\n",
            "| Fan  Temp  Perf  Pwr:Usage/Cap|         Memory-Usage | GPU-Util  Compute M. |\n",
            "|                               |                      |               MIG M. |\n",
            "|===============================+======================+======================|\n",
            "|   0  Tesla P100-PCIE...  Off  | 00000000:00:04.0 Off |                    0 |\n",
            "| N/A   47C    P0    27W / 250W |      0MiB / 16280MiB |      0%      Default |\n",
            "|                               |                      |                 ERR! |\n",
            "+-------------------------------+----------------------+----------------------+\n",
            "                                                                               \n",
            "+-----------------------------------------------------------------------------+\n",
            "| Processes:                                                                  |\n",
            "|  GPU   GI   CI        PID   Type   Process name                  GPU Memory |\n",
            "|        ID   ID                                                   Usage      |\n",
            "|=============================================================================|\n",
            "|  No running processes found                                                 |\n",
            "+-----------------------------------------------------------------------------+\n",
            "tensorflow version : 2.2.0\n",
            "available GPU list : [PhysicalDevice(name='/physical_device:GPU:0', device_type='GPU')]\n"
          ],
          "name": "stdout"
        }
      ]
    },
    {
      "cell_type": "code",
      "metadata": {
        "id": "Wsk7XAE2Lz_g",
        "colab_type": "code",
        "colab": {}
      },
      "source": [
        "# Hyperparameters\n",
        "CONFIG = {\n",
        "    'base_dir' : '/content/drive/Shared drives/Yoon/Project/Doing/Deep Learning Paper Implementation',\n",
        "    'latent_dim' : 1000,\n",
        "    'fake_batch_size' : 1024,\n",
        "    'real_batch_size' : 32,\n",
        "    'epoch_size' : 300,\n",
        "}"
      ],
      "execution_count": 96,
      "outputs": []
    },
    {
      "cell_type": "markdown",
      "metadata": {
        "id": "Qd9D_aouEVMB",
        "colab_type": "text"
      },
      "source": [
        "## 2. Data"
      ]
    },
    {
      "cell_type": "code",
      "metadata": {
        "id": "CJNMWnFPvP-8",
        "colab_type": "code",
        "colab": {}
      },
      "source": [
        "class Dataset(tf.keras.utils.Sequence):\n",
        "    def __init__(self, data_x, shuffle):\n",
        "        self.data_x = data_x\n",
        "        self.shuffle = shuffle\n",
        "\n",
        "        self.idx = 0\n",
        "        self.on_epoch_end()\n",
        "    \n",
        "    def __len__(self):\n",
        "        return np.ceil(len(self.data_x) / CONFIG['real_batch_size']).astype(np.int32)\n",
        "    \n",
        "    def on_epoch_end(self):\n",
        "        if self.shuffle:\n",
        "            self.indices = np.random.permutation(len(self.data_x))\n",
        "        else:\n",
        "            self.indices = np.arange(len(self.data_x))\n",
        "    \n",
        "    def __getitem__(self, idx):\n",
        "        batch_idx = self.indices[CONFIG['real_batch_size']*idx : CONFIG['real_batch_size']*(idx+1)]\n",
        "        batch_x = self.data_x[batch_idx]\n",
        "        batch_x = batch_x.astype(np.float32) / 255\n",
        "        return batch_x\n",
        "\n",
        "    def next(self):\n",
        "        if self.idx == self.__len__():\n",
        "            self.idx = 0\n",
        "            self.on_epoch_end()\n",
        "        \n",
        "        batch_x = self.__getitem__(self.idx)\n",
        "        return batch_x"
      ],
      "execution_count": 97,
      "outputs": []
    },
    {
      "cell_type": "code",
      "metadata": {
        "id": "hzYjD0NkEzIs",
        "colab_type": "code",
        "colab": {}
      },
      "source": [
        "(train_x, train_y), (test_x, test_y) = tf.keras.datasets.cifar10.load_data()"
      ],
      "execution_count": 98,
      "outputs": []
    },
    {
      "cell_type": "code",
      "metadata": {
        "id": "gCdnQjRJFn-M",
        "colab_type": "code",
        "colab": {}
      },
      "source": [
        "train_dataset = Dataset(train_x, True)"
      ],
      "execution_count": 99,
      "outputs": []
    },
    {
      "cell_type": "code",
      "metadata": {
        "id": "WrJfR6LKwBx6",
        "colab_type": "code",
        "colab": {}
      },
      "source": [
        "batch_x = train_dataset.next()"
      ],
      "execution_count": 100,
      "outputs": []
    },
    {
      "cell_type": "code",
      "metadata": {
        "id": "ySWFPWfywDqA",
        "colab_type": "code",
        "colab": {
          "base_uri": "https://localhost:8080/",
          "height": 35
        },
        "outputId": "6b0d1eaa-4a7d-42fb-93bf-a465d6381ae8"
      },
      "source": [
        "batch_x.shape"
      ],
      "execution_count": 101,
      "outputs": [
        {
          "output_type": "execute_result",
          "data": {
            "text/plain": [
              "(32, 32, 32, 3)"
            ]
          },
          "metadata": {
            "tags": []
          },
          "execution_count": 101
        }
      ]
    },
    {
      "cell_type": "markdown",
      "metadata": {
        "id": "bLljDsOoFoLN",
        "colab_type": "text"
      },
      "source": [
        "## 3. Model"
      ]
    },
    {
      "cell_type": "code",
      "metadata": {
        "id": "2NbRhIkmFo47",
        "colab_type": "code",
        "colab": {}
      },
      "source": [
        "def build_network():\n",
        "    def _block(x, n):\n",
        "        x = tf.keras.layers.Conv2D(n, (4,4), padding='same')(x)\n",
        "        x = tf.keras.layers.BatchNormalization()(x)\n",
        "        x = tf.keras.layers.LeakyReLU(alpha=0.2)(x)\n",
        "        x = tf.keras.layers.UpSampling2D()(x)\n",
        "        return x\n",
        "\n",
        "    inputs = tf.keras.layers.Input((CONFIG['latent_dim'],))\n",
        "    x = tf.keras.layers.Dense(4*4*256)(inputs)\n",
        "    x = tf.keras.layers.LeakyReLU(alpha=0.2)(x)\n",
        "    x = tf.keras.layers.Reshape((4, 4, 256))(x)\n",
        "    x = _block(x, 256)\n",
        "    x = _block(x, 256)\n",
        "    x = _block(x, 256)\n",
        "    outputs = tf.keras.layers.Conv2D(3, (3, 3), padding='same', activation='sigmoid')(x)\n",
        "\n",
        "    network = tf.keras.Model(inputs, outputs)\n",
        "    network.compile(\n",
        "        loss = 'mse',\n",
        "        optimizer = tf.keras.optimizers.Adam()\n",
        "    )\n",
        "    return network"
      ],
      "execution_count": 102,
      "outputs": []
    },
    {
      "cell_type": "code",
      "metadata": {
        "id": "J_7_PUNrFpCS",
        "colab_type": "code",
        "colab": {
          "base_uri": "https://localhost:8080/",
          "height": 773
        },
        "outputId": "73e5e038-96f8-431e-cc43-c091097a764e"
      },
      "source": [
        "network = build_network()\n",
        "network.summary()"
      ],
      "execution_count": 103,
      "outputs": [
        {
          "output_type": "stream",
          "text": [
            "Model: \"model_8\"\n",
            "_________________________________________________________________\n",
            "Layer (type)                 Output Shape              Param #   \n",
            "=================================================================\n",
            "input_10 (InputLayer)        [(None, 1000)]            0         \n",
            "_________________________________________________________________\n",
            "dense_9 (Dense)              (None, 4096)              4100096   \n",
            "_________________________________________________________________\n",
            "leaky_re_lu_36 (LeakyReLU)   (None, 4096)              0         \n",
            "_________________________________________________________________\n",
            "reshape_9 (Reshape)          (None, 4, 4, 256)         0         \n",
            "_________________________________________________________________\n",
            "conv2d_36 (Conv2D)           (None, 4, 4, 256)         1048832   \n",
            "_________________________________________________________________\n",
            "batch_normalization_27 (Batc (None, 4, 4, 256)         1024      \n",
            "_________________________________________________________________\n",
            "leaky_re_lu_37 (LeakyReLU)   (None, 4, 4, 256)         0         \n",
            "_________________________________________________________________\n",
            "up_sampling2d_27 (UpSampling (None, 8, 8, 256)         0         \n",
            "_________________________________________________________________\n",
            "conv2d_37 (Conv2D)           (None, 8, 8, 256)         1048832   \n",
            "_________________________________________________________________\n",
            "batch_normalization_28 (Batc (None, 8, 8, 256)         1024      \n",
            "_________________________________________________________________\n",
            "leaky_re_lu_38 (LeakyReLU)   (None, 8, 8, 256)         0         \n",
            "_________________________________________________________________\n",
            "up_sampling2d_28 (UpSampling (None, 16, 16, 256)       0         \n",
            "_________________________________________________________________\n",
            "conv2d_38 (Conv2D)           (None, 16, 16, 256)       1048832   \n",
            "_________________________________________________________________\n",
            "batch_normalization_29 (Batc (None, 16, 16, 256)       1024      \n",
            "_________________________________________________________________\n",
            "leaky_re_lu_39 (LeakyReLU)   (None, 16, 16, 256)       0         \n",
            "_________________________________________________________________\n",
            "up_sampling2d_29 (UpSampling (None, 32, 32, 256)       0         \n",
            "_________________________________________________________________\n",
            "conv2d_39 (Conv2D)           (None, 32, 32, 3)         6915      \n",
            "=================================================================\n",
            "Total params: 7,256,579\n",
            "Trainable params: 7,255,043\n",
            "Non-trainable params: 1,536\n",
            "_________________________________________________________________\n"
          ],
          "name": "stdout"
        }
      ]
    },
    {
      "cell_type": "markdown",
      "metadata": {
        "id": "AILnMW_tFpOG",
        "colab_type": "text"
      },
      "source": [
        "## 4. Train"
      ]
    },
    {
      "cell_type": "code",
      "metadata": {
        "id": "bgoSsmoa3dvF",
        "colab_type": "code",
        "colab": {
          "base_uri": "https://localhost:8080/",
          "height": 557
        },
        "outputId": "de550936-78a1-4064-f65e-4e040a9eb4ed"
      },
      "source": [
        "for ep in range(1, CONFIG['epoch_size']+1):\n",
        "    random_vec = np.random.normal(size=(CONFIG['fake_batch_size'], 1000))\n",
        "    generated = network.predict(random_vec)\n",
        "    generated_flatten = np.reshape(generated, (CONFIG['fake_batch_size'], -1))\n",
        "\n",
        "    for _ in range(CONFIG['fake_batch_size'] // CONFIG['real_batch_size']):\n",
        "        real = train_dataset.next()\n",
        "        real_flatten = np.reshape(real, (CONFIG['real_batch_size'], -1))\n",
        "    \n",
        "        sample_idx = [np.argmin(np.mean(np.square(i - generated_flatten), axis=-1)) for i in real_flatten]\n",
        "        sample_x = random_vec[sample_idx]\n",
        "        loss = network.train_on_batch(sample_x, real)\n",
        "\n",
        "    if ep % 10 == 0:\n",
        "        print(f'EP : {str(ep).zfill(3)} | Loss : {loss:.4f}')\n"
      ],
      "execution_count": 104,
      "outputs": [
        {
          "output_type": "stream",
          "text": [
            "EP : 010 | Loss : 0.0014\n",
            "EP : 020 | Loss : 0.0006\n",
            "EP : 030 | Loss : 0.0004\n",
            "EP : 040 | Loss : 0.0003\n",
            "EP : 050 | Loss : 0.0003\n",
            "EP : 060 | Loss : 0.0002\n",
            "EP : 070 | Loss : 0.0002\n",
            "EP : 080 | Loss : 0.0002\n",
            "EP : 090 | Loss : 0.0002\n",
            "EP : 100 | Loss : 0.0001\n",
            "EP : 110 | Loss : 0.0001\n",
            "EP : 120 | Loss : 0.0001\n",
            "EP : 130 | Loss : 0.0001\n",
            "EP : 140 | Loss : 0.0001\n",
            "EP : 150 | Loss : 0.0001\n",
            "EP : 160 | Loss : 0.0001\n",
            "EP : 170 | Loss : 0.0001\n",
            "EP : 180 | Loss : 0.0001\n",
            "EP : 190 | Loss : 0.0001\n",
            "EP : 200 | Loss : 0.0001\n",
            "EP : 210 | Loss : 0.0001\n",
            "EP : 220 | Loss : 0.0001\n",
            "EP : 230 | Loss : 0.0001\n",
            "EP : 240 | Loss : 0.0001\n",
            "EP : 250 | Loss : 0.0001\n",
            "EP : 260 | Loss : 0.0000\n",
            "EP : 270 | Loss : 0.0000\n",
            "EP : 280 | Loss : 0.0000\n",
            "EP : 290 | Loss : 0.0000\n",
            "EP : 300 | Loss : 0.0000\n"
          ],
          "name": "stdout"
        }
      ]
    },
    {
      "cell_type": "markdown",
      "metadata": {
        "id": "owJetCrTFr_S",
        "colab_type": "text"
      },
      "source": [
        "## 5. Test"
      ]
    },
    {
      "cell_type": "code",
      "metadata": {
        "id": "R3HN95nRFs-U",
        "colab_type": "code",
        "colab": {
          "base_uri": "https://localhost:8080/",
          "height": 198
        },
        "outputId": "88c4bc84-5568-4482-f50e-3ee1abd2d842"
      },
      "source": [
        "random_vec = np.random.normal(size=(10, 1000))\n",
        "generated = network.predict(random_vec)\n",
        "\n",
        "fig, ax = plt.subplots(2, 5, figsize=(6, 3))\n",
        "for idx, i in enumerate(ax.flat):\n",
        "    i.imshow(generated[idx])"
      ],
      "execution_count": 109,
      "outputs": [
        {
          "output_type": "display_data",
          "data": {
            "image/png": "[encoded data removed]",
            "text/plain": [
              "<Figure size 432x216 with 10 Axes>"
            ]
          },
          "metadata": {
            "tags": [],
            "needs_background": "light"
          }
        }
      ]
    }
  ]
}