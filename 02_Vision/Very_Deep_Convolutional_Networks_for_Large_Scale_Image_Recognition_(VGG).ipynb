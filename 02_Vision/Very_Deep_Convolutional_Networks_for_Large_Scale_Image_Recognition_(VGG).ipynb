{
  "nbformat": 4,
  "nbformat_minor": 0,
  "metadata": {
    "colab": {
      "name": "Very Deep Convolutional Networks for Large-Scale Image Recognition (VGG)",
      "provenance": [],
      "collapsed_sections": [],
      "toc_visible": true
    },
    "kernelspec": {
      "name": "python3",
      "display_name": "Python 3"
    },
    "accelerator": "GPU"
  },
  "cells": [
    {
      "cell_type": "markdown",
      "metadata": {
        "id": "wzh7yGxNDluC"
      },
      "source": [
        "# Very Deep Convolutional Networks for Large-Scale Image Recognition (VGG)"
      ]
    },
    {
      "cell_type": "markdown",
      "metadata": {
        "id": "Iki6sM3EDsjS"
      },
      "source": [
        "## 0. Paper"
      ]
    },
    {
      "cell_type": "markdown",
      "metadata": {
        "id": "subFe3E5DttM"
      },
      "source": [
        "### Info\n",
        "* TItle : Very Deep Convolutional Networks for Large-Scale Image Recognition (VGG)\n",
        "* Author : Karen Simonyan\n",
        "* Link : https://arxiv.org/pdf/1409.1556.pdf\n",
        "\n",
        "### Summary\n",
        "* Evaluation of networks of increasing depth using an architecture with very small (3 x 3) convolution filters.\n",
        "\n",
        "### Features\n",
        "* Dataset: CIFAR-10\n",
        "\n",
        "### Reference\n",
        "* https://github.com/kuangliu/pytorch-cifar/blob/master/models/vgg.py\n",
        "* https://github.com/tensorflow/tensorflow/blob/v2.4.0/tensorflow/python/keras/applications/vgg16.py#L45-L226\n",
        "* https://keras.io/examples/vision/image_classification_from_scratch/"
      ]
    },
    {
      "cell_type": "markdown",
      "metadata": {
        "id": "JuaQpOWMD9tz"
      },
      "source": [
        "## 1. Setting"
      ]
    },
    {
      "cell_type": "code",
      "metadata": {
        "id": "ZizQk84lEC3L"
      },
      "source": [
        "# Libraries\n",
        "import os\n",
        "from glob import glob\n",
        "\n",
        "import numpy as np\n",
        "import pandas as pd\n",
        "import seaborn as sns\n",
        "import matplotlib.pyplot as plt\n",
        "\n",
        "import tensorflow as tf\n",
        "import tensorflow_addons as tfa\n",
        "import tensorflow.keras.backend as K"
      ],
      "execution_count": 1,
      "outputs": []
    },
    {
      "cell_type": "code",
      "metadata": {
        "id": "Wsk7XAE2Lz_g"
      },
      "source": [
        "# Hyperparameters\n",
        "BASE_DIR = '/content/drive/Shared drives/Yoon/Project/Doing/Deep Learning Paper Implementation',"
      ],
      "execution_count": 55,
      "outputs": []
    },
    {
      "cell_type": "markdown",
      "metadata": {
        "id": "Qd9D_aouEVMB"
      },
      "source": [
        "## 2. Data"
      ]
    },
    {
      "cell_type": "code",
      "metadata": {
        "id": "hzYjD0NkEzIs",
        "colab": {
          "base_uri": "https://localhost:8080/"
        },
        "outputId": "7a139c21-0b84-4bf3-a726-91f13134199b"
      },
      "source": [
        "(x_train, y_train), (x_test, y_test) = tf.keras.datasets.cifar10.load_data()"
      ],
      "execution_count": 3,
      "outputs": [
        {
          "output_type": "stream",
          "text": [
            "Downloading data from https://www.cs.toronto.edu/~kriz/cifar-10-python.tar.gz\n",
            "170500096/170498071 [==============================] - 6s 0us/step\n"
          ],
          "name": "stdout"
        }
      ]
    },
    {
      "cell_type": "markdown",
      "metadata": {
        "id": "bLljDsOoFoLN"
      },
      "source": [
        "## 3. Model"
      ]
    },
    {
      "cell_type": "code",
      "metadata": {
        "id": "DH97FGK4s7QF"
      },
      "source": [
        "def create_model(model_cfg):\r\n",
        "    reg = tf.keras.regularizers.l2(5e-4)\r\n",
        "    inputs = tf.keras.layers.Input((32, 32, 3))\r\n",
        "    x = tf.keras.layers.experimental.preprocessing.Rescaling(scale=1./127.5, offset=-1.)(inputs)\r\n",
        "\r\n",
        "    for c in model_cfg:\r\n",
        "        if c == 'Pool':\r\n",
        "            x = tf.keras.layers.MaxPooling2D(2)(x)\r\n",
        "        else:\r\n",
        "            x = tf.keras.layers.Conv2D(c, 3, 1, padding='same', activation='relu', kernel_regularizer=reg)(x)\r\n",
        "    \r\n",
        "    x = tf.keras.layers.Flatten()(x)\r\n",
        "    x = tf.keras.layers.Dropout(0.5)(x)\r\n",
        "    outputs = tf.keras.layers.Dense(10, activation='softmax')(x)\r\n",
        "    return tf.keras.Model(inputs, outputs)"
      ],
      "execution_count": 56,
      "outputs": []
    },
    {
      "cell_type": "code",
      "metadata": {
        "id": "Ad1vZ9SFwao-"
      },
      "source": [
        "model_cfg = [64, 64, 'Pool', 128, 128, 'Pool', 256, 256, 256, 'Pool', 512, 512, 512, 'Pool', 512, 512, 512] # VGG16\r\n",
        "model = create_model(model_cfg)"
      ],
      "execution_count": 69,
      "outputs": []
    },
    {
      "cell_type": "code",
      "metadata": {
        "id": "lOpNjDqEzZDX"
      },
      "source": [
        "model.compile(\r\n",
        "    optimizer = tf.keras.optimizers.SGD(learning_rate=1e-2, momentum=0.9),\r\n",
        "    loss = 'sparse_categorical_crossentropy',\r\n",
        "    metrics = ['acc']\r\n",
        ")"
      ],
      "execution_count": 70,
      "outputs": []
    },
    {
      "cell_type": "code",
      "metadata": {
        "colab": {
          "base_uri": "https://localhost:8080/"
        },
        "id": "tLP2bTIxy2Zo",
        "outputId": "51a56ca4-3005-4cc5-c4ef-ff274aed59d4"
      },
      "source": [
        "model.summary()"
      ],
      "execution_count": 71,
      "outputs": [
        {
          "output_type": "stream",
          "text": [
            "Model: \"model_8\"\n",
            "_________________________________________________________________\n",
            "Layer (type)                 Output Shape              Param #   \n",
            "=================================================================\n",
            "input_9 (InputLayer)         [(None, 32, 32, 3)]       0         \n",
            "_________________________________________________________________\n",
            "rescaling_8 (Rescaling)      (None, 32, 32, 3)         0         \n",
            "_________________________________________________________________\n",
            "conv2d_81 (Conv2D)           (None, 32, 32, 64)        1792      \n",
            "_________________________________________________________________\n",
            "conv2d_82 (Conv2D)           (None, 32, 32, 64)        36928     \n",
            "_________________________________________________________________\n",
            "max_pooling2d_31 (MaxPooling (None, 16, 16, 64)        0         \n",
            "_________________________________________________________________\n",
            "conv2d_83 (Conv2D)           (None, 16, 16, 128)       73856     \n",
            "_________________________________________________________________\n",
            "conv2d_84 (Conv2D)           (None, 16, 16, 128)       147584    \n",
            "_________________________________________________________________\n",
            "max_pooling2d_32 (MaxPooling (None, 8, 8, 128)         0         \n",
            "_________________________________________________________________\n",
            "conv2d_85 (Conv2D)           (None, 8, 8, 256)         295168    \n",
            "_________________________________________________________________\n",
            "conv2d_86 (Conv2D)           (None, 8, 8, 256)         590080    \n",
            "_________________________________________________________________\n",
            "conv2d_87 (Conv2D)           (None, 8, 8, 256)         590080    \n",
            "_________________________________________________________________\n",
            "max_pooling2d_33 (MaxPooling (None, 4, 4, 256)         0         \n",
            "_________________________________________________________________\n",
            "conv2d_88 (Conv2D)           (None, 4, 4, 512)         1180160   \n",
            "_________________________________________________________________\n",
            "conv2d_89 (Conv2D)           (None, 4, 4, 512)         2359808   \n",
            "_________________________________________________________________\n",
            "conv2d_90 (Conv2D)           (None, 4, 4, 512)         2359808   \n",
            "_________________________________________________________________\n",
            "max_pooling2d_34 (MaxPooling (None, 2, 2, 512)         0         \n",
            "_________________________________________________________________\n",
            "conv2d_91 (Conv2D)           (None, 2, 2, 512)         2359808   \n",
            "_________________________________________________________________\n",
            "conv2d_92 (Conv2D)           (None, 2, 2, 512)         2359808   \n",
            "_________________________________________________________________\n",
            "conv2d_93 (Conv2D)           (None, 2, 2, 512)         2359808   \n",
            "_________________________________________________________________\n",
            "flatten_7 (Flatten)          (None, 2048)              0         \n",
            "_________________________________________________________________\n",
            "dropout_5 (Dropout)          (None, 2048)              0         \n",
            "_________________________________________________________________\n",
            "dense_7 (Dense)              (None, 10)                20490     \n",
            "=================================================================\n",
            "Total params: 14,735,178\n",
            "Trainable params: 14,735,178\n",
            "Non-trainable params: 0\n",
            "_________________________________________________________________\n"
          ],
          "name": "stdout"
        }
      ]
    },
    {
      "cell_type": "code",
      "metadata": {
        "colab": {
          "base_uri": "https://localhost:8080/",
          "height": 1000
        },
        "id": "fNlnIne2wcdO",
        "outputId": "bb17f7eb-73f6-45fa-cbc2-d8c00430b510"
      },
      "source": [
        "tf.keras.utils.plot_model(model, dpi=48)"
      ],
      "execution_count": 72,
      "outputs": [
        {
          "output_type": "execute_result",
          "data": {
            "image/png": "[encoded data removed]",
            "text/plain": [
              "<IPython.core.display.Image object>"
            ]
          },
          "metadata": {
            "tags": []
          },
          "execution_count": 72
        }
      ]
    },
    {
      "cell_type": "markdown",
      "metadata": {
        "id": "AILnMW_tFpOG"
      },
      "source": [
        "## 4. Experiment"
      ]
    },
    {
      "cell_type": "code",
      "metadata": {
        "id": "xRgAuFlm5VxV"
      },
      "source": [
        "lr_callback = tf.keras.callbacks.ReduceLROnPlateau(monitor='val_acc', factor=0.9, patience=1, verbose=1, mode='max', min_lr=0)"
      ],
      "execution_count": 73,
      "outputs": []
    },
    {
      "cell_type": "code",
      "metadata": {
        "id": "bhyQw7zyFq8B",
        "colab": {
          "base_uri": "https://localhost:8080/"
        },
        "outputId": "64b25117-b644-4371-df8d-a0ea87e37fd2"
      },
      "source": [
        "hist = model.fit(\r\n",
        "    x_train, y_train,\r\n",
        "    validation_split = 0.2,\r\n",
        "    batch_size = 128,\r\n",
        "    epochs = 100,\r\n",
        "    callbacks = [lr_callback]\r\n",
        ")"
      ],
      "execution_count": 74,
      "outputs": [
        {
          "output_type": "stream",
          "text": [
            "Epoch 1/100\n",
            "313/313 [==============================] - 8s 22ms/step - loss: 4.2092 - acc: 0.1004 - val_loss: 4.1213 - val_acc: 0.0997\n",
            "Epoch 2/100\n",
            "313/313 [==============================] - 6s 20ms/step - loss: 4.0725 - acc: 0.1304 - val_loss: 3.6962 - val_acc: 0.2373\n",
            "Epoch 3/100\n",
            "313/313 [==============================] - 6s 20ms/step - loss: 3.6273 - acc: 0.2436 - val_loss: 3.3506 - val_acc: 0.3361\n",
            "Epoch 4/100\n",
            "313/313 [==============================] - 6s 20ms/step - loss: 3.2632 - acc: 0.3552 - val_loss: 3.1213 - val_acc: 0.3917\n",
            "Epoch 5/100\n",
            "313/313 [==============================] - 6s 20ms/step - loss: 3.0305 - acc: 0.4194 - val_loss: 2.8461 - val_acc: 0.4811\n",
            "Epoch 6/100\n",
            "313/313 [==============================] - 6s 20ms/step - loss: 2.8015 - acc: 0.4798 - val_loss: 2.6134 - val_acc: 0.5425\n",
            "Epoch 7/100\n",
            "313/313 [==============================] - 6s 20ms/step - loss: 2.5875 - acc: 0.5447 - val_loss: 2.4513 - val_acc: 0.5815\n",
            "Epoch 8/100\n",
            "313/313 [==============================] - 6s 20ms/step - loss: 2.3724 - acc: 0.6032 - val_loss: 2.2978 - val_acc: 0.6135\n",
            "Epoch 9/100\n",
            "313/313 [==============================] - 6s 20ms/step - loss: 2.1816 - acc: 0.6514 - val_loss: 2.1518 - val_acc: 0.6513\n",
            "Epoch 10/100\n",
            "313/313 [==============================] - 6s 20ms/step - loss: 2.0089 - acc: 0.6975 - val_loss: 2.0323 - val_acc: 0.6744\n",
            "Epoch 11/100\n",
            "313/313 [==============================] - 6s 20ms/step - loss: 1.8844 - acc: 0.7256 - val_loss: 1.8195 - val_acc: 0.7385\n",
            "Epoch 12/100\n",
            "313/313 [==============================] - 6s 20ms/step - loss: 1.7266 - acc: 0.7660 - val_loss: 1.7785 - val_acc: 0.7436\n",
            "Epoch 13/100\n",
            "313/313 [==============================] - 6s 20ms/step - loss: 1.6225 - acc: 0.7859 - val_loss: 1.6913 - val_acc: 0.7517\n",
            "Epoch 14/100\n",
            "313/313 [==============================] - 6s 20ms/step - loss: 1.5076 - acc: 0.8110 - val_loss: 1.6331 - val_acc: 0.7662\n",
            "Epoch 15/100\n",
            "313/313 [==============================] - 6s 20ms/step - loss: 1.4179 - acc: 0.8312 - val_loss: 1.5630 - val_acc: 0.7748\n",
            "Epoch 16/100\n",
            "313/313 [==============================] - 6s 20ms/step - loss: 1.3244 - acc: 0.8505 - val_loss: 1.5413 - val_acc: 0.7805\n",
            "Epoch 17/100\n",
            "313/313 [==============================] - 6s 20ms/step - loss: 1.2322 - acc: 0.8735 - val_loss: 1.4835 - val_acc: 0.7881\n",
            "Epoch 18/100\n",
            "313/313 [==============================] - 6s 20ms/step - loss: 1.1587 - acc: 0.8877 - val_loss: 1.4929 - val_acc: 0.7801\n",
            "\n",
            "Epoch 00018: ReduceLROnPlateau reducing learning rate to 0.008999999798834325.\n",
            "Epoch 19/100\n",
            "313/313 [==============================] - 6s 20ms/step - loss: 1.0722 - acc: 0.9109 - val_loss: 1.4881 - val_acc: 0.7878\n",
            "\n",
            "Epoch 00019: ReduceLROnPlateau reducing learning rate to 0.008099999651312828.\n",
            "Epoch 20/100\n",
            "313/313 [==============================] - 6s 20ms/step - loss: 0.9976 - acc: 0.9261 - val_loss: 1.4586 - val_acc: 0.7997\n",
            "Epoch 21/100\n",
            "313/313 [==============================] - 6s 20ms/step - loss: 0.9428 - acc: 0.9366 - val_loss: 1.4854 - val_acc: 0.8045\n",
            "Epoch 22/100\n",
            "313/313 [==============================] - 6s 20ms/step - loss: 0.8882 - acc: 0.9503 - val_loss: 1.4557 - val_acc: 0.7998\n",
            "\n",
            "Epoch 00022: ReduceLROnPlateau reducing learning rate to 0.007289999350905419.\n",
            "Epoch 23/100\n",
            "313/313 [==============================] - 6s 20ms/step - loss: 0.8422 - acc: 0.9600 - val_loss: 1.5031 - val_acc: 0.8045\n",
            "\n",
            "Epoch 00023: ReduceLROnPlateau reducing learning rate to 0.006560999248176813.\n",
            "Epoch 24/100\n",
            "313/313 [==============================] - 6s 20ms/step - loss: 0.7895 - acc: 0.9706 - val_loss: 1.4492 - val_acc: 0.8136\n",
            "Epoch 25/100\n",
            "313/313 [==============================] - 6s 20ms/step - loss: 0.7513 - acc: 0.9781 - val_loss: 1.5608 - val_acc: 0.7885\n",
            "\n",
            "Epoch 00025: ReduceLROnPlateau reducing learning rate to 0.005904899490997195.\n",
            "Epoch 26/100\n",
            "313/313 [==============================] - 6s 20ms/step - loss: 0.7215 - acc: 0.9836 - val_loss: 1.5177 - val_acc: 0.8086\n",
            "\n",
            "Epoch 00026: ReduceLROnPlateau reducing learning rate to 0.00531440949998796.\n",
            "Epoch 27/100\n",
            "313/313 [==============================] - 6s 20ms/step - loss: 0.6840 - acc: 0.9899 - val_loss: 1.5986 - val_acc: 0.8088\n",
            "\n",
            "Epoch 00027: ReduceLROnPlateau reducing learning rate to 0.004782968759536744.\n",
            "Epoch 28/100\n",
            "313/313 [==============================] - 6s 20ms/step - loss: 0.6626 - acc: 0.9929 - val_loss: 1.5835 - val_acc: 0.8233\n",
            "Epoch 29/100\n",
            "313/313 [==============================] - 6s 20ms/step - loss: 0.6315 - acc: 0.9972 - val_loss: 1.6185 - val_acc: 0.8167\n",
            "\n",
            "Epoch 00029: ReduceLROnPlateau reducing learning rate to 0.0043046717997640375.\n",
            "Epoch 30/100\n",
            "313/313 [==============================] - 6s 20ms/step - loss: 0.6159 - acc: 0.9974 - val_loss: 1.5703 - val_acc: 0.8265\n",
            "Epoch 31/100\n",
            "313/313 [==============================] - 6s 20ms/step - loss: 0.5939 - acc: 0.9999 - val_loss: 1.5612 - val_acc: 0.8288\n",
            "Epoch 32/100\n",
            "313/313 [==============================] - 6s 20ms/step - loss: 0.5782 - acc: 1.0000 - val_loss: 1.5381 - val_acc: 0.8287\n",
            "\n",
            "Epoch 00032: ReduceLROnPlateau reducing learning rate to 0.0038742044940590858.\n",
            "Epoch 33/100\n",
            "313/313 [==============================] - 6s 20ms/step - loss: 0.5636 - acc: 1.0000 - val_loss: 1.5186 - val_acc: 0.8282\n",
            "\n",
            "Epoch 00033: ReduceLROnPlateau reducing learning rate to 0.003486784128472209.\n",
            "Epoch 34/100\n",
            "313/313 [==============================] - 6s 21ms/step - loss: 0.5510 - acc: 1.0000 - val_loss: 1.5003 - val_acc: 0.8270\n",
            "\n",
            "Epoch 00034: ReduceLROnPlateau reducing learning rate to 0.003138105757534504.\n",
            "Epoch 35/100\n",
            "313/313 [==============================] - 6s 21ms/step - loss: 0.5400 - acc: 1.0000 - val_loss: 1.4950 - val_acc: 0.8273\n",
            "\n",
            "Epoch 00035: ReduceLROnPlateau reducing learning rate to 0.0028242952656000854.\n",
            "Epoch 36/100\n",
            "313/313 [==============================] - 7s 21ms/step - loss: 0.5305 - acc: 1.0000 - val_loss: 1.4763 - val_acc: 0.8284\n",
            "\n",
            "Epoch 00036: ReduceLROnPlateau reducing learning rate to 0.0025418657809495927.\n",
            "Epoch 37/100\n",
            "313/313 [==============================] - 6s 20ms/step - loss: 0.5219 - acc: 1.0000 - val_loss: 1.4737 - val_acc: 0.8277\n",
            "\n",
            "Epoch 00037: ReduceLROnPlateau reducing learning rate to 0.0022876791190356016.\n",
            "Epoch 38/100\n",
            "313/313 [==============================] - 6s 20ms/step - loss: 0.5145 - acc: 1.0000 - val_loss: 1.4692 - val_acc: 0.8272\n",
            "\n",
            "Epoch 00038: ReduceLROnPlateau reducing learning rate to 0.0020589112071320416.\n",
            "Epoch 39/100\n",
            "313/313 [==============================] - 6s 20ms/step - loss: 0.5078 - acc: 1.0000 - val_loss: 1.4626 - val_acc: 0.8267\n",
            "\n",
            "Epoch 00039: ReduceLROnPlateau reducing learning rate to 0.0018530200235545636.\n",
            "Epoch 40/100\n",
            "313/313 [==============================] - 6s 20ms/step - loss: 0.5020 - acc: 1.0000 - val_loss: 1.4605 - val_acc: 0.8269\n",
            "\n",
            "Epoch 00040: ReduceLROnPlateau reducing learning rate to 0.0016677180421538651.\n",
            "Epoch 41/100\n",
            "313/313 [==============================] - 6s 20ms/step - loss: 0.4968 - acc: 1.0000 - val_loss: 1.4523 - val_acc: 0.8276\n",
            "\n",
            "Epoch 00041: ReduceLROnPlateau reducing learning rate to 0.0015009462484158575.\n",
            "Epoch 42/100\n",
            "313/313 [==============================] - 6s 20ms/step - loss: 0.4922 - acc: 1.0000 - val_loss: 1.4512 - val_acc: 0.8262\n",
            "\n",
            "Epoch 00042: ReduceLROnPlateau reducing learning rate to 0.0013508516130968928.\n",
            "Epoch 43/100\n",
            "313/313 [==============================] - 6s 20ms/step - loss: 0.4881 - acc: 1.0000 - val_loss: 1.4549 - val_acc: 0.8258\n",
            "\n",
            "Epoch 00043: ReduceLROnPlateau reducing learning rate to 0.0012157664517872036.\n",
            "Epoch 44/100\n",
            "313/313 [==============================] - 6s 20ms/step - loss: 0.4845 - acc: 1.0000 - val_loss: 1.4486 - val_acc: 0.8267\n",
            "\n",
            "Epoch 00044: ReduceLROnPlateau reducing learning rate to 0.0010941897751763463.\n",
            "Epoch 45/100\n",
            "313/313 [==============================] - 6s 21ms/step - loss: 0.4812 - acc: 1.0000 - val_loss: 1.4470 - val_acc: 0.8251\n",
            "\n",
            "Epoch 00045: ReduceLROnPlateau reducing learning rate to 0.0009847708395682275.\n",
            "Epoch 46/100\n",
            "313/313 [==============================] - 6s 20ms/step - loss: 0.4784 - acc: 1.0000 - val_loss: 1.4491 - val_acc: 0.8255\n",
            "\n",
            "Epoch 00046: ReduceLROnPlateau reducing learning rate to 0.0008862937451340258.\n",
            "Epoch 47/100\n",
            "313/313 [==============================] - 6s 20ms/step - loss: 0.4757 - acc: 1.0000 - val_loss: 1.4457 - val_acc: 0.8240\n",
            "\n",
            "Epoch 00047: ReduceLROnPlateau reducing learning rate to 0.0007976643915753812.\n",
            "Epoch 48/100\n",
            "313/313 [==============================] - 6s 20ms/step - loss: 0.4734 - acc: 1.0000 - val_loss: 1.4478 - val_acc: 0.8245\n",
            "\n",
            "Epoch 00048: ReduceLROnPlateau reducing learning rate to 0.0007178979576565325.\n",
            "Epoch 49/100\n",
            "313/313 [==============================] - 6s 20ms/step - loss: 0.4713 - acc: 1.0000 - val_loss: 1.4431 - val_acc: 0.8253\n",
            "\n",
            "Epoch 00049: ReduceLROnPlateau reducing learning rate to 0.0006461081618908793.\n",
            "Epoch 50/100\n",
            "313/313 [==============================] - 6s 20ms/step - loss: 0.4694 - acc: 1.0000 - val_loss: 1.4449 - val_acc: 0.8241\n",
            "\n",
            "Epoch 00050: ReduceLROnPlateau reducing learning rate to 0.0005814973614178598.\n",
            "Epoch 51/100\n",
            "313/313 [==============================] - 6s 20ms/step - loss: 0.4678 - acc: 1.0000 - val_loss: 1.4433 - val_acc: 0.8247\n",
            "\n",
            "Epoch 00051: ReduceLROnPlateau reducing learning rate to 0.0005233476462308317.\n",
            "Epoch 52/100\n",
            "313/313 [==============================] - 6s 20ms/step - loss: 0.4664 - acc: 1.0000 - val_loss: 1.4436 - val_acc: 0.8234\n",
            "\n",
            "Epoch 00052: ReduceLROnPlateau reducing learning rate to 0.0004710128763690591.\n",
            "Epoch 53/100\n",
            "313/313 [==============================] - 6s 20ms/step - loss: 0.4650 - acc: 1.0000 - val_loss: 1.4417 - val_acc: 0.8236\n",
            "\n",
            "Epoch 00053: ReduceLROnPlateau reducing learning rate to 0.0004239115834934637.\n",
            "Epoch 54/100\n",
            "313/313 [==============================] - 6s 20ms/step - loss: 0.4638 - acc: 1.0000 - val_loss: 1.4418 - val_acc: 0.8237\n",
            "\n",
            "Epoch 00054: ReduceLROnPlateau reducing learning rate to 0.0003815204225247726.\n",
            "Epoch 55/100\n",
            "313/313 [==============================] - 7s 21ms/step - loss: 0.4627 - acc: 1.0000 - val_loss: 1.4412 - val_acc: 0.8236\n",
            "\n",
            "Epoch 00055: ReduceLROnPlateau reducing learning rate to 0.0003433683828916401.\n",
            "Epoch 56/100\n",
            "313/313 [==============================] - 6s 20ms/step - loss: 0.4617 - acc: 1.0000 - val_loss: 1.4420 - val_acc: 0.8230\n",
            "\n",
            "Epoch 00056: ReduceLROnPlateau reducing learning rate to 0.0003090315498411656.\n",
            "Epoch 57/100\n",
            "313/313 [==============================] - 6s 20ms/step - loss: 0.4609 - acc: 1.0000 - val_loss: 1.4418 - val_acc: 0.8228\n",
            "\n",
            "Epoch 00057: ReduceLROnPlateau reducing learning rate to 0.00027812838961835954.\n",
            "Epoch 58/100\n",
            "313/313 [==============================] - 6s 20ms/step - loss: 0.4601 - acc: 1.0000 - val_loss: 1.4402 - val_acc: 0.8231\n",
            "\n",
            "Epoch 00058: ReduceLROnPlateau reducing learning rate to 0.00025031555851455777.\n",
            "Epoch 59/100\n",
            "313/313 [==============================] - 6s 21ms/step - loss: 0.4594 - acc: 1.0000 - val_loss: 1.4402 - val_acc: 0.8230\n",
            "\n",
            "Epoch 00059: ReduceLROnPlateau reducing learning rate to 0.00022528400004375725.\n",
            "Epoch 60/100\n",
            "313/313 [==============================] - 6s 20ms/step - loss: 0.4588 - acc: 1.0000 - val_loss: 1.4391 - val_acc: 0.8229\n",
            "\n",
            "Epoch 00060: ReduceLROnPlateau reducing learning rate to 0.000202755605278071.\n",
            "Epoch 61/100\n",
            "313/313 [==============================] - 6s 20ms/step - loss: 0.4582 - acc: 1.0000 - val_loss: 1.4398 - val_acc: 0.8228\n",
            "\n",
            "Epoch 00061: ReduceLROnPlateau reducing learning rate to 0.00018248004344059154.\n",
            "Epoch 62/100\n",
            "313/313 [==============================] - 6s 20ms/step - loss: 0.4577 - acc: 1.0000 - val_loss: 1.4393 - val_acc: 0.8221\n",
            "\n",
            "Epoch 00062: ReduceLROnPlateau reducing learning rate to 0.00016423203778686004.\n",
            "Epoch 63/100\n",
            "313/313 [==============================] - 6s 20ms/step - loss: 0.4572 - acc: 1.0000 - val_loss: 1.4389 - val_acc: 0.8226\n",
            "\n",
            "Epoch 00063: ReduceLROnPlateau reducing learning rate to 0.00014780883793719113.\n",
            "Epoch 64/100\n",
            "313/313 [==============================] - 6s 21ms/step - loss: 0.4569 - acc: 1.0000 - val_loss: 1.4386 - val_acc: 0.8231\n",
            "\n",
            "Epoch 00064: ReduceLROnPlateau reducing learning rate to 0.00013302795414347202.\n",
            "Epoch 65/100\n",
            "313/313 [==============================] - 6s 21ms/step - loss: 0.4565 - acc: 1.0000 - val_loss: 1.4376 - val_acc: 0.8226\n",
            "\n",
            "Epoch 00065: ReduceLROnPlateau reducing learning rate to 0.00011972515349043534.\n",
            "Epoch 66/100\n",
            "313/313 [==============================] - 6s 20ms/step - loss: 0.4562 - acc: 1.0000 - val_loss: 1.4380 - val_acc: 0.8228\n",
            "\n",
            "Epoch 00066: ReduceLROnPlateau reducing learning rate to 0.00010775263945106417.\n",
            "Epoch 67/100\n",
            "313/313 [==============================] - 6s 21ms/step - loss: 0.4559 - acc: 1.0000 - val_loss: 1.4387 - val_acc: 0.8225\n",
            "\n",
            "Epoch 00067: ReduceLROnPlateau reducing learning rate to 9.697737550595775e-05.\n",
            "Epoch 68/100\n",
            "313/313 [==============================] - 6s 21ms/step - loss: 0.4556 - acc: 1.0000 - val_loss: 1.4380 - val_acc: 0.8225\n",
            "\n",
            "Epoch 00068: ReduceLROnPlateau reducing learning rate to 8.727963795536197e-05.\n",
            "Epoch 69/100\n",
            "313/313 [==============================] - 6s 21ms/step - loss: 0.4553 - acc: 1.0000 - val_loss: 1.4384 - val_acc: 0.8227\n",
            "\n",
            "Epoch 00069: ReduceLROnPlateau reducing learning rate to 7.85516735049896e-05.\n",
            "Epoch 70/100\n",
            "313/313 [==============================] - 6s 21ms/step - loss: 0.4551 - acc: 1.0000 - val_loss: 1.4387 - val_acc: 0.8224\n",
            "\n",
            "Epoch 00070: ReduceLROnPlateau reducing learning rate to 7.0696507464163e-05.\n",
            "Epoch 71/100\n",
            "313/313 [==============================] - 6s 20ms/step - loss: 0.4548 - acc: 1.0000 - val_loss: 1.4384 - val_acc: 0.8221\n",
            "\n",
            "Epoch 00071: ReduceLROnPlateau reducing learning rate to 6.36268567177467e-05.\n",
            "Epoch 72/100\n",
            "313/313 [==============================] - 6s 21ms/step - loss: 0.4547 - acc: 1.0000 - val_loss: 1.4383 - val_acc: 0.8227\n",
            "\n",
            "Epoch 00072: ReduceLROnPlateau reducing learning rate to 5.726417366531678e-05.\n",
            "Epoch 73/100\n",
            "313/313 [==============================] - 6s 21ms/step - loss: 0.4546 - acc: 1.0000 - val_loss: 1.4380 - val_acc: 0.8225\n",
            "\n",
            "Epoch 00073: ReduceLROnPlateau reducing learning rate to 5.1537755643948914e-05.\n",
            "Epoch 74/100\n",
            "313/313 [==============================] - 6s 21ms/step - loss: 0.4544 - acc: 1.0000 - val_loss: 1.4381 - val_acc: 0.8222\n",
            "\n",
            "Epoch 00074: ReduceLROnPlateau reducing learning rate to 4.638397876988165e-05.\n",
            "Epoch 75/100\n",
            "313/313 [==============================] - 6s 21ms/step - loss: 0.4543 - acc: 1.0000 - val_loss: 1.4377 - val_acc: 0.8223\n",
            "\n",
            "Epoch 00075: ReduceLROnPlateau reducing learning rate to 4.174558089289349e-05.\n",
            "Epoch 76/100\n",
            "313/313 [==============================] - 6s 21ms/step - loss: 0.4543 - acc: 1.0000 - val_loss: 1.4376 - val_acc: 0.8223\n",
            "\n",
            "Epoch 00076: ReduceLROnPlateau reducing learning rate to 3.7571023131022234e-05.\n",
            "Epoch 77/100\n",
            "313/313 [==============================] - 6s 20ms/step - loss: 0.4541 - acc: 1.0000 - val_loss: 1.4378 - val_acc: 0.8223\n",
            "\n",
            "Epoch 00077: ReduceLROnPlateau reducing learning rate to 3.381392016308382e-05.\n",
            "Epoch 78/100\n",
            "313/313 [==============================] - 6s 21ms/step - loss: 0.4540 - acc: 1.0000 - val_loss: 1.4378 - val_acc: 0.8222\n",
            "\n",
            "Epoch 00078: ReduceLROnPlateau reducing learning rate to 3.043252945644781e-05.\n",
            "Epoch 79/100\n",
            "313/313 [==============================] - 6s 20ms/step - loss: 0.4539 - acc: 1.0000 - val_loss: 1.4377 - val_acc: 0.8219\n",
            "\n",
            "Epoch 00079: ReduceLROnPlateau reducing learning rate to 2.738927651080303e-05.\n",
            "Epoch 80/100\n",
            "313/313 [==============================] - 6s 20ms/step - loss: 0.4539 - acc: 1.0000 - val_loss: 1.4373 - val_acc: 0.8219\n",
            "\n",
            "Epoch 00080: ReduceLROnPlateau reducing learning rate to 2.4650348859722725e-05.\n",
            "Epoch 81/100\n",
            "313/313 [==============================] - 6s 21ms/step - loss: 0.4537 - acc: 1.0000 - val_loss: 1.4376 - val_acc: 0.8221\n",
            "\n",
            "Epoch 00081: ReduceLROnPlateau reducing learning rate to 2.218531462858664e-05.\n",
            "Epoch 82/100\n",
            "313/313 [==============================] - 7s 21ms/step - loss: 0.4537 - acc: 1.0000 - val_loss: 1.4376 - val_acc: 0.8221\n",
            "\n",
            "Epoch 00082: ReduceLROnPlateau reducing learning rate to 1.9966783656855114e-05.\n",
            "Epoch 83/100\n",
            "313/313 [==============================] - 6s 21ms/step - loss: 0.4537 - acc: 1.0000 - val_loss: 1.4377 - val_acc: 0.8224\n",
            "\n",
            "Epoch 00083: ReduceLROnPlateau reducing learning rate to 1.7970104636333417e-05.\n",
            "Epoch 84/100\n",
            "313/313 [==============================] - 7s 21ms/step - loss: 0.4536 - acc: 1.0000 - val_loss: 1.4375 - val_acc: 0.8220\n",
            "\n",
            "Epoch 00084: ReduceLROnPlateau reducing learning rate to 1.6173094991245307e-05.\n",
            "Epoch 85/100\n",
            "313/313 [==============================] - 6s 21ms/step - loss: 0.4536 - acc: 1.0000 - val_loss: 1.4376 - val_acc: 0.8221\n",
            "\n",
            "Epoch 00085: ReduceLROnPlateau reducing learning rate to 1.4555785492120777e-05.\n",
            "Epoch 86/100\n",
            "313/313 [==============================] - 6s 21ms/step - loss: 0.4536 - acc: 1.0000 - val_loss: 1.4375 - val_acc: 0.8221\n",
            "\n",
            "Epoch 00086: ReduceLROnPlateau reducing learning rate to 1.3100206615490606e-05.\n",
            "Epoch 87/100\n",
            "313/313 [==============================] - 6s 20ms/step - loss: 0.4535 - acc: 1.0000 - val_loss: 1.4375 - val_acc: 0.8221\n",
            "\n",
            "Epoch 00087: ReduceLROnPlateau reducing learning rate to 1.1790186363214161e-05.\n",
            "Epoch 88/100\n",
            "313/313 [==============================] - 6s 21ms/step - loss: 0.4535 - acc: 1.0000 - val_loss: 1.4375 - val_acc: 0.8222\n",
            "\n",
            "Epoch 00088: ReduceLROnPlateau reducing learning rate to 1.0611167726892746e-05.\n",
            "Epoch 89/100\n",
            "313/313 [==============================] - 6s 20ms/step - loss: 0.4535 - acc: 1.0000 - val_loss: 1.4374 - val_acc: 0.8221\n",
            "\n",
            "Epoch 00089: ReduceLROnPlateau reducing learning rate to 9.550050708639902e-06.\n",
            "Epoch 90/100\n",
            "313/313 [==============================] - 6s 20ms/step - loss: 0.4534 - acc: 1.0000 - val_loss: 1.4375 - val_acc: 0.8222\n",
            "\n",
            "Epoch 00090: ReduceLROnPlateau reducing learning rate to 8.595045801484958e-06.\n",
            "Epoch 91/100\n",
            "313/313 [==============================] - 6s 21ms/step - loss: 0.4534 - acc: 1.0000 - val_loss: 1.4374 - val_acc: 0.8220\n",
            "\n",
            "Epoch 00091: ReduceLROnPlateau reducing learning rate to 7.735541385045509e-06.\n",
            "Epoch 92/100\n",
            "313/313 [==============================] - 6s 20ms/step - loss: 0.4533 - acc: 1.0000 - val_loss: 1.4374 - val_acc: 0.8220\n",
            "\n",
            "Epoch 00092: ReduceLROnPlateau reducing learning rate to 6.961987492104527e-06.\n",
            "Epoch 93/100\n",
            "313/313 [==============================] - 6s 21ms/step - loss: 0.4534 - acc: 1.0000 - val_loss: 1.4374 - val_acc: 0.8220\n",
            "\n",
            "Epoch 00093: ReduceLROnPlateau reducing learning rate to 6.265788579185028e-06.\n",
            "Epoch 94/100\n",
            "313/313 [==============================] - 6s 21ms/step - loss: 0.4533 - acc: 1.0000 - val_loss: 1.4374 - val_acc: 0.8221\n",
            "\n",
            "Epoch 00094: ReduceLROnPlateau reducing learning rate to 5.639209803121048e-06.\n",
            "Epoch 95/100\n",
            "313/313 [==============================] - 6s 20ms/step - loss: 0.4533 - acc: 1.0000 - val_loss: 1.4374 - val_acc: 0.8221\n",
            "\n",
            "Epoch 00095: ReduceLROnPlateau reducing learning rate to 5.075289027445251e-06.\n",
            "Epoch 96/100\n",
            "313/313 [==============================] - 6s 21ms/step - loss: 0.4533 - acc: 1.0000 - val_loss: 1.4373 - val_acc: 0.8222\n",
            "\n",
            "Epoch 00096: ReduceLROnPlateau reducing learning rate to 4.567760288409772e-06.\n",
            "Epoch 97/100\n",
            "313/313 [==============================] - 6s 20ms/step - loss: 0.4533 - acc: 1.0000 - val_loss: 1.4373 - val_acc: 0.8221\n",
            "\n",
            "Epoch 00097: ReduceLROnPlateau reducing learning rate to 4.110984218641534e-06.\n",
            "Epoch 98/100\n",
            "313/313 [==============================] - 6s 21ms/step - loss: 0.4532 - acc: 1.0000 - val_loss: 1.4373 - val_acc: 0.8221\n",
            "\n",
            "Epoch 00098: ReduceLROnPlateau reducing learning rate to 3.6998858377046417e-06.\n",
            "Epoch 99/100\n",
            "313/313 [==============================] - 6s 21ms/step - loss: 0.4533 - acc: 1.0000 - val_loss: 1.4374 - val_acc: 0.8221\n",
            "\n",
            "Epoch 00099: ReduceLROnPlateau reducing learning rate to 3.3298972539341776e-06.\n",
            "Epoch 100/100\n",
            "313/313 [==============================] - 6s 21ms/step - loss: 0.4533 - acc: 1.0000 - val_loss: 1.4374 - val_acc: 0.8222\n",
            "\n",
            "Epoch 00100: ReduceLROnPlateau reducing learning rate to 2.99690752854076e-06.\n"
          ],
          "name": "stdout"
        }
      ]
    },
    {
      "cell_type": "code",
      "metadata": {
        "colab": {
          "base_uri": "https://localhost:8080/",
          "height": 336
        },
        "id": "ujaAmddiAp81",
        "outputId": "a8b1d4bd-8503-4b99-b3a3-016f8018c10d"
      },
      "source": [
        "fig, ax = plt.subplots(1, 2, figsize=(11, 5))\r\n",
        "\r\n",
        "ax[0].plot(hist.history['loss'])\r\n",
        "ax[0].plot(hist.history['val_loss'])\r\n",
        "ax[0].set_title('Loss')\r\n",
        "ax[0].legend(['train loss', 'val loss'])\r\n",
        "\r\n",
        "ax[1].plot(hist.history['acc'])\r\n",
        "ax[1].plot(hist.history['val_acc'])\r\n",
        "ax[1].set_title('Acc')\r\n",
        "ax[1].legend(['train acc', 'val acc'])\r\n",
        "\r\n",
        "plt.show()"
      ],
      "execution_count": 94,
      "outputs": [
        {
          "output_type": "display_data",
          "data": {
            "image/png": "[encoded data removed]",
            "text/plain": [
              "<Figure size 792x360 with 2 Axes>"
            ]
          },
          "metadata": {
            "tags": [],
            "needs_background": "light"
          }
        }
      ]
    },
    {
      "cell_type": "code",
      "metadata": {
        "id": "g9CWqhaEFtNA",
        "colab": {
          "base_uri": "https://localhost:8080/"
        },
        "outputId": "2f9adfff-9f35-42e7-a8a5-23682b86948e"
      },
      "source": [
        "_ = model.evaluate(x_test, y_test)"
      ],
      "execution_count": 83,
      "outputs": [
        {
          "output_type": "stream",
          "text": [
            "313/313 [==============================] - 2s 5ms/step - loss: 1.4724 - acc: 0.8155\n"
          ],
          "name": "stdout"
        }
      ]
    }
  ]
}