{
  "nbformat": 4,
  "nbformat_minor": 0,
  "metadata": {
    "colab": {
      "name": "Very Deep Convolutional Networks for Large-Scale Image Recognition (VGG)",
      "provenance": [],
      "collapsed_sections": [],
      "toc_visible": true,
      "authorship_tag": "ABX9TyNTtXDh/bYjWwDheebe8OLM",
      "include_colab_link": true
    },
    "kernelspec": {
      "name": "python3",
      "display_name": "Python 3"
    },
    "accelerator": "GPU"
  },
  "cells": [
    {
      "cell_type": "markdown",
      "metadata": {
        "id": "view-in-github",
        "colab_type": "text"
      },
      "source": [
        "<a href=\"https://colab.research.google.com/github/respect5716/Deep-Learning-Paper-Implementation/blob/master/02_Vision/Very%20Deep%20Convolutional%20Networks%20for%20Large%20Scale%20Image%20Recognition%20(VGG).ipynb\" target=\"_parent\"><img src=\"https://colab.research.google.com/assets/colab-badge.svg\" alt=\"Open In Colab\"/></a>"
      ]
    },
    {
      "cell_type": "markdown",
      "metadata": {
        "id": "wzh7yGxNDluC",
        "colab_type": "text"
      },
      "source": [
        "# Very Deep Convolutional Networks for Large-Scale Image Recognition (VGG)"
      ]
    },
    {
      "cell_type": "markdown",
      "metadata": {
        "id": "Iki6sM3EDsjS",
        "colab_type": "text"
      },
      "source": [
        "## 0. Paper"
      ]
    },
    {
      "cell_type": "markdown",
      "metadata": {
        "id": "subFe3E5DttM",
        "colab_type": "text"
      },
      "source": [
        "### Info\n",
        "* TItle : Very Deep Convolutional Networks for Large-Scale Image Recognition\n",
        "* Author : Karen Simonyan, Andrew Zisserman\n",
        "* Publication : ICLR 2015, [link](https://arxiv.org/pdf/1409.1556.pdf)"
      ]
    },
    {
      "cell_type": "markdown",
      "metadata": {
        "id": "PvL7j-dcEHBW",
        "colab_type": "text"
      },
      "source": [
        "### Summary\n",
        "* 3x3의 작은 convolution filter만으로 층을 깊게 쌓으면 좋은 성능을 낼 수 있다."
      ]
    },
    {
      "cell_type": "markdown",
      "metadata": {
        "id": "vTR7QXvpDz_j",
        "colab_type": "text"
      },
      "source": [
        "### Differences\n",
        "* dataset : Imagenet -> Intel Image Classification, [link](https://www.kaggle.com/puneet6060/intel-image-classification)\n",
        "* initial num filters : 64 -> 32\n",
        "* fc dimension : 4096 -> 64\n",
        "* weight decay : L2 -> None\n",
        "* num layer : 11 -> 7\n",
        "* epoch size : 74 -> 30\n"
      ]
    },
    {
      "cell_type": "markdown",
      "metadata": {
        "id": "JuaQpOWMD9tz",
        "colab_type": "text"
      },
      "source": [
        "## 1. Env"
      ]
    },
    {
      "cell_type": "code",
      "metadata": {
        "id": "eT9rJnlYHENC",
        "colab_type": "code",
        "outputId": "ae6d2e00-9a2d-463b-f19d-ff990369aae7",
        "colab": {
          "base_uri": "https://localhost:8080/",
          "height": 125
        }
      },
      "source": [
        "# Google Drive\n",
        "from google.colab import drive\n",
        "drive.mount('/content/drive')"
      ],
      "execution_count": 0,
      "outputs": [
        {
          "output_type": "stream",
          "text": [
            "Go to this URL in a browser: https://accounts.google.com/o/oauth2/auth?client_id=947318989803-6bn6qk8qdgf4n4g3pfee6491hc0brc4i.apps.googleusercontent.com&redirect_uri=urn%3aietf%3awg%3aoauth%3a2.0%3aoob&response_type=code&scope=email%20https%3a%2f%2fwww.googleapis.com%2fauth%2fdocs.test%20https%3a%2f%2fwww.googleapis.com%2fauth%2fdrive%20https%3a%2f%2fwww.googleapis.com%2fauth%2fdrive.photos.readonly%20https%3a%2f%2fwww.googleapis.com%2fauth%2fpeopleapi.readonly\n",
            "\n",
            "Enter your authorization code:\n",
            "··········\n",
            "Mounted at /content/drive\n"
          ],
          "name": "stdout"
        }
      ]
    },
    {
      "cell_type": "code",
      "metadata": {
        "id": "ZizQk84lEC3L",
        "colab_type": "code",
        "colab": {}
      },
      "source": [
        "# Libraries\n",
        "import os\n",
        "import cv2\n",
        "import numpy as np\n",
        "import pandas as pd\n",
        "from PIL import Image\n",
        "from sklearn.preprocessing import LabelEncoder\n",
        "\n",
        "import tensorflow as tf\n",
        "import tensorflow_datasets as tfds"
      ],
      "execution_count": 0,
      "outputs": []
    },
    {
      "cell_type": "code",
      "metadata": {
        "id": "uwx8oX5uERr9",
        "colab_type": "code",
        "outputId": "0a5ee4b6-b719-4ddb-ed53-e4c49ad0b14e",
        "colab": {
          "base_uri": "https://localhost:8080/",
          "height": 351
        }
      },
      "source": [
        "# GPU Setting\n",
        "!nvidia-smi\n",
        "\n",
        "print(f'tensorflow version : {tf.__version__}')\n",
        "print(f'available GPU list : {tf.config.list_physical_devices(\"GPU\")}')"
      ],
      "execution_count": 0,
      "outputs": [
        {
          "output_type": "stream",
          "text": [
            "Wed May 27 10:55:25 2020       \n",
            "+-----------------------------------------------------------------------------+\n",
            "| NVIDIA-SMI 440.82       Driver Version: 418.67       CUDA Version: 10.1     |\n",
            "|-------------------------------+----------------------+----------------------+\n",
            "| GPU  Name        Persistence-M| Bus-Id        Disp.A | Volatile Uncorr. ECC |\n",
            "| Fan  Temp  Perf  Pwr:Usage/Cap|         Memory-Usage | GPU-Util  Compute M. |\n",
            "|===============================+======================+======================|\n",
            "|   0  Tesla P100-PCIE...  Off  | 00000000:00:04.0 Off |                    0 |\n",
            "| N/A   45C    P0    28W / 250W |      0MiB / 16280MiB |      0%      Default |\n",
            "+-------------------------------+----------------------+----------------------+\n",
            "                                                                               \n",
            "+-----------------------------------------------------------------------------+\n",
            "| Processes:                                                       GPU Memory |\n",
            "|  GPU       PID   Type   Process name                             Usage      |\n",
            "|=============================================================================|\n",
            "|  No running processes found                                                 |\n",
            "+-----------------------------------------------------------------------------+\n",
            "tensorflow version : 2.2.0\n",
            "available GPU list : [PhysicalDevice(name='/physical_device:GPU:0', device_type='GPU')]\n"
          ],
          "name": "stdout"
        }
      ]
    },
    {
      "cell_type": "code",
      "metadata": {
        "id": "vDHgob5kG5Ve",
        "colab_type": "code",
        "colab": {}
      },
      "source": [
        "# Hyperparameters\n",
        "BASE_DIR = '/content/drive/Shared drives/Yoon/Project/Doing/Deep Learning Paper Implementation'\n",
        "INIT_NUM_FILTER = 32\n",
        "FC_DIM = 64\n",
        "BATCH_SIZE = 128\n",
        "EPOCH_SIZE = 30"
      ],
      "execution_count": 0,
      "outputs": []
    },
    {
      "cell_type": "markdown",
      "metadata": {
        "id": "Qd9D_aouEVMB",
        "colab_type": "text"
      },
      "source": [
        "## 2. Data"
      ]
    },
    {
      "cell_type": "code",
      "metadata": {
        "id": "hzYjD0NkEzIs",
        "colab_type": "code",
        "colab": {}
      },
      "source": [
        "data_path = os.path.join(BASE_DIR, 'data', 'intel_image_classification.zip')"
      ],
      "execution_count": 0,
      "outputs": []
    },
    {
      "cell_type": "code",
      "metadata": {
        "id": "gCdnQjRJFn-M",
        "colab_type": "code",
        "colab": {}
      },
      "source": [
        "!unzip $\"{data_path}\" -d \"/content/data\""
      ],
      "execution_count": 0,
      "outputs": []
    },
    {
      "cell_type": "code",
      "metadata": {
        "id": "mnncRMXR6k4E",
        "colab_type": "code",
        "colab": {}
      },
      "source": [
        "def build_dataframe(data_dir):\n",
        "    df = {'image':[], 'label':[], 'path':[]}\n",
        "    data_dir = 'data/train'\n",
        "    labels = os.listdir(data_dir)\n",
        "\n",
        "    for label in labels:\n",
        "        label_dir = os.path.join(data_dir, label)\n",
        "        images = os.listdir(label_dir)\n",
        "        df['image'] += [i.split('.')[0] for i in images]\n",
        "        df['label'] += [label for _ in range(len(images))]\n",
        "        df['path'] += [os.path.join(label_dir, i) for i in images]\n",
        "    \n",
        "    df = pd.DataFrame(df)\n",
        "    return df"
      ],
      "execution_count": 0,
      "outputs": []
    },
    {
      "cell_type": "code",
      "metadata": {
        "id": "tqcqcta-68Qi",
        "colab_type": "code",
        "colab": {}
      },
      "source": [
        "class ImageDataset(tf.keras.utils.Sequence):\n",
        "    def __init__(self, data, batch_size, shuffle):\n",
        "        self.data = data\n",
        "        self.data_len = len(data)\n",
        "        self.batch_size = batch_size\n",
        "        self.shuffle = shuffle\n",
        "        self.idx = 0\n",
        "        self.on_epoch_end()\n",
        "    \n",
        "    def __len__(self):\n",
        "        return np.ceil(len(self.data) / self.batch_size).astype(np.int)\n",
        "    \n",
        "    def on_epoch_end(self):\n",
        "        if self.shuffle:\n",
        "            self.indices = np.random.permutation(self.data_len)\n",
        "        else:\n",
        "            self.indices = np.arange(self.data_len)\n",
        "\n",
        "    def load_image(self, path):\n",
        "        image = cv2.imread(path)\n",
        "        image = cv2.cvtColor(image, cv2.COLOR_BGR2RGB)\n",
        "        image = image.astype(float) / 255\n",
        "        image = cv2.resize(image, (128, 128))\n",
        "        return image\n",
        "\n",
        "    def __getitem__(self, idx):\n",
        "        batch_idx = self.indices[self.batch_size*idx : self.batch_size*(idx+1)]\n",
        "        x = self.data.iloc[batch_idx]['path']\n",
        "        x = np.stack([self.load_image(i) for i in x])\n",
        "        y = self.data.iloc[batch_idx]['label']\n",
        "        y = np.array(y).astype(np.int32)\n",
        "        return x, y\n",
        "\n",
        "    def next(self):\n",
        "        if self.idx == self.__len__():\n",
        "            self.on_epoch_end()\n",
        "            self.idx = 0\n",
        "        x, y = self.__getitem__(self.idx)\n",
        "        self.idx += 1\n",
        "        return x, y"
      ],
      "execution_count": 0,
      "outputs": []
    },
    {
      "cell_type": "code",
      "metadata": {
        "id": "2Q16oQPi5g3k",
        "colab_type": "code",
        "colab": {}
      },
      "source": [
        "train_data = build_dataframe('data/train')\n",
        "test_data = build_dataframe('data/test')"
      ],
      "execution_count": 0,
      "outputs": []
    },
    {
      "cell_type": "code",
      "metadata": {
        "id": "uzrF2DgG9PDD",
        "colab_type": "code",
        "outputId": "1c4e377b-cf9b-41de-f88c-4e1b5599203c",
        "colab": {
          "base_uri": "https://localhost:8080/",
          "height": 195
        }
      },
      "source": [
        "# 데이터 예시\n",
        "train_data.head()"
      ],
      "execution_count": 0,
      "outputs": [
        {
          "output_type": "execute_result",
          "data": {
            "text/html": [
              "<div>\n",
              "<style scoped>\n",
              "    .dataframe tbody tr th:only-of-type {\n",
              "        vertical-align: middle;\n",
              "    }\n",
              "\n",
              "    .dataframe tbody tr th {\n",
              "        vertical-align: top;\n",
              "    }\n",
              "\n",
              "    .dataframe thead th {\n",
              "        text-align: right;\n",
              "    }\n",
              "</style>\n",
              "<table border=\"1\" class=\"dataframe\">\n",
              "  <thead>\n",
              "    <tr style=\"text-align: right;\">\n",
              "      <th></th>\n",
              "      <th>image</th>\n",
              "      <th>label</th>\n",
              "      <th>path</th>\n",
              "    </tr>\n",
              "  </thead>\n",
              "  <tbody>\n",
              "    <tr>\n",
              "      <th>0</th>\n",
              "      <td>3196</td>\n",
              "      <td>sea</td>\n",
              "      <td>data/train/sea/3196.jpg</td>\n",
              "    </tr>\n",
              "    <tr>\n",
              "      <th>1</th>\n",
              "      <td>444</td>\n",
              "      <td>sea</td>\n",
              "      <td>data/train/sea/444.jpg</td>\n",
              "    </tr>\n",
              "    <tr>\n",
              "      <th>2</th>\n",
              "      <td>5464</td>\n",
              "      <td>sea</td>\n",
              "      <td>data/train/sea/5464.jpg</td>\n",
              "    </tr>\n",
              "    <tr>\n",
              "      <th>3</th>\n",
              "      <td>6756</td>\n",
              "      <td>sea</td>\n",
              "      <td>data/train/sea/6756.jpg</td>\n",
              "    </tr>\n",
              "    <tr>\n",
              "      <th>4</th>\n",
              "      <td>12071</td>\n",
              "      <td>sea</td>\n",
              "      <td>data/train/sea/12071.jpg</td>\n",
              "    </tr>\n",
              "  </tbody>\n",
              "</table>\n",
              "</div>"
            ],
            "text/plain": [
              "   image label                      path\n",
              "0   3196   sea   data/train/sea/3196.jpg\n",
              "1    444   sea    data/train/sea/444.jpg\n",
              "2   5464   sea   data/train/sea/5464.jpg\n",
              "3   6756   sea   data/train/sea/6756.jpg\n",
              "4  12071   sea  data/train/sea/12071.jpg"
            ]
          },
          "metadata": {
            "tags": []
          },
          "execution_count": 129
        }
      ]
    },
    {
      "cell_type": "code",
      "metadata": {
        "id": "gKArH1-59rlk",
        "colab_type": "code",
        "outputId": "cadf8d86-0346-43ae-ba08-23b180cabe9a",
        "colab": {
          "base_uri": "https://localhost:8080/",
          "height": 167
        }
      },
      "source": [
        "# 이미지 예시\n",
        "Image.open(train_data['path'].iloc[0])"
      ],
      "execution_count": 0,
      "outputs": [
        {
          "output_type": "execute_result",
          "data": {
            "image/png": "[encoded data removed]",
            "text/plain": [
              "<PIL.JpegImagePlugin.JpegImageFile image mode=RGB size=150x150 at 0x7F3B59F3D780>"
            ]
          },
          "metadata": {
            "tags": []
          },
          "execution_count": 130
        }
      ]
    },
    {
      "cell_type": "code",
      "metadata": {
        "id": "6aEuH2pr-A_Z",
        "colab_type": "code",
        "outputId": "37de72de-1647-40f6-a78d-9701c9949642",
        "colab": {
          "base_uri": "https://localhost:8080/",
          "height": 34
        }
      },
      "source": [
        "# RAW 이미지 사이즈\n",
        "Image.open(train_data['path'].iloc[0]).size"
      ],
      "execution_count": 0,
      "outputs": [
        {
          "output_type": "execute_result",
          "data": {
            "text/plain": [
              "(150, 150)"
            ]
          },
          "metadata": {
            "tags": []
          },
          "execution_count": 131
        }
      ]
    },
    {
      "cell_type": "code",
      "metadata": {
        "id": "4aIVd0-sZTtF",
        "colab_type": "code",
        "outputId": "38ff1ab6-ecfd-44fa-ac00-e68e388dc53b",
        "colab": {
          "base_uri": "https://localhost:8080/",
          "height": 52
        }
      },
      "source": [
        "label_encoder = LabelEncoder()\n",
        "label_encoder.fit(train_data['label'])\n",
        "label_encoder.classes_"
      ],
      "execution_count": 0,
      "outputs": [
        {
          "output_type": "execute_result",
          "data": {
            "text/plain": [
              "array(['buildings', 'forest', 'glacier', 'mountain', 'sea', 'street'],\n",
              "      dtype=object)"
            ]
          },
          "metadata": {
            "tags": []
          },
          "execution_count": 132
        }
      ]
    },
    {
      "cell_type": "code",
      "metadata": {
        "id": "p6MngXmnZnNz",
        "colab_type": "code",
        "colab": {}
      },
      "source": [
        "train_data['label'] = label_encoder.transform(train_data['label'])\n",
        "test_data['label'] = label_encoder.transform(test_data['label'])"
      ],
      "execution_count": 0,
      "outputs": []
    },
    {
      "cell_type": "code",
      "metadata": {
        "id": "Qczfojd46eWj",
        "colab_type": "code",
        "colab": {}
      },
      "source": [
        "train_dataset = ImageDataset(train_data, BATCH_SIZE, True)\n",
        "test_dataset = ImageDataset(test_data, BATCH_SIZE, False)"
      ],
      "execution_count": 0,
      "outputs": []
    },
    {
      "cell_type": "code",
      "metadata": {
        "id": "riVub9nc9HHL",
        "colab_type": "code",
        "colab": {}
      },
      "source": [
        "x, y = train_dataset.next()"
      ],
      "execution_count": 0,
      "outputs": []
    },
    {
      "cell_type": "code",
      "metadata": {
        "id": "YPHF378pWBco",
        "colab_type": "code",
        "outputId": "b82a50ee-f35b-4dd7-fa9a-91a8b481008a",
        "colab": {
          "base_uri": "https://localhost:8080/",
          "height": 34
        }
      },
      "source": [
        "x.shape, y.shape"
      ],
      "execution_count": 0,
      "outputs": [
        {
          "output_type": "execute_result",
          "data": {
            "text/plain": [
              "((128, 128, 128, 3), (128,))"
            ]
          },
          "metadata": {
            "tags": []
          },
          "execution_count": 136
        }
      ]
    },
    {
      "cell_type": "markdown",
      "metadata": {
        "id": "bLljDsOoFoLN",
        "colab_type": "text"
      },
      "source": [
        "## 3. Model"
      ]
    },
    {
      "cell_type": "code",
      "metadata": {
        "id": "cPCDyLaeas_j",
        "colab_type": "code",
        "colab": {}
      },
      "source": [
        "def build_network(output_dim):\n",
        "    inputs = tf.keras.layers.Input(shape=(128, 128, 3))\n",
        "    x = tf.keras.layers.Conv2D(INIT_NUM_FILTER, 3, padding='same', activation='relu')(inputs)\n",
        "    x = tf.keras.layers.MaxPooling2D(pool_size=(2,2))(x)\n",
        "    x = tf.keras.layers.Conv2D(INIT_NUM_FILTER*2, 3, padding='same', activation='relu')(x)\n",
        "    x = tf.keras.layers.MaxPooling2D(pool_size=(2,2))(x)\n",
        "    x = tf.keras.layers.Conv2D(INIT_NUM_FILTER*4, 3, padding='same', activation='relu')(x)\n",
        "    x = tf.keras.layers.Conv2D(INIT_NUM_FILTER*4, 3, padding='same', activation='relu')(x)\n",
        "    x = tf.keras.layers.MaxPooling2D(pool_size=(2,2))(x)\n",
        "    \n",
        "    x = tf.keras.layers.Flatten()(x)\n",
        "    x = tf.keras.layers.Dense(FC_DIM, activation='relu')(x)\n",
        "    x = tf.keras.layers.Dropout(0.5)(x)\n",
        "    x = tf.keras.layers.Dense(FC_DIM, activation='relu')(x)\n",
        "    x = tf.keras.layers.Dropout(0.5)(x)\n",
        "    outputs = tf.keras.layers.Dense(output_dim, activation='softmax')(x)\n",
        "    \n",
        "    network = tf.keras.Model(inputs, outputs)\n",
        "    network.compile(\n",
        "        optimizer = tf.keras.optimizers.Adam(),\n",
        "        loss = 'sparse_categorical_crossentropy',\n",
        "        metrics = ['accuracy']\n",
        "    )\n",
        "    print(network.summary())\n",
        "    return network"
      ],
      "execution_count": 0,
      "outputs": []
    },
    {
      "cell_type": "code",
      "metadata": {
        "id": "y-NsYWrJbFRl",
        "colab_type": "code",
        "outputId": "b4be4cdc-33b2-4cbd-e4c7-6bfe45007a06",
        "colab": {
          "base_uri": "https://localhost:8080/",
          "height": 668
        }
      },
      "source": [
        "network = build_network(6)"
      ],
      "execution_count": 0,
      "outputs": [
        {
          "output_type": "stream",
          "text": [
            "Model: \"model_13\"\n",
            "_________________________________________________________________\n",
            "Layer (type)                 Output Shape              Param #   \n",
            "=================================================================\n",
            "input_14 (InputLayer)        [(None, 128, 128, 3)]     0         \n",
            "_________________________________________________________________\n",
            "conv2d_46 (Conv2D)           (None, 128, 128, 32)      896       \n",
            "_________________________________________________________________\n",
            "max_pooling2d_36 (MaxPooling (None, 64, 64, 32)        0         \n",
            "_________________________________________________________________\n",
            "conv2d_47 (Conv2D)           (None, 64, 64, 64)        18496     \n",
            "_________________________________________________________________\n",
            "max_pooling2d_37 (MaxPooling (None, 32, 32, 64)        0         \n",
            "_________________________________________________________________\n",
            "conv2d_48 (Conv2D)           (None, 32, 32, 128)       73856     \n",
            "_________________________________________________________________\n",
            "conv2d_49 (Conv2D)           (None, 32, 32, 128)       147584    \n",
            "_________________________________________________________________\n",
            "max_pooling2d_38 (MaxPooling (None, 16, 16, 128)       0         \n",
            "_________________________________________________________________\n",
            "flatten_13 (Flatten)         (None, 32768)             0         \n",
            "_________________________________________________________________\n",
            "dense_39 (Dense)             (None, 64)                2097216   \n",
            "_________________________________________________________________\n",
            "dropout_12 (Dropout)         (None, 64)                0         \n",
            "_________________________________________________________________\n",
            "dense_40 (Dense)             (None, 64)                4160      \n",
            "_________________________________________________________________\n",
            "dropout_13 (Dropout)         (None, 64)                0         \n",
            "_________________________________________________________________\n",
            "dense_41 (Dense)             (None, 6)                 390       \n",
            "=================================================================\n",
            "Total params: 2,342,598\n",
            "Trainable params: 2,342,598\n",
            "Non-trainable params: 0\n",
            "_________________________________________________________________\n",
            "None\n"
          ],
          "name": "stdout"
        }
      ]
    },
    {
      "cell_type": "markdown",
      "metadata": {
        "id": "AILnMW_tFpOG",
        "colab_type": "text"
      },
      "source": [
        "## 4. Train"
      ]
    },
    {
      "cell_type": "code",
      "metadata": {
        "id": "bhyQw7zyFq8B",
        "colab_type": "code",
        "outputId": "b059f511-364a-48c1-eab5-0a35f98e666b",
        "colab": {
          "base_uri": "https://localhost:8080/",
          "height": 1000
        }
      },
      "source": [
        "hist = network.fit(\n",
        "    train_dataset,\n",
        "    epochs = EPOCH_SIZE)"
      ],
      "execution_count": 0,
      "outputs": [
        {
          "output_type": "stream",
          "text": [
            "Epoch 1/30\n",
            "110/110 [==============================] - 21s 190ms/step - loss: 1.4543 - accuracy: 0.3894\n",
            "Epoch 2/30\n",
            "110/110 [==============================] - 21s 190ms/step - loss: 1.1669 - accuracy: 0.5300\n",
            "Epoch 3/30\n",
            "110/110 [==============================] - 21s 189ms/step - loss: 1.0189 - accuracy: 0.6009\n",
            "Epoch 4/30\n",
            "110/110 [==============================] - 21s 188ms/step - loss: 0.9429 - accuracy: 0.6362\n",
            "Epoch 5/30\n",
            "110/110 [==============================] - 21s 189ms/step - loss: 0.8351 - accuracy: 0.6953\n",
            "Epoch 6/30\n",
            "110/110 [==============================] - 21s 188ms/step - loss: 0.7691 - accuracy: 0.7263\n",
            "Epoch 7/30\n",
            "110/110 [==============================] - 21s 188ms/step - loss: 0.6963 - accuracy: 0.7554\n",
            "Epoch 8/30\n",
            "110/110 [==============================] - 21s 188ms/step - loss: 0.6325 - accuracy: 0.7772\n",
            "Epoch 9/30\n",
            "110/110 [==============================] - 21s 188ms/step - loss: 0.6134 - accuracy: 0.7824\n",
            "Epoch 10/30\n",
            "110/110 [==============================] - 21s 188ms/step - loss: 0.5528 - accuracy: 0.8090\n",
            "Epoch 11/30\n",
            "110/110 [==============================] - 21s 188ms/step - loss: 0.5244 - accuracy: 0.8161\n",
            "Epoch 12/30\n",
            "110/110 [==============================] - 21s 188ms/step - loss: 0.4851 - accuracy: 0.8292\n",
            "Epoch 13/30\n",
            "110/110 [==============================] - 21s 188ms/step - loss: 0.4665 - accuracy: 0.8335\n",
            "Epoch 14/30\n",
            "110/110 [==============================] - 21s 188ms/step - loss: 0.4322 - accuracy: 0.8439\n",
            "Epoch 15/30\n",
            "110/110 [==============================] - 21s 188ms/step - loss: 0.4109 - accuracy: 0.8516\n",
            "Epoch 16/30\n",
            "110/110 [==============================] - 21s 189ms/step - loss: 0.3766 - accuracy: 0.8627\n",
            "Epoch 17/30\n",
            "110/110 [==============================] - 21s 189ms/step - loss: 0.3752 - accuracy: 0.8672\n",
            "Epoch 18/30\n",
            "110/110 [==============================] - 21s 188ms/step - loss: 0.3396 - accuracy: 0.8752\n",
            "Epoch 19/30\n",
            "110/110 [==============================] - 21s 189ms/step - loss: 0.3332 - accuracy: 0.8816\n",
            "Epoch 20/30\n",
            "110/110 [==============================] - 21s 189ms/step - loss: 0.3117 - accuracy: 0.8878\n",
            "Epoch 21/30\n",
            "110/110 [==============================] - 21s 188ms/step - loss: 0.3137 - accuracy: 0.8861\n",
            "Epoch 22/30\n",
            "110/110 [==============================] - 21s 188ms/step - loss: 0.3055 - accuracy: 0.8911\n",
            "Epoch 23/30\n",
            "110/110 [==============================] - 21s 190ms/step - loss: 0.3078 - accuracy: 0.8892\n",
            "Epoch 24/30\n",
            "110/110 [==============================] - 21s 189ms/step - loss: 0.2786 - accuracy: 0.8964\n",
            "Epoch 25/30\n",
            "110/110 [==============================] - 21s 189ms/step - loss: 0.2616 - accuracy: 0.9040\n",
            "Epoch 26/30\n",
            "110/110 [==============================] - 21s 189ms/step - loss: 0.2506 - accuracy: 0.9069\n",
            "Epoch 27/30\n",
            "110/110 [==============================] - 21s 188ms/step - loss: 0.2454 - accuracy: 0.9093\n",
            "Epoch 28/30\n",
            "110/110 [==============================] - 21s 189ms/step - loss: 0.2629 - accuracy: 0.9017\n",
            "Epoch 29/30\n",
            "110/110 [==============================] - 21s 188ms/step - loss: 0.2395 - accuracy: 0.9127\n",
            "Epoch 30/30\n",
            "110/110 [==============================] - 21s 188ms/step - loss: 0.2242 - accuracy: 0.9171\n"
          ],
          "name": "stdout"
        }
      ]
    },
    {
      "cell_type": "markdown",
      "metadata": {
        "id": "owJetCrTFr_S",
        "colab_type": "text"
      },
      "source": [
        "## 5. Test"
      ]
    },
    {
      "cell_type": "code",
      "metadata": {
        "id": "R3HN95nRFs-U",
        "colab_type": "code",
        "outputId": "4e09c71d-189b-4aa7-9f39-871faab27239",
        "colab": {
          "base_uri": "https://localhost:8080/",
          "height": 34
        }
      },
      "source": [
        "loss, acc = network.evaluate(\n",
        "    test_dataset,\n",
        "    batch_size = BATCH_SIZE\n",
        ")"
      ],
      "execution_count": 0,
      "outputs": [
        {
          "output_type": "stream",
          "text": [
            "110/110 [==============================] - 20s 180ms/step - loss: 0.0585 - accuracy: 0.9819\n"
          ],
          "name": "stdout"
        }
      ]
    }
  ]
}