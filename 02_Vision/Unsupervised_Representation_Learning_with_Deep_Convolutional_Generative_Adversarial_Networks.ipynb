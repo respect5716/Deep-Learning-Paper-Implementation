{
  "nbformat": 4,
  "nbformat_minor": 0,
  "metadata": {
    "colab": {
      "name": "Unsupervised Representation Learning with Deep Convolutional Generative Adversarial Networks",
      "provenance": [],
      "collapsed_sections": [],
      "toc_visible": true
    },
    "kernelspec": {
      "name": "python3",
      "display_name": "Python 3"
    },
    "accelerator": "GPU"
  },
  "cells": [
    {
      "cell_type": "markdown",
      "metadata": {
        "id": "wzh7yGxNDluC",
        "colab_type": "text"
      },
      "source": [
        "# Unsupervised Representation Learning with Deep Convolutional Generative Adversarial Networks"
      ]
    },
    {
      "cell_type": "markdown",
      "metadata": {
        "id": "Iki6sM3EDsjS",
        "colab_type": "text"
      },
      "source": [
        "## 0. Paper"
      ]
    },
    {
      "cell_type": "markdown",
      "metadata": {
        "id": "subFe3E5DttM",
        "colab_type": "text"
      },
      "source": [
        "### Info\n",
        "* TItle : Unsupervised Representation Learning with Deep Convolutional Generative Adversarial Networks\n",
        "* Author : Alec Radford et al.\n",
        "* Link : https://arxiv.org/pdf/1511.06434.pdf"
      ]
    },
    {
      "cell_type": "markdown",
      "metadata": {
        "id": "PvL7j-dcEHBW",
        "colab_type": "text"
      },
      "source": [
        "### Summary\n",
        "* (strided) CNN, BN 등의 테크닉으로 GAN 학습 안정화"
      ]
    },
    {
      "cell_type": "markdown",
      "metadata": {
        "id": "vTR7QXvpDz_j",
        "colab_type": "text"
      },
      "source": [
        "### Features\n",
        "* dataset 변경 : LSUN -> Fashion mnist\n",
        "* 차원 수 줄임"
      ]
    },
    {
      "cell_type": "markdown",
      "metadata": {
        "id": "JuaQpOWMD9tz",
        "colab_type": "text"
      },
      "source": [
        "## 1. Setting"
      ]
    },
    {
      "cell_type": "code",
      "metadata": {
        "id": "ZizQk84lEC3L",
        "colab_type": "code",
        "colab": {}
      },
      "source": [
        "# Libraries\n",
        "import os\n",
        "import numpy as np\n",
        "import pandas as pd\n",
        "import seaborn as sns\n",
        "import matplotlib.pyplot as plt\n",
        "\n",
        "import tensorflow as tf\n",
        "import tensorflow_addons as tfa\n",
        "import tensorflow_datasets as tfds\n",
        "import tensorflow.keras.backend as K"
      ],
      "execution_count": null,
      "outputs": []
    },
    {
      "cell_type": "code",
      "metadata": {
        "id": "Wsk7XAE2Lz_g",
        "colab_type": "code",
        "colab": {}
      },
      "source": [
        "# Hyperparameters\n",
        "CONFIG = {\n",
        "    'base_dir' : '/content/drive/Shared drives/Yoon/Project/Doing/Deep Learning Paper Implementation',\n",
        "    'batch_size' : 128,\n",
        "    'd_step_size' : 2,\n",
        "    'g_step_size' : 5,\n",
        "    'step_size' : 3000\n",
        "}"
      ],
      "execution_count": 204,
      "outputs": []
    },
    {
      "cell_type": "markdown",
      "metadata": {
        "id": "Qd9D_aouEVMB",
        "colab_type": "text"
      },
      "source": [
        "## 2. Data"
      ]
    },
    {
      "cell_type": "code",
      "metadata": {
        "id": "xBQceVqIfj8G",
        "colab_type": "code",
        "colab": {}
      },
      "source": [
        "def prep_image(_images):\n",
        "    _images = _images.astype(np.float32)\n",
        "    images = np.zeros((_images.shape[0], 32, 32)).astype(np.float32) # padding\n",
        "    images[:, 2:30, 2:30] = _images\n",
        "    images = (2 * images - 255.0) / 255.0 # -1 ~ 1\n",
        "    images = images[:,:,:,None]\n",
        "    return images"
      ],
      "execution_count": 174,
      "outputs": []
    },
    {
      "cell_type": "code",
      "metadata": {
        "id": "hzYjD0NkEzIs",
        "colab_type": "code",
        "colab": {}
      },
      "source": [
        "(x_train, y_train), (x_test, y_test) = tf.keras.datasets.fashion_mnist.load_data()"
      ],
      "execution_count": 175,
      "outputs": []
    },
    {
      "cell_type": "code",
      "metadata": {
        "id": "gCdnQjRJFn-M",
        "colab_type": "code",
        "colab": {}
      },
      "source": [
        "x_train = prep_image(x_train)\n",
        "x_test = prep_image(x_test)"
      ],
      "execution_count": 176,
      "outputs": []
    },
    {
      "cell_type": "code",
      "metadata": {
        "id": "_nZEs03rfh70",
        "colab_type": "code",
        "colab": {
          "base_uri": "https://localhost:8080/",
          "height": 35
        },
        "outputId": "3f5441ff-0e89-4fde-955f-0626d696e7b1"
      },
      "source": [
        "x_train.shape"
      ],
      "execution_count": 177,
      "outputs": [
        {
          "output_type": "execute_result",
          "data": {
            "text/plain": [
              "(60000, 32, 32, 1)"
            ]
          },
          "metadata": {
            "tags": []
          },
          "execution_count": 177
        }
      ]
    },
    {
      "cell_type": "markdown",
      "metadata": {
        "id": "bLljDsOoFoLN",
        "colab_type": "text"
      },
      "source": [
        "## 3. Model"
      ]
    },
    {
      "cell_type": "code",
      "metadata": {
        "id": "nvgUtrvtOCCJ",
        "colab_type": "code",
        "colab": {}
      },
      "source": [
        "class Generator(tf.keras.Model):\n",
        "    def __init__(self):\n",
        "        super().__init__()\n",
        "        self.fc = tf.keras.layers.Dense(2*2*128, activation='relu', kernel_initializer='random_normal')\n",
        "        self.conv1 = tf.keras.layers.Conv2DTranspose(64, kernel_size=5, strides=2, padding='same', kernel_initializer='random_normal')\n",
        "        self.bn1 = tf.keras.layers.BatchNormalization()\n",
        "        self.conv2 = tf.keras.layers.Conv2DTranspose(32, kernel_size=5, strides=2, padding='same', kernel_initializer='random_normal')\n",
        "        self.bn2 = tf.keras.layers.BatchNormalization()\n",
        "        self.conv3 = tf.keras.layers.Conv2DTranspose(16, kernel_size=5, strides=2, padding='same', kernel_initializer='random_normal')\n",
        "        self.bn3 = tf.keras.layers.BatchNormalization()\n",
        "        self.conv4 = tf.keras.layers.Conv2DTranspose(1, kernel_size=5, strides=2, padding='same', kernel_initializer='random_normal')\n",
        "\n",
        "        self.optimizer = tf.keras.optimizers.Adam(learning_rate=0.0002, beta_1=0.5)\n",
        "\n",
        "    def call(self, z):\n",
        "        x = self.fc(z)\n",
        "        x = tf.reshape(x, (-1, 2, 2, 128)) \n",
        "        x = tf.nn.relu(self.bn1(self.conv1(x)))\n",
        "        x = tf.nn.relu(self.bn2(self.conv2(x)))\n",
        "        x = tf.nn.relu(self.bn3(self.conv3(x)))\n",
        "        x = tf.nn.tanh(self.conv4(x))\n",
        "        return x\n",
        "\n",
        "class Discriminator(tf.keras.Model):\n",
        "    def __init__(self):\n",
        "        super().__init__()\n",
        "        self.conv1 = tf.keras.layers.Conv2D(16, kernel_size=5, strides=2, padding='same', kernel_initializer='random_normal')\n",
        "        self.bn1 = tf.keras.layers.BatchNormalization()\n",
        "        self.conv2 = tf.keras.layers.Conv2D(32, kernel_size=5, strides=2, padding='same', kernel_initializer='random_normal')\n",
        "        self.bn2 = tf.keras.layers.BatchNormalization()\n",
        "        self.conv3 = tf.keras.layers.Conv2D(64, kernel_size=5, strides=2, padding='same', kernel_initializer='random_normal')\n",
        "        self.bn3 = tf.keras.layers.BatchNormalization()\n",
        "        self.conv4 = tf.keras.layers.Conv2D(128, kernel_size=5, strides=2, padding='same', kernel_initializer='random_normal')\n",
        "        self.bn4 = tf.keras.layers.BatchNormalization()\n",
        "        self.flatten = tf.keras.layers.Flatten()\n",
        "        self.fc = tf.keras.layers.Dense(1, activation='sigmoid')\n",
        "\n",
        "        self.optimizer = tf.keras.optimizers.Adam(learning_rate=0.0002, beta_1=0.5)\n",
        "    \n",
        "    def call(self, x):\n",
        "        x = tf.nn.leaky_relu(self.bn1(self.conv1(x)))\n",
        "        x = tf.nn.leaky_relu(self.bn2(self.conv2(x)))\n",
        "        x = tf.nn.leaky_relu(self.bn3(self.conv3(x)))\n",
        "        x = tf.nn.leaky_relu(self.bn4(self.conv4(x)))\n",
        "        x = self.flatten(x)\n",
        "        x = self.fc(x)\n",
        "        return x"
      ],
      "execution_count": 210,
      "outputs": []
    },
    {
      "cell_type": "code",
      "metadata": {
        "id": "wh8Q_7H6RAnt",
        "colab_type": "code",
        "colab": {}
      },
      "source": [
        "g = Generator()\n",
        "d = Discriminator()"
      ],
      "execution_count": 211,
      "outputs": []
    },
    {
      "cell_type": "markdown",
      "metadata": {
        "id": "AILnMW_tFpOG",
        "colab_type": "text"
      },
      "source": [
        "## 4. Train"
      ]
    },
    {
      "cell_type": "code",
      "metadata": {
        "id": "bcORx5HlXTQ4",
        "colab_type": "code",
        "colab": {}
      },
      "source": [
        "@tf.function\n",
        "def d_step(real, fake):\n",
        "    with tf.GradientTape() as tape:\n",
        "        real_loss = -tf.math.log(d(real) + 1e-7)\n",
        "        fake_loss = -tf.math.log(1 - d(fake) + 1e-7)\n",
        "        loss = real_loss + fake_loss\n",
        "    gradients = tape.gradient(loss, d.trainable_variables)\n",
        "    d.optimizer.apply_gradients(zip(gradients, d.trainable_variables))\n",
        "    return tf.reduce_mean(loss)\n",
        "\n",
        "@tf.function\n",
        "def g_step(z):\n",
        "    with tf.GradientTape() as tape:\n",
        "        fake = g(z)\n",
        "        loss = - tf.math.log(d(fake) + 1e-7)\n",
        "    gradients = tape.gradient(loss, g.trainable_variables)\n",
        "    g.optimizer.apply_gradients(zip(gradients, g.trainable_variables))\n",
        "    return tf.reduce_mean(loss)\n",
        "\n",
        "def post_image(images):\n",
        "    images = images.numpy()\n",
        "    images = (255 * images + 255) / 2\n",
        "    images = images.astype(np.int32)\n",
        "    images = images[:,:,:,0]\n",
        "    return images "
      ],
      "execution_count": 212,
      "outputs": []
    },
    {
      "cell_type": "code",
      "metadata": {
        "id": "seLtkwSJX4B7",
        "colab_type": "code",
        "colab": {}
      },
      "source": [
        "for st in range(CONFIG['step_size']):\n",
        "\n",
        "    for _ in range(CONFIG['d_step_size']):\n",
        "        z = np.random.normal(size=(CONFIG['batch_size'], 1000)).astype(np.float32)\n",
        "        fake = g(z)\n",
        "        real = x_train[np.random.permutation(len(x_train))[:CONFIG['batch_size']]]\n",
        "        d_loss = d_step(real, fake)\n",
        "\n",
        "    for _ in range(CONFIG['g_step_size']):\n",
        "        z = np.random.normal(size=(CONFIG['batch_size'], 1000)).astype(np.float32)\n",
        "        g_loss = g_step(z)\n",
        "\n",
        "    if st % 100 == 0:\n",
        "        print(f'STEP : {str(st).zfill(5)} | D Loss : {d_loss.numpy():.3f} | G Loss : {g_loss.numpy():.3f}')\n",
        "        fake = post_image(fake)\n",
        "        plt.imshow(fake[0])\n",
        "        plt.show()"
      ],
      "execution_count": null,
      "outputs": []
    },
    {
      "cell_type": "markdown",
      "metadata": {
        "id": "owJetCrTFr_S",
        "colab_type": "text"
      },
      "source": [
        "## 5. Test"
      ]
    },
    {
      "cell_type": "code",
      "metadata": {
        "id": "R3HN95nRFs-U",
        "colab_type": "code",
        "colab": {}
      },
      "source": [
        "z = np.random.normal(size=(CONFIG['batch_size'], 1000)).astype(np.float32)\n",
        "images = g(z)\n",
        "images = post_image(images)"
      ],
      "execution_count": 214,
      "outputs": []
    },
    {
      "cell_type": "code",
      "metadata": {
        "id": "qchwTR7AZmgm",
        "colab_type": "code",
        "colab": {
          "base_uri": "https://localhost:8080/",
          "height": 266
        },
        "outputId": "f9dd27bc-dd88-4a25-a2cc-e69be0764709"
      },
      "source": [
        "plt.imshow(images[0])\n",
        "plt.show()"
      ],
      "execution_count": 222,
      "outputs": [
        {
          "output_type": "display_data",
          "data": {
            "image/png": "[encoded data removed]",
            "text/plain": [
              "<Figure size 432x288 with 1 Axes>"
            ]
          },
          "metadata": {
            "tags": [],
            "needs_background": "light"
          }
        }
      ]
    }
  ]
}