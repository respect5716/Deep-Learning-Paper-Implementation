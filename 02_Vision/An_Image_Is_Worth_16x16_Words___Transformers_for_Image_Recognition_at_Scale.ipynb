{
  "nbformat": 4,
  "nbformat_minor": 0,
  "metadata": {
    "colab": {
      "name": "An Image Is Worth 16x16 Words _ Transformers for Image Recognition at Scale",
      "provenance": [],
      "collapsed_sections": [],
      "toc_visible": true
    },
    "kernelspec": {
      "name": "python3",
      "display_name": "Python 3"
    },
    "accelerator": "GPU"
  },
  "cells": [
    {
      "cell_type": "markdown",
      "metadata": {
        "id": "wzh7yGxNDluC"
      },
      "source": [
        "# An Image Is Worth 16x16 Words _ Transformers for Image Recognition at Scale"
      ]
    },
    {
      "cell_type": "markdown",
      "metadata": {
        "id": "Iki6sM3EDsjS"
      },
      "source": [
        "## 0. Paper"
      ]
    },
    {
      "cell_type": "markdown",
      "metadata": {
        "id": "subFe3E5DttM"
      },
      "source": [
        "### Info\n",
        "* TItle : An Image Is Worth 16x16 Words _ Transformers for Image Recognition at Scale\n",
        "* Author : Alexey Dosovitskiy\n",
        "* Link : https://arxiv.org/pdf/2010.11929.pdf"
      ]
    },
    {
      "cell_type": "markdown",
      "metadata": {
        "id": "PvL7j-dcEHBW"
      },
      "source": [
        "### Summary\n",
        "* 이미지를 여러 patch로 분리해 token처럼 사용\n",
        "* transformer 모델을 통해 image recognition 수행"
      ]
    },
    {
      "cell_type": "markdown",
      "metadata": {
        "id": "vTR7QXvpDz_j"
      },
      "source": [
        "### Features\n",
        "* dataset : cifar10\n",
        "* test acc가 0.5 수준에서 멈춰있다. 구현 상의 문제는 없는 것 같은데, 정확히 어떤 문제인지 알 수 없다. 논문에서 작은 이미지에서 학습이 제대로 안 된다고 언급한 부분에 해당하는 걸까"
      ]
    },
    {
      "cell_type": "markdown",
      "metadata": {
        "id": "JuaQpOWMD9tz"
      },
      "source": [
        "## 1. Setting"
      ]
    },
    {
      "cell_type": "code",
      "metadata": {
        "id": "ZizQk84lEC3L"
      },
      "source": [
        "# Libraries\n",
        "import os\n",
        "import numpy as np\n",
        "import pandas as pd\n",
        "import seaborn as sns\n",
        "import matplotlib.pyplot as plt\n",
        "\n",
        "import tensorflow as tf\n",
        "import tensorflow_addons as tfa\n",
        "import tensorflow.keras.backend as K"
      ],
      "execution_count": 1,
      "outputs": []
    },
    {
      "cell_type": "code",
      "metadata": {
        "id": "Wsk7XAE2Lz_g"
      },
      "source": [
        "# Hyperparameters\n",
        "CONFIG = {\n",
        "    'base_dir' : '/content/drive/Shared drives/Yoon/Project/Doing/Deep Learning Paper Implementation',\n",
        "    'drop_rate' : 0.1,\n",
        "    'num_head' : 4,\n",
        "    'num_layer' : 16,\n",
        "    'model_dim' : 512,\n",
        "    'patch_size' : 8,\n",
        "    'batch_size' : 256,\n",
        "    'epoch_size' : 100\n",
        "}"
      ],
      "execution_count": 244,
      "outputs": []
    },
    {
      "cell_type": "markdown",
      "metadata": {
        "id": "Qd9D_aouEVMB"
      },
      "source": [
        "## 2. Data"
      ]
    },
    {
      "cell_type": "code",
      "metadata": {
        "id": "oIoP7VcNuE-r"
      },
      "source": [
        "class Dataloader(tf.keras.utils.Sequence):\n",
        "    def __init__(self, x, y, mode):\n",
        "        self.x = x\n",
        "        self.y = y\n",
        "        self.mode = mode\n",
        "        self.on_epoch_end()\n",
        "    \n",
        "    def __len__(self):\n",
        "        return np.ceil(len(self.x) / CONFIG['batch_size']).astype(np.int32)\n",
        "    \n",
        "    def on_epoch_end(self):\n",
        "        if self.mode == 'train':\n",
        "            self.indices = np.random.permutation(len(self.x))\n",
        "        else:\n",
        "            self.indices = np.arange(len(self.x))\n",
        "    \n",
        "    def make_patch(self, x):\n",
        "        patch = []\n",
        "        batch_size = x.shape[0]\n",
        "        seq_len = x.shape[1] // CONFIG['patch_size']\n",
        "        for i in range(seq_len):\n",
        "            _patch = x[:, CONFIG['patch_size']*i:CONFIG['patch_size']*(i+1), CONFIG['patch_size']*i:CONFIG['patch_size']*(i+1), :]\n",
        "            _patch = np.reshape(_patch, (batch_size, -1))\n",
        "            patch.append(_patch)\n",
        "        patch = np.stack(patch, axis=1)\n",
        "        return patch\n",
        "\n",
        "    def __getitem__(self, idx):\n",
        "        batch_idx = self.indices[CONFIG['batch_size'] * idx : CONFIG['batch_size'] * (idx+1)]\n",
        "        batch_x = self.x[batch_idx]\n",
        "        batch_x = self.make_patch(batch_x)\n",
        "        batch_x = batch_x.astype(np.float32) / 255.0\n",
        "        batch_y = self.y[batch_idx][:,0]\n",
        "        return batch_x, batch_y"
      ],
      "execution_count": 245,
      "outputs": []
    },
    {
      "cell_type": "code",
      "metadata": {
        "id": "hzYjD0NkEzIs"
      },
      "source": [
        "(x_train, y_train), (x_test, y_test) = tf.keras.datasets.cifar10.load_data()"
      ],
      "execution_count": 246,
      "outputs": []
    },
    {
      "cell_type": "code",
      "metadata": {
        "id": "gCdnQjRJFn-M"
      },
      "source": [
        "train_loader = Dataloader(x_train, y_train, 'train')\n",
        "test_loader = Dataloader(x_test, y_test, 'test')"
      ],
      "execution_count": 247,
      "outputs": []
    },
    {
      "cell_type": "code",
      "metadata": {
        "id": "49QLwU-3vW_U",
        "outputId": "1c4a9222-5df1-45be-c5ad-d018881a81fe",
        "colab": {
          "base_uri": "https://localhost:8080/"
        }
      },
      "source": [
        "x, y = train_loader.__getitem__(0)\n",
        "x.shape, y.shape"
      ],
      "execution_count": 248,
      "outputs": [
        {
          "output_type": "execute_result",
          "data": {
            "text/plain": [
              "((256, 4, 192), (256,))"
            ]
          },
          "metadata": {
            "tags": []
          },
          "execution_count": 248
        }
      ]
    },
    {
      "cell_type": "markdown",
      "metadata": {
        "id": "bLljDsOoFoLN"
      },
      "source": [
        "## 3. Model"
      ]
    },
    {
      "cell_type": "code",
      "metadata": {
        "id": "2NbRhIkmFo47"
      },
      "source": [
        "class EmbeddingLayer(tf.keras.layers.Layer):\n",
        "    def __init__(self, model_dim, seq_len):\n",
        "        super(EmbeddingLayer, self).__init__()\n",
        "        self.cls = tf.Variable(tf.random.normal((1, 1, model_dim)))\n",
        "        self.embedding = tf.keras.layers.Dense(model_dim)\n",
        "        self.pos = tf.Variable(tf.random.normal((1, seq_len+1, model_dim)))\n",
        "\n",
        "    def call(self, x):\n",
        "        batch_size = tf.shape(x)[0]\n",
        "        x = self.embedding(x)\n",
        "        cls = tf.repeat(self.cls, batch_size, axis=0)\n",
        "        x = tf.concat([cls, x], axis=1)\n",
        "        x += self.pos\n",
        "        return x\n",
        "\n",
        "\n",
        "class MultiHeadAttention(tf.keras.layers.Layer):\n",
        "    def __init__(self, model_dim, num_head, drop_rate):\n",
        "        super(MultiHeadAttention, self).__init__()\n",
        "        self.model_dim = model_dim\n",
        "        self.num_head = num_head\n",
        "        self.projection_dim = self.model_dim // self.num_head\n",
        "        assert self.model_dim % self.num_head == 0\n",
        "\n",
        "        self.qw = tf.keras.layers.Dense(self.model_dim)\n",
        "        self.kw = tf.keras.layers.Dense(self.model_dim)\n",
        "        self.vw = tf.keras.layers.Dense(self.model_dim)\n",
        "        self.w = tf.keras.layers.Dense(self.model_dim)\n",
        "        self.dropout = tf.keras.layers.Dropout(drop_rate)\n",
        "    \n",
        "    def attention(self, q, k ,v, mask):\n",
        "        dim = tf.cast(tf.shape(q)[-1], tf.float32)\n",
        "        score = tf.matmul(q, k, transpose_b=True)\n",
        "        scaled_score = score / tf.math.sqrt(dim)\n",
        "\n",
        "        if mask is not None:\n",
        "            scaled_score += (mask * -1e9)\n",
        "\n",
        "        attention_weights = tf.nn.softmax(scaled_score)\n",
        "        attention_outputs = tf.matmul(attention_weights, v)\n",
        "        return attention_outputs, attention_weights\n",
        "    \n",
        "    def split_heads(self, x):\n",
        "        batch_size = tf.shape(x)[0]\n",
        "        x = tf.reshape(x, (batch_size, -1, self.num_head, self.projection_dim))\n",
        "        x = tf.transpose(x, perm=[0, 2, 1, 3])\n",
        "        return x\n",
        "    \n",
        "    def combine_heads(self, x):\n",
        "        batch_size = tf.shape(x)[0]\n",
        "        x = tf.transpose(x, perm=[0, 2, 1, 3])\n",
        "        x = tf.reshape(x, (batch_size, -1, self.model_dim))\n",
        "        return x\n",
        "    \n",
        "    def call(self, q, k, v, mask=None):\n",
        "        q, k, v = self.qw(q), self.kw(k), self.vw(v)\n",
        "        q, k, v = self.split_heads(q), self.split_heads(k), self.split_heads(v)\n",
        "        outputs, weights = self.attention(q, k, v, mask)\n",
        "        outputs = self.combine_heads(outputs)\n",
        "        outputs = self.w(outputs)\n",
        "        outputs = self.dropout(outputs)\n",
        "        return outputs\n",
        "\n",
        "class FeedForwardNetwork(tf.keras.layers.Layer):\n",
        "    def __init__(self, model_dim, drop_rate):\n",
        "        super(FeedForwardNetwork, self).__init__()\n",
        "        self.dense1 = tf.keras.layers.Dense(model_dim)\n",
        "        self.dropout1 = tf.keras.layers.Dropout(drop_rate)\n",
        "        self.dense2 = tf.keras.layers.Dense(model_dim)\n",
        "        self.dropout2 = tf.keras.layers.Dropout(drop_rate)\n",
        "\n",
        "    @staticmethod\n",
        "    def gelu(x):\n",
        "        cdf = 0.5 * (1.0 + tf.math.erf(x / tf.sqrt(2.0)))\n",
        "        return x * cdf\n",
        "\n",
        "    def call(self, x):\n",
        "        x = self.dense1(x)\n",
        "        x = self.gelu(x)\n",
        "        x = self.dropout1(x)\n",
        "        x = self.dense2(x)\n",
        "        x = self.dropout2(x)\n",
        "        return x\n",
        "\n",
        "class EncoderLayer(tf.keras.layers.Layer):\n",
        "    def __init__(self, model_dim, num_head, drop_rate):\n",
        "        super(EncoderLayer, self).__init__()\n",
        "        self.norm1 = tf.keras.layers.LayerNormalization(epsilon=1e-6)\n",
        "        self.mha = MultiHeadAttention(model_dim, num_head, drop_rate)\n",
        "        self.norm2 = tf.keras.layers.LayerNormalization(epsilon=1e-6)\n",
        "        self.ffn = FeedForwardNetwork(model_dim, drop_rate)\n",
        "\n",
        "    def call(self, x, training):\n",
        "        inputs = x\n",
        "        x = self.norm1(x)\n",
        "        x = self.mha(x, x, x)\n",
        "        x += inputs\n",
        "\n",
        "        inputs = x\n",
        "        x = self.norm2(x)\n",
        "        x = self.ffn(x)\n",
        "        x += inputs\n",
        "        return x\n",
        "\n",
        "class OutputLayer(tf.keras.layers.Layer):\n",
        "    def __init__(self, num_class):\n",
        "        super(OutputLayer, self).__init__()\n",
        "        self.norm = tf.keras.layers.LayerNormalization(epsilon=1e-6)\n",
        "        self.dense = tf.keras.layers.Dense(num_class, activation='softmax')\n",
        "    \n",
        "    def call(self, x):\n",
        "        x = self.norm(x[:, 0, :])\n",
        "        outputs = self.dense(x)\n",
        "        return outputs\n",
        "\n",
        "class Model(tf.keras.Model):\n",
        "    def __init__(self, seq_len,  num_class):\n",
        "        super(Model, self).__init__()\n",
        "        self.embedding = EmbeddingLayer(CONFIG['model_dim'], seq_len)\n",
        "        self.encoders = [EncoderLayer(CONFIG['model_dim'], CONFIG['num_head'], CONFIG['drop_rate']) for _ in range(CONFIG['num_layer'])]\n",
        "        self.output_layer = OutputLayer(num_class)\n",
        "    \n",
        "    def call(self, x, training):\n",
        "        x = self.embedding(x)\n",
        "        for i in range(CONFIG['num_layer']):\n",
        "            x = self.encoders[i](x, training=training)\n",
        "        outputs = self.output_layer(x)\n",
        "        return outputs"
      ],
      "execution_count": 249,
      "outputs": []
    },
    {
      "cell_type": "code",
      "metadata": {
        "id": "J_7_PUNrFpCS"
      },
      "source": [
        "model = Model(seq_len=4, num_class=10)\n",
        "\n",
        "model.compile(\n",
        "    loss = 'sparse_categorical_crossentropy',\n",
        "    metrics = ['acc'],\n",
        "    optimizer = tf.keras.optimizers.Adam()\n",
        ")"
      ],
      "execution_count": 250,
      "outputs": []
    },
    {
      "cell_type": "markdown",
      "metadata": {
        "id": "AILnMW_tFpOG"
      },
      "source": [
        "## 4. Train"
      ]
    },
    {
      "cell_type": "code",
      "metadata": {
        "id": "bhyQw7zyFq8B",
        "outputId": "754887f6-3be2-43a6-ef1e-4c259c2cb5a6",
        "colab": {
          "base_uri": "https://localhost:8080/"
        }
      },
      "source": [
        "hist = model.fit(\n",
        "    train_loader,\n",
        "    validation_data = test_loader,\n",
        "    epochs = CONFIG['epoch_size']\n",
        ")"
      ],
      "execution_count": 251,
      "outputs": [
        {
          "output_type": "stream",
          "text": [
            "Epoch 1/100\n",
            "196/196 [==============================] - 19s 95ms/step - loss: 2.5637 - acc: 0.1030 - val_loss: 2.3104 - val_acc: 0.1351\n",
            "Epoch 2/100\n",
            "196/196 [==============================] - 15s 78ms/step - loss: 2.1723 - acc: 0.1764 - val_loss: 2.0037 - val_acc: 0.2627\n",
            "Epoch 3/100\n",
            "196/196 [==============================] - 15s 78ms/step - loss: 1.9555 - acc: 0.2856 - val_loss: 1.9298 - val_acc: 0.3047\n",
            "Epoch 4/100\n",
            "196/196 [==============================] - 15s 78ms/step - loss: 1.9279 - acc: 0.2939 - val_loss: 1.8922 - val_acc: 0.3109\n",
            "Epoch 5/100\n",
            "196/196 [==============================] - 15s 78ms/step - loss: 1.8701 - acc: 0.3242 - val_loss: 1.8320 - val_acc: 0.3400\n",
            "Epoch 6/100\n",
            "196/196 [==============================] - 15s 78ms/step - loss: 1.8938 - acc: 0.3091 - val_loss: 1.8182 - val_acc: 0.3323\n",
            "Epoch 7/100\n",
            "196/196 [==============================] - 15s 78ms/step - loss: 1.8199 - acc: 0.3425 - val_loss: 1.7315 - val_acc: 0.3769\n",
            "Epoch 8/100\n",
            "196/196 [==============================] - 15s 77ms/step - loss: 1.7341 - acc: 0.3736 - val_loss: 1.6790 - val_acc: 0.3961\n",
            "Epoch 9/100\n",
            "196/196 [==============================] - 15s 77ms/step - loss: 1.6946 - acc: 0.3874 - val_loss: 1.6948 - val_acc: 0.3887\n",
            "Epoch 10/100\n",
            "196/196 [==============================] - 15s 77ms/step - loss: 1.6653 - acc: 0.4021 - val_loss: 1.6134 - val_acc: 0.4189\n",
            "Epoch 11/100\n",
            "196/196 [==============================] - 15s 77ms/step - loss: 1.6281 - acc: 0.4140 - val_loss: 1.6115 - val_acc: 0.4168\n",
            "Epoch 12/100\n",
            "196/196 [==============================] - 16s 79ms/step - loss: 1.6048 - acc: 0.4231 - val_loss: 1.6259 - val_acc: 0.4186\n",
            "Epoch 13/100\n",
            "196/196 [==============================] - 15s 78ms/step - loss: 1.5783 - acc: 0.4345 - val_loss: 1.5531 - val_acc: 0.4411\n",
            "Epoch 14/100\n",
            "196/196 [==============================] - 15s 77ms/step - loss: 1.5514 - acc: 0.4435 - val_loss: 1.5741 - val_acc: 0.4366\n",
            "Epoch 15/100\n",
            "196/196 [==============================] - 15s 77ms/step - loss: 1.5478 - acc: 0.4449 - val_loss: 1.5806 - val_acc: 0.4367\n",
            "Epoch 16/100\n",
            "196/196 [==============================] - 15s 77ms/step - loss: 1.5206 - acc: 0.4546 - val_loss: 1.5200 - val_acc: 0.4584\n",
            "Epoch 17/100\n",
            "196/196 [==============================] - 15s 77ms/step - loss: 1.5073 - acc: 0.4597 - val_loss: 1.5244 - val_acc: 0.4546\n",
            "Epoch 18/100\n",
            "196/196 [==============================] - 15s 77ms/step - loss: 1.6012 - acc: 0.4194 - val_loss: 1.5504 - val_acc: 0.4474\n",
            "Epoch 19/100\n",
            "196/196 [==============================] - 15s 77ms/step - loss: 1.5037 - acc: 0.4594 - val_loss: 1.5680 - val_acc: 0.4383\n",
            "Epoch 20/100\n",
            "196/196 [==============================] - 15s 77ms/step - loss: 1.5294 - acc: 0.4497 - val_loss: 1.5247 - val_acc: 0.4464\n",
            "Epoch 21/100\n",
            "196/196 [==============================] - 15s 77ms/step - loss: 1.4822 - acc: 0.4684 - val_loss: 1.4816 - val_acc: 0.4702\n",
            "Epoch 22/100\n",
            "196/196 [==============================] - 15s 78ms/step - loss: 1.4696 - acc: 0.4717 - val_loss: 1.5163 - val_acc: 0.4541\n",
            "Epoch 23/100\n",
            "196/196 [==============================] - 15s 78ms/step - loss: 1.4689 - acc: 0.4739 - val_loss: 1.4928 - val_acc: 0.4692\n",
            "Epoch 24/100\n",
            "196/196 [==============================] - 15s 77ms/step - loss: 1.4252 - acc: 0.4898 - val_loss: 1.4751 - val_acc: 0.4716\n",
            "Epoch 25/100\n",
            "196/196 [==============================] - 15s 78ms/step - loss: 1.4093 - acc: 0.4950 - val_loss: 1.5066 - val_acc: 0.4627\n",
            "Epoch 26/100\n",
            "196/196 [==============================] - 15s 77ms/step - loss: 1.4350 - acc: 0.4852 - val_loss: 1.4842 - val_acc: 0.4713\n",
            "Epoch 27/100\n",
            "196/196 [==============================] - 15s 77ms/step - loss: 1.3733 - acc: 0.5094 - val_loss: 1.4426 - val_acc: 0.4884\n",
            "Epoch 28/100\n",
            "196/196 [==============================] - 15s 77ms/step - loss: 1.3594 - acc: 0.5147 - val_loss: 1.4531 - val_acc: 0.4806\n",
            "Epoch 29/100\n",
            "196/196 [==============================] - 15s 77ms/step - loss: 1.3358 - acc: 0.5233 - val_loss: 1.4495 - val_acc: 0.4894\n",
            "Epoch 30/100\n",
            "196/196 [==============================] - 15s 77ms/step - loss: 1.3077 - acc: 0.5331 - val_loss: 1.4306 - val_acc: 0.4892\n",
            "Epoch 31/100\n",
            "196/196 [==============================] - 15s 77ms/step - loss: 1.2824 - acc: 0.5424 - val_loss: 1.4614 - val_acc: 0.4827\n",
            "Epoch 32/100\n",
            "196/196 [==============================] - 15s 78ms/step - loss: 1.2685 - acc: 0.5489 - val_loss: 1.4595 - val_acc: 0.4907\n",
            "Epoch 33/100\n",
            "196/196 [==============================] - 16s 79ms/step - loss: 1.2361 - acc: 0.5583 - val_loss: 1.4346 - val_acc: 0.4932\n",
            "Epoch 34/100\n",
            "196/196 [==============================] - 15s 77ms/step - loss: 1.2135 - acc: 0.5657 - val_loss: 1.4299 - val_acc: 0.4973\n",
            "Epoch 35/100\n",
            "196/196 [==============================] - 15s 77ms/step - loss: 1.1991 - acc: 0.5700 - val_loss: 1.4658 - val_acc: 0.4951\n",
            "Epoch 36/100\n",
            "196/196 [==============================] - 15s 77ms/step - loss: 1.1722 - acc: 0.5788 - val_loss: 1.4795 - val_acc: 0.4770\n",
            "Epoch 37/100\n",
            "196/196 [==============================] - 15s 76ms/step - loss: 1.1424 - acc: 0.5898 - val_loss: 1.4922 - val_acc: 0.4854\n",
            "Epoch 38/100\n",
            "196/196 [==============================] - 15s 77ms/step - loss: 1.0937 - acc: 0.6060 - val_loss: 1.5241 - val_acc: 0.4940\n",
            "Epoch 39/100\n",
            "196/196 [==============================] - 15s 77ms/step - loss: 1.0540 - acc: 0.6193 - val_loss: 1.5408 - val_acc: 0.4899\n",
            "Epoch 40/100\n",
            "196/196 [==============================] - 15s 77ms/step - loss: 1.0132 - acc: 0.6353 - val_loss: 1.5807 - val_acc: 0.4898\n",
            "Epoch 41/100\n",
            "196/196 [==============================] - 15s 76ms/step - loss: 0.9649 - acc: 0.6518 - val_loss: 1.6254 - val_acc: 0.4882\n",
            "Epoch 42/100\n",
            "196/196 [==============================] - 15s 77ms/step - loss: 0.9149 - acc: 0.6682 - val_loss: 1.6211 - val_acc: 0.4877\n",
            "Epoch 43/100\n",
            "196/196 [==============================] - 15s 77ms/step - loss: 0.9157 - acc: 0.6686 - val_loss: 1.6070 - val_acc: 0.4933\n",
            "Epoch 44/100\n",
            "196/196 [==============================] - 15s 78ms/step - loss: 0.8264 - acc: 0.7025 - val_loss: 1.7447 - val_acc: 0.4833\n",
            "Epoch 45/100\n",
            "196/196 [==============================] - 15s 77ms/step - loss: 0.7665 - acc: 0.7199 - val_loss: 1.8004 - val_acc: 0.4800\n",
            "Epoch 46/100\n",
            "196/196 [==============================] - 15s 77ms/step - loss: 0.7332 - acc: 0.7344 - val_loss: 1.8318 - val_acc: 0.4804\n",
            "Epoch 47/100\n",
            "196/196 [==============================] - 15s 77ms/step - loss: 0.6620 - acc: 0.7600 - val_loss: 1.9486 - val_acc: 0.4725\n",
            "Epoch 48/100\n",
            "196/196 [==============================] - 15s 78ms/step - loss: 0.6141 - acc: 0.7742 - val_loss: 2.0896 - val_acc: 0.4710\n",
            "Epoch 49/100\n",
            "196/196 [==============================] - 15s 77ms/step - loss: 0.5882 - acc: 0.7857 - val_loss: 2.1805 - val_acc: 0.4739\n",
            "Epoch 50/100\n",
            "196/196 [==============================] - 15s 78ms/step - loss: 0.5262 - acc: 0.8073 - val_loss: 2.2263 - val_acc: 0.4769\n",
            "Epoch 51/100\n",
            "196/196 [==============================] - 15s 77ms/step - loss: 0.4762 - acc: 0.8274 - val_loss: 2.2977 - val_acc: 0.4682\n",
            "Epoch 52/100\n",
            "196/196 [==============================] - 15s 77ms/step - loss: 0.4358 - acc: 0.8397 - val_loss: 2.4671 - val_acc: 0.4715\n",
            "Epoch 53/100\n",
            "196/196 [==============================] - 16s 80ms/step - loss: 0.4009 - acc: 0.8524 - val_loss: 2.5921 - val_acc: 0.4683\n",
            "Epoch 54/100\n",
            "196/196 [==============================] - 15s 77ms/step - loss: 0.4155 - acc: 0.8478 - val_loss: 2.4769 - val_acc: 0.4711\n",
            "Epoch 55/100\n",
            "196/196 [==============================] - 15s 77ms/step - loss: 0.4848 - acc: 0.8229 - val_loss: 2.0788 - val_acc: 0.4694\n",
            "Epoch 56/100\n",
            "196/196 [==============================] - 15s 77ms/step - loss: 0.4777 - acc: 0.8254 - val_loss: 2.1231 - val_acc: 0.4860\n",
            "Epoch 57/100\n",
            "196/196 [==============================] - 15s 77ms/step - loss: 0.4474 - acc: 0.8375 - val_loss: 2.3145 - val_acc: 0.4717\n",
            "Epoch 58/100\n",
            "196/196 [==============================] - 15s 77ms/step - loss: 0.4346 - acc: 0.8418 - val_loss: 2.2092 - val_acc: 0.4842\n",
            "Epoch 59/100\n",
            "196/196 [==============================] - 15s 77ms/step - loss: 0.4156 - acc: 0.8485 - val_loss: 2.3362 - val_acc: 0.4792\n",
            "Epoch 60/100\n",
            "196/196 [==============================] - 15s 78ms/step - loss: 0.3883 - acc: 0.8586 - val_loss: 2.3992 - val_acc: 0.4776\n",
            "Epoch 61/100\n",
            "196/196 [==============================] - 15s 77ms/step - loss: 0.3842 - acc: 0.8629 - val_loss: 2.4331 - val_acc: 0.4824\n",
            "Epoch 62/100\n",
            "196/196 [==============================] - 15s 77ms/step - loss: 0.3425 - acc: 0.8747 - val_loss: 2.4522 - val_acc: 0.4804\n",
            "Epoch 63/100\n",
            "196/196 [==============================] - 15s 78ms/step - loss: 0.3407 - acc: 0.8758 - val_loss: 2.5053 - val_acc: 0.4755\n",
            "Epoch 64/100\n",
            "196/196 [==============================] - 15s 78ms/step - loss: 0.3281 - acc: 0.8800 - val_loss: 2.5764 - val_acc: 0.4743\n",
            "Epoch 65/100\n",
            "196/196 [==============================] - 15s 78ms/step - loss: 0.3459 - acc: 0.8749 - val_loss: 2.4347 - val_acc: 0.4682\n",
            "Epoch 66/100\n",
            "196/196 [==============================] - 15s 77ms/step - loss: 0.3314 - acc: 0.8795 - val_loss: 2.5622 - val_acc: 0.4750\n",
            "Epoch 67/100\n",
            "196/196 [==============================] - 15s 77ms/step - loss: 0.2776 - acc: 0.9012 - val_loss: 2.7762 - val_acc: 0.4810\n",
            "Epoch 68/100\n",
            "196/196 [==============================] - 15s 77ms/step - loss: 0.2636 - acc: 0.9042 - val_loss: 2.7008 - val_acc: 0.4784\n",
            "Epoch 69/100\n",
            "196/196 [==============================] - 15s 77ms/step - loss: 0.2538 - acc: 0.9087 - val_loss: 2.7903 - val_acc: 0.4798\n",
            "Epoch 70/100\n",
            "196/196 [==============================] - 15s 78ms/step - loss: 0.2475 - acc: 0.9110 - val_loss: 2.8082 - val_acc: 0.4836\n",
            "Epoch 71/100\n",
            "196/196 [==============================] - 15s 78ms/step - loss: 0.2380 - acc: 0.9155 - val_loss: 2.8207 - val_acc: 0.4765\n",
            "Epoch 72/100\n",
            "196/196 [==============================] - 15s 78ms/step - loss: 0.2402 - acc: 0.9136 - val_loss: 2.8272 - val_acc: 0.4716\n",
            "Epoch 73/100\n",
            "196/196 [==============================] - 15s 79ms/step - loss: 0.2298 - acc: 0.9171 - val_loss: 2.8694 - val_acc: 0.4810\n",
            "Epoch 74/100\n",
            "196/196 [==============================] - 16s 80ms/step - loss: 0.2195 - acc: 0.9214 - val_loss: 2.9208 - val_acc: 0.4776\n",
            "Epoch 75/100\n",
            "196/196 [==============================] - 15s 78ms/step - loss: 0.2243 - acc: 0.9198 - val_loss: 3.2831 - val_acc: 0.4544\n",
            "Epoch 76/100\n",
            "196/196 [==============================] - 15s 78ms/step - loss: 0.1739 - acc: 0.9388 - val_loss: 3.4178 - val_acc: 0.4785\n",
            "Epoch 77/100\n",
            "196/196 [==============================] - 15s 77ms/step - loss: 0.1171 - acc: 0.9588 - val_loss: 3.7708 - val_acc: 0.4675\n",
            "Epoch 78/100\n",
            "196/196 [==============================] - 15s 78ms/step - loss: 0.1104 - acc: 0.9615 - val_loss: 3.8693 - val_acc: 0.4721\n",
            "Epoch 79/100\n",
            "196/196 [==============================] - 15s 78ms/step - loss: 0.1779 - acc: 0.9377 - val_loss: 3.0912 - val_acc: 0.4768\n",
            "Epoch 80/100\n",
            "196/196 [==============================] - 15s 77ms/step - loss: 0.2133 - acc: 0.9241 - val_loss: 2.9272 - val_acc: 0.4810\n",
            "Epoch 81/100\n",
            "196/196 [==============================] - 15s 78ms/step - loss: 0.1626 - acc: 0.9434 - val_loss: 3.0346 - val_acc: 0.4799\n",
            "Epoch 82/100\n",
            "196/196 [==============================] - 15s 77ms/step - loss: 0.2408 - acc: 0.9167 - val_loss: 3.1952 - val_acc: 0.4748\n",
            "Epoch 83/100\n",
            "196/196 [==============================] - 15s 78ms/step - loss: 0.1483 - acc: 0.9479 - val_loss: 3.3665 - val_acc: 0.4769\n",
            "Epoch 84/100\n",
            "196/196 [==============================] - 15s 77ms/step - loss: 0.1051 - acc: 0.9630 - val_loss: 3.2608 - val_acc: 0.4699\n",
            "Epoch 85/100\n",
            "196/196 [==============================] - 15s 77ms/step - loss: 0.2037 - acc: 0.9281 - val_loss: 2.9246 - val_acc: 0.4816\n",
            "Epoch 86/100\n",
            "196/196 [==============================] - 15s 77ms/step - loss: 0.1365 - acc: 0.9518 - val_loss: 3.5887 - val_acc: 0.4761\n",
            "Epoch 87/100\n",
            "196/196 [==============================] - 15s 78ms/step - loss: 0.0970 - acc: 0.9662 - val_loss: 3.6489 - val_acc: 0.4678\n",
            "Epoch 88/100\n",
            "196/196 [==============================] - 15s 77ms/step - loss: 0.1254 - acc: 0.9567 - val_loss: 3.7748 - val_acc: 0.4723\n",
            "Epoch 89/100\n",
            "196/196 [==============================] - 15s 77ms/step - loss: 0.1064 - acc: 0.9625 - val_loss: 3.7606 - val_acc: 0.4723\n",
            "Epoch 90/100\n",
            "196/196 [==============================] - 15s 77ms/step - loss: 0.0888 - acc: 0.9692 - val_loss: 4.0770 - val_acc: 0.4697\n",
            "Epoch 91/100\n",
            "196/196 [==============================] - 15s 78ms/step - loss: 0.0856 - acc: 0.9700 - val_loss: 4.3005 - val_acc: 0.4578\n",
            "Epoch 92/100\n",
            "196/196 [==============================] - 15s 77ms/step - loss: 0.1064 - acc: 0.9626 - val_loss: 3.8972 - val_acc: 0.4643\n",
            "Epoch 93/100\n",
            "196/196 [==============================] - 15s 78ms/step - loss: 0.0932 - acc: 0.9673 - val_loss: 3.9820 - val_acc: 0.4718\n",
            "Epoch 94/100\n",
            "196/196 [==============================] - 16s 80ms/step - loss: 0.0790 - acc: 0.9724 - val_loss: 4.1447 - val_acc: 0.4660\n",
            "Epoch 95/100\n",
            "196/196 [==============================] - 15s 78ms/step - loss: 0.0825 - acc: 0.9713 - val_loss: 4.1622 - val_acc: 0.4754\n",
            "Epoch 96/100\n",
            "196/196 [==============================] - 15s 78ms/step - loss: 0.0830 - acc: 0.9699 - val_loss: 4.2234 - val_acc: 0.4664\n",
            "Epoch 97/100\n",
            "196/196 [==============================] - 15s 78ms/step - loss: 0.1358 - acc: 0.9526 - val_loss: 3.5499 - val_acc: 0.4637\n",
            "Epoch 98/100\n",
            "196/196 [==============================] - 15s 77ms/step - loss: 0.1013 - acc: 0.9649 - val_loss: 4.0562 - val_acc: 0.4696\n",
            "Epoch 99/100\n",
            "196/196 [==============================] - 15s 77ms/step - loss: 0.0699 - acc: 0.9760 - val_loss: 4.1085 - val_acc: 0.4674\n",
            "Epoch 100/100\n",
            "196/196 [==============================] - 15s 77ms/step - loss: 0.1477 - acc: 0.9512 - val_loss: 3.6443 - val_acc: 0.4680\n"
          ],
          "name": "stdout"
        }
      ]
    },
    {
      "cell_type": "markdown",
      "metadata": {
        "id": "owJetCrTFr_S"
      },
      "source": [
        "## 5. Test"
      ]
    },
    {
      "cell_type": "code",
      "metadata": {
        "id": "R3HN95nRFs-U",
        "outputId": "3c04ee31-b656-4364-bf7f-4bf0453ed511",
        "colab": {
          "base_uri": "https://localhost:8080/",
          "height": 281
        }
      },
      "source": [
        "plt.plot(hist.history['acc'])\n",
        "plt.plot(hist.history['val_acc'])\n",
        "plt.legend(['train', 'test'])\n",
        "plt.title('Accuracy')\n",
        "plt.show()"
      ],
      "execution_count": 256,
      "outputs": [
        {
          "output_type": "display_data",
          "data": {
            "image/png": "[encoded data removed]",
            "text/plain": [
              "<Figure size 432x288 with 1 Axes>"
            ]
          },
          "metadata": {
            "tags": [],
            "needs_background": "light"
          }
        }
      ]
    },
    {
      "cell_type": "code",
      "metadata": {
        "id": "g9CWqhaEFtNA"
      },
      "source": [
        ""
      ],
      "execution_count": null,
      "outputs": []
    }
  ]
}